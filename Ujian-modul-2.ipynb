{
 "cells": [
  {
   "cell_type": "markdown",
   "metadata": {},
   "source": [
    "# Ujian Modul 2 - Purwadhika Data Science JC Program\n",
    "\n",
    "## Context - Taken from Kaggle\n",
    "Did you know that claims can be filed against TSA? Sometimes US Terminal Security Agency (TSA) makes mistakes. People can get hurt and property can be damaged, lost, or stolen. Claims are generally filed against TSA for personal injuries and lost or damaged property during screenings and they keep records of every claim!\n",
    "\n",
    "### Content\n",
    "The dataset includes claims filed between 2002 through 2015.\n",
    "\n",
    "1. Claim Number\n",
    "1. Date Received\n",
    "1. Incident Date\n",
    "1. Airport Code\n",
    "1. Airport Name\n",
    "1. Airline Name\n",
    "1. Claim Type\n",
    "1. Claim Site\n",
    "1. Item\n",
    "1. Claim Amount\n",
    "1. Status\n",
    "1. Close Amount\n",
    "1. Disposition\n",
    "\n",
    "This data is coming from the Kaggle Dataset that contain the data of clain the been filed into the TSA. We would try to explore the data and clean the data partially (we would not clean and analyze everything as it would take more time than necessary) and we would only use 25% data from the original dataset.\n",
    "\n",
    "This exam scoring would be explained below:\n",
    "\n",
    "- This Notebook would have total score of 80 (+ 10 Bonus POINT for Bonus Question), which consist of:\n",
    "    - 40 POINT for the Question part (10 point for each question)\n",
    "    - 40 POINT for the preprocessing part by following the guide\n",
    "- The Dashboard would yield 20 POINT\n",
    "- The Maximum Score would be still 100, Bonus Question is just a Bonus. Work it if you have an extra time and already sure about all your other answer (or not sure about the other question, and need this bonus question to help)\n",
    "\n",
    "When you finish, upload your notebook contain all the answers and the script for the dashboard to your github. You do not need to upload the .csv file. "
   ]
  },
  {
   "cell_type": "markdown",
   "metadata": {},
   "source": [
    "Try to read the data and show all the important info first. For starter, try to understand what each column represent."
   ]
  },
  {
   "cell_type": "code",
   "execution_count": 552,
   "metadata": {
    "ExecuteTime": {
     "end_time": "2020-04-24T11:12:13.169350Z",
     "start_time": "2020-04-24T11:12:13.153488Z"
    }
   },
   "outputs": [],
   "source": [
    "import pandas as pd\n",
    "import numpy as np\n",
    "import matplotlib.pyplot as plt\n",
    "\n",
    "%matplotlib inline"
   ]
  },
  {
   "cell_type": "code",
   "execution_count": 553,
   "metadata": {
    "ExecuteTime": {
     "end_time": "2020-04-24T11:12:13.698164Z",
     "start_time": "2020-04-24T11:12:13.195213Z"
    }
   },
   "outputs": [],
   "source": [
    "tsa = pd.read_csv('tsa_claims_ujian.csv')"
   ]
  },
  {
   "cell_type": "code",
   "execution_count": 554,
   "metadata": {
    "ExecuteTime": {
     "end_time": "2020-04-24T11:12:13.751300Z",
     "start_time": "2020-04-24T11:12:13.702123Z"
    }
   },
   "outputs": [
    {
     "data": {
      "text/html": [
       "<div>\n",
       "<style scoped>\n",
       "    .dataframe tbody tr th:only-of-type {\n",
       "        vertical-align: middle;\n",
       "    }\n",
       "\n",
       "    .dataframe tbody tr th {\n",
       "        vertical-align: top;\n",
       "    }\n",
       "\n",
       "    .dataframe thead th {\n",
       "        text-align: right;\n",
       "    }\n",
       "</style>\n",
       "<table border=\"1\" class=\"dataframe\">\n",
       "  <thead>\n",
       "    <tr style=\"text-align: right;\">\n",
       "      <th></th>\n",
       "      <th>Claim Number</th>\n",
       "      <th>Date Received</th>\n",
       "      <th>Incident Date</th>\n",
       "      <th>Airport Code</th>\n",
       "      <th>Airport Name</th>\n",
       "      <th>Airline Name</th>\n",
       "      <th>Claim Type</th>\n",
       "      <th>Claim Site</th>\n",
       "      <th>Item</th>\n",
       "      <th>Claim Amount</th>\n",
       "      <th>Status</th>\n",
       "      <th>Close Amount</th>\n",
       "      <th>Disposition</th>\n",
       "    </tr>\n",
       "  </thead>\n",
       "  <tbody>\n",
       "    <tr>\n",
       "      <td>0</td>\n",
       "      <td>0909816M</td>\n",
       "      <td>7-Feb-02</td>\n",
       "      <td>1/6/2003 0:00</td>\n",
       "      <td>MIA</td>\n",
       "      <td>Miami International Airport</td>\n",
       "      <td>American Airlines</td>\n",
       "      <td>Property Damage</td>\n",
       "      <td>Checkpoint</td>\n",
       "      <td>Luggage (all types including footlockers)</td>\n",
       "      <td>$50.00</td>\n",
       "      <td>Approved</td>\n",
       "      <td>$50.00</td>\n",
       "      <td>Approve in Full</td>\n",
       "    </tr>\n",
       "    <tr>\n",
       "      <td>1</td>\n",
       "      <td>14268</td>\n",
       "      <td>20-Jun-02</td>\n",
       "      <td>6/16/2002 0:00</td>\n",
       "      <td>PHX</td>\n",
       "      <td>Phoenix Sky Harbor International</td>\n",
       "      <td>NaN</td>\n",
       "      <td>Property Damage</td>\n",
       "      <td>Checkpoint</td>\n",
       "      <td>Computer - Laptop</td>\n",
       "      <td>$2;270.09</td>\n",
       "      <td>Canceled</td>\n",
       "      <td>NaN</td>\n",
       "      <td>NaN</td>\n",
       "    </tr>\n",
       "    <tr>\n",
       "      <td>2</td>\n",
       "      <td>15242</td>\n",
       "      <td>12-Jul-02</td>\n",
       "      <td>5/31/2002 0:00</td>\n",
       "      <td>BWI</td>\n",
       "      <td>Baltimore/Washington Intl Thurgood Marshall</td>\n",
       "      <td>American Airlines</td>\n",
       "      <td>NaN</td>\n",
       "      <td>Other</td>\n",
       "      <td>Luggage (all types including footlockers)</td>\n",
       "      <td>$200.00</td>\n",
       "      <td>Denied</td>\n",
       "      <td>$0.00</td>\n",
       "      <td>Deny</td>\n",
       "    </tr>\n",
       "    <tr>\n",
       "      <td>3</td>\n",
       "      <td>16759</td>\n",
       "      <td>21-Aug-02</td>\n",
       "      <td>7/12/2002 0:00</td>\n",
       "      <td>BWI</td>\n",
       "      <td>Baltimore/Washington Intl Thurgood Marshall</td>\n",
       "      <td>Southwest Airlines</td>\n",
       "      <td>Passenger Property Loss</td>\n",
       "      <td>Checkpoint</td>\n",
       "      <td>Other</td>\n",
       "      <td>$21.44</td>\n",
       "      <td>Approved</td>\n",
       "      <td>$21.00</td>\n",
       "      <td>Approve in Full</td>\n",
       "    </tr>\n",
       "    <tr>\n",
       "      <td>4</td>\n",
       "      <td>17846</td>\n",
       "      <td>9-Sep-02</td>\n",
       "      <td>8/30/2002 0:00</td>\n",
       "      <td>BOS</td>\n",
       "      <td>Boston (Logan) International Airport</td>\n",
       "      <td>NaN</td>\n",
       "      <td>Property Damage</td>\n",
       "      <td>Checkpoint</td>\n",
       "      <td>Luggage (all types including footlockers)</td>\n",
       "      <td>$1;832.22</td>\n",
       "      <td>Canceled</td>\n",
       "      <td>$0.00</td>\n",
       "      <td>NaN</td>\n",
       "    </tr>\n",
       "  </tbody>\n",
       "</table>\n",
       "</div>"
      ],
      "text/plain": [
       "  Claim Number Date Received   Incident Date Airport Code  \\\n",
       "0     0909816M      7-Feb-02   1/6/2003 0:00          MIA   \n",
       "1        14268     20-Jun-02  6/16/2002 0:00          PHX   \n",
       "2        15242     12-Jul-02  5/31/2002 0:00          BWI   \n",
       "3        16759     21-Aug-02  7/12/2002 0:00          BWI   \n",
       "4        17846      9-Sep-02  8/30/2002 0:00          BOS   \n",
       "\n",
       "                                  Airport Name        Airline Name  \\\n",
       "0                  Miami International Airport   American Airlines   \n",
       "1             Phoenix Sky Harbor International                 NaN   \n",
       "2  Baltimore/Washington Intl Thurgood Marshall   American Airlines   \n",
       "3  Baltimore/Washington Intl Thurgood Marshall  Southwest Airlines   \n",
       "4         Boston (Logan) International Airport                 NaN   \n",
       "\n",
       "                Claim Type  Claim Site  \\\n",
       "0          Property Damage  Checkpoint   \n",
       "1          Property Damage  Checkpoint   \n",
       "2                      NaN       Other   \n",
       "3  Passenger Property Loss  Checkpoint   \n",
       "4          Property Damage  Checkpoint   \n",
       "\n",
       "                                        Item Claim Amount    Status  \\\n",
       "0  Luggage (all types including footlockers)      $50.00   Approved   \n",
       "1                          Computer - Laptop   $2;270.09   Canceled   \n",
       "2  Luggage (all types including footlockers)     $200.00     Denied   \n",
       "3                                      Other      $21.44   Approved   \n",
       "4  Luggage (all types including footlockers)   $1;832.22   Canceled   \n",
       "\n",
       "  Close Amount      Disposition  \n",
       "0      $50.00   Approve in Full  \n",
       "1          NaN              NaN  \n",
       "2       $0.00              Deny  \n",
       "3      $21.00   Approve in Full  \n",
       "4       $0.00               NaN  "
      ]
     },
     "execution_count": 554,
     "metadata": {},
     "output_type": "execute_result"
    }
   ],
   "source": [
    "tsa.head()"
   ]
  },
  {
   "cell_type": "code",
   "execution_count": 555,
   "metadata": {
    "ExecuteTime": {
     "end_time": "2020-04-24T11:12:13.919615Z",
     "start_time": "2020-04-24T11:12:13.757754Z"
    }
   },
   "outputs": [
    {
     "data": {
      "text/html": [
       "<div>\n",
       "<style scoped>\n",
       "    .dataframe tbody tr th:only-of-type {\n",
       "        vertical-align: middle;\n",
       "    }\n",
       "\n",
       "    .dataframe tbody tr th {\n",
       "        vertical-align: top;\n",
       "    }\n",
       "\n",
       "    .dataframe thead th {\n",
       "        text-align: right;\n",
       "    }\n",
       "</style>\n",
       "<table border=\"1\" class=\"dataframe\">\n",
       "  <thead>\n",
       "    <tr style=\"text-align: right;\">\n",
       "      <th></th>\n",
       "      <th>Claim Number</th>\n",
       "      <th>Date Received</th>\n",
       "      <th>Incident Date</th>\n",
       "      <th>Airport Code</th>\n",
       "      <th>Airport Name</th>\n",
       "      <th>Airline Name</th>\n",
       "      <th>Claim Type</th>\n",
       "      <th>Claim Site</th>\n",
       "      <th>Item</th>\n",
       "      <th>Claim Amount</th>\n",
       "      <th>Status</th>\n",
       "      <th>Close Amount</th>\n",
       "      <th>Disposition</th>\n",
       "    </tr>\n",
       "  </thead>\n",
       "  <tbody>\n",
       "    <tr>\n",
       "      <td>51061</td>\n",
       "      <td>2015110926685</td>\n",
       "      <td>22-Oct-15</td>\n",
       "      <td>19-Oct-15</td>\n",
       "      <td>-</td>\n",
       "      <td>-</td>\n",
       "      <td>-</td>\n",
       "      <td>Property Damage</td>\n",
       "      <td>Checked Baggage</td>\n",
       "      <td>Baggage/Cases/Purses</td>\n",
       "      <td>-</td>\n",
       "      <td>-</td>\n",
       "      <td>NaN</td>\n",
       "      <td>NaN</td>\n",
       "    </tr>\n",
       "    <tr>\n",
       "      <td>51062</td>\n",
       "      <td>2015110226479</td>\n",
       "      <td>2-Nov-15</td>\n",
       "      <td>2-Nov-15</td>\n",
       "      <td>-</td>\n",
       "      <td>-</td>\n",
       "      <td>-</td>\n",
       "      <td>Passenger Property Loss</td>\n",
       "      <td>Checkpoint</td>\n",
       "      <td>Books; Magazines &amp; Other</td>\n",
       "      <td>-</td>\n",
       "      <td>-</td>\n",
       "      <td>NaN</td>\n",
       "      <td>NaN</td>\n",
       "    </tr>\n",
       "    <tr>\n",
       "      <td>51063</td>\n",
       "      <td>2015120727336</td>\n",
       "      <td>16-Nov-15</td>\n",
       "      <td>14-Sep-15</td>\n",
       "      <td>-</td>\n",
       "      <td>-</td>\n",
       "      <td>American Airlines</td>\n",
       "      <td>Passenger Property Loss</td>\n",
       "      <td>Checked Baggage</td>\n",
       "      <td>Cosmetics &amp; Grooming</td>\n",
       "      <td>-</td>\n",
       "      <td>-</td>\n",
       "      <td>NaN</td>\n",
       "      <td>NaN</td>\n",
       "    </tr>\n",
       "    <tr>\n",
       "      <td>51064</td>\n",
       "      <td>2015120427297</td>\n",
       "      <td>20-Nov-15</td>\n",
       "      <td>16-Oct-15</td>\n",
       "      <td>-</td>\n",
       "      <td>-</td>\n",
       "      <td>-</td>\n",
       "      <td>Property Damage</td>\n",
       "      <td>Checked Baggage</td>\n",
       "      <td>Baggage/Cases/Purses; Books; Magazines &amp; Other...</td>\n",
       "      <td>-</td>\n",
       "      <td>-</td>\n",
       "      <td>NaN</td>\n",
       "      <td>NaN</td>\n",
       "    </tr>\n",
       "    <tr>\n",
       "      <td>51065</td>\n",
       "      <td>2016010428072</td>\n",
       "      <td>22-Dec-15</td>\n",
       "      <td>20-Dec-15</td>\n",
       "      <td>-</td>\n",
       "      <td>-</td>\n",
       "      <td>-</td>\n",
       "      <td>Passenger Property Loss</td>\n",
       "      <td>Checked Baggage</td>\n",
       "      <td>Clothing</td>\n",
       "      <td>-</td>\n",
       "      <td>-</td>\n",
       "      <td>NaN</td>\n",
       "      <td>NaN</td>\n",
       "    </tr>\n",
       "  </tbody>\n",
       "</table>\n",
       "</div>"
      ],
      "text/plain": [
       "        Claim Number Date Received Incident Date Airport Code Airport Name  \\\n",
       "51061  2015110926685     22-Oct-15     19-Oct-15            -            -   \n",
       "51062  2015110226479      2-Nov-15      2-Nov-15            -            -   \n",
       "51063  2015120727336     16-Nov-15     14-Sep-15            -            -   \n",
       "51064  2015120427297     20-Nov-15     16-Oct-15            -            -   \n",
       "51065  2016010428072     22-Dec-15     20-Dec-15            -            -   \n",
       "\n",
       "            Airline Name               Claim Type       Claim Site  \\\n",
       "51061                  -          Property Damage  Checked Baggage   \n",
       "51062                  -  Passenger Property Loss       Checkpoint   \n",
       "51063  American Airlines  Passenger Property Loss  Checked Baggage   \n",
       "51064                  -          Property Damage  Checked Baggage   \n",
       "51065                  -  Passenger Property Loss  Checked Baggage   \n",
       "\n",
       "                                                    Item Claim Amount Status  \\\n",
       "51061                               Baggage/Cases/Purses            -      -   \n",
       "51062                           Books; Magazines & Other            -      -   \n",
       "51063                               Cosmetics & Grooming            -      -   \n",
       "51064  Baggage/Cases/Purses; Books; Magazines & Other...            -      -   \n",
       "51065                                           Clothing            -      -   \n",
       "\n",
       "      Close Amount Disposition  \n",
       "51061          NaN         NaN  \n",
       "51062          NaN         NaN  \n",
       "51063          NaN         NaN  \n",
       "51064          NaN         NaN  \n",
       "51065          NaN         NaN  "
      ]
     },
     "execution_count": 555,
     "metadata": {},
     "output_type": "execute_result"
    }
   ],
   "source": [
    "tsa.tail()"
   ]
  },
  {
   "cell_type": "code",
   "execution_count": 556,
   "metadata": {
    "ExecuteTime": {
     "end_time": "2020-04-24T11:12:14.092739Z",
     "start_time": "2020-04-24T11:12:13.924996Z"
    }
   },
   "outputs": [
    {
     "name": "stdout",
     "output_type": "stream",
     "text": [
      "<class 'pandas.core.frame.DataFrame'>\n",
      "RangeIndex: 51066 entries, 0 to 51065\n",
      "Data columns (total 13 columns):\n",
      "Claim Number     51066 non-null object\n",
      "Date Received    50996 non-null object\n",
      "Incident Date    50496 non-null object\n",
      "Airport Code     49014 non-null object\n",
      "Airport Name     49014 non-null object\n",
      "Airline Name     42511 non-null object\n",
      "Claim Type       49106 non-null object\n",
      "Claim Site       50876 non-null object\n",
      "Item             50054 non-null object\n",
      "Claim Amount     50074 non-null object\n",
      "Status           51065 non-null object\n",
      "Close Amount     33786 non-null object\n",
      "Disposition      32846 non-null object\n",
      "dtypes: object(13)\n",
      "memory usage: 5.1+ MB\n"
     ]
    }
   ],
   "source": [
    "tsa.info()"
   ]
  },
  {
   "cell_type": "code",
   "execution_count": 557,
   "metadata": {
    "ExecuteTime": {
     "end_time": "2020-04-24T11:12:14.768689Z",
     "start_time": "2020-04-24T11:12:14.098040Z"
    }
   },
   "outputs": [
    {
     "data": {
      "text/html": [
       "<div>\n",
       "<style scoped>\n",
       "    .dataframe tbody tr th:only-of-type {\n",
       "        vertical-align: middle;\n",
       "    }\n",
       "\n",
       "    .dataframe tbody tr th {\n",
       "        vertical-align: top;\n",
       "    }\n",
       "\n",
       "    .dataframe thead th {\n",
       "        text-align: right;\n",
       "    }\n",
       "</style>\n",
       "<table border=\"1\" class=\"dataframe\">\n",
       "  <thead>\n",
       "    <tr style=\"text-align: right;\">\n",
       "      <th></th>\n",
       "      <th>Claim Number</th>\n",
       "      <th>Date Received</th>\n",
       "      <th>Incident Date</th>\n",
       "      <th>Airport Code</th>\n",
       "      <th>Airport Name</th>\n",
       "      <th>Airline Name</th>\n",
       "      <th>Claim Type</th>\n",
       "      <th>Claim Site</th>\n",
       "      <th>Item</th>\n",
       "      <th>Claim Amount</th>\n",
       "      <th>Status</th>\n",
       "      <th>Close Amount</th>\n",
       "      <th>Disposition</th>\n",
       "    </tr>\n",
       "  </thead>\n",
       "  <tbody>\n",
       "    <tr>\n",
       "      <td>count</td>\n",
       "      <td>51066</td>\n",
       "      <td>50996</td>\n",
       "      <td>50496</td>\n",
       "      <td>49014</td>\n",
       "      <td>49014</td>\n",
       "      <td>42511</td>\n",
       "      <td>49106</td>\n",
       "      <td>50876</td>\n",
       "      <td>50054</td>\n",
       "      <td>50074</td>\n",
       "      <td>51065</td>\n",
       "      <td>33786</td>\n",
       "      <td>32846</td>\n",
       "    </tr>\n",
       "    <tr>\n",
       "      <td>unique</td>\n",
       "      <td>51065</td>\n",
       "      <td>3522</td>\n",
       "      <td>10788</td>\n",
       "      <td>405</td>\n",
       "      <td>419</td>\n",
       "      <td>243</td>\n",
       "      <td>8</td>\n",
       "      <td>6</td>\n",
       "      <td>1854</td>\n",
       "      <td>13248</td>\n",
       "      <td>13</td>\n",
       "      <td>6009</td>\n",
       "      <td>3</td>\n",
       "    </tr>\n",
       "    <tr>\n",
       "      <td>top</td>\n",
       "      <td>2013121110011</td>\n",
       "      <td>27-May-04</td>\n",
       "      <td>12/22/2004 0:00</td>\n",
       "      <td>LAX</td>\n",
       "      <td>John F. Kennedy International</td>\n",
       "      <td>American Airlines</td>\n",
       "      <td>Passenger Property Loss</td>\n",
       "      <td>Checked Baggage</td>\n",
       "      <td>Other</td>\n",
       "      <td>$0.00</td>\n",
       "      <td>Denied</td>\n",
       "      <td>$0.00</td>\n",
       "      <td>Deny</td>\n",
       "    </tr>\n",
       "    <tr>\n",
       "      <td>freq</td>\n",
       "      <td>2</td>\n",
       "      <td>182</td>\n",
       "      <td>43</td>\n",
       "      <td>2379</td>\n",
       "      <td>2286</td>\n",
       "      <td>4377</td>\n",
       "      <td>29713</td>\n",
       "      <td>39937</td>\n",
       "      <td>9183</td>\n",
       "      <td>7065</td>\n",
       "      <td>17134</td>\n",
       "      <td>17907</td>\n",
       "      <td>17147</td>\n",
       "    </tr>\n",
       "  </tbody>\n",
       "</table>\n",
       "</div>"
      ],
      "text/plain": [
       "         Claim Number Date Received    Incident Date Airport Code  \\\n",
       "count           51066         50996            50496        49014   \n",
       "unique          51065          3522            10788          405   \n",
       "top     2013121110011     27-May-04  12/22/2004 0:00          LAX   \n",
       "freq                2           182               43         2379   \n",
       "\n",
       "                         Airport Name       Airline Name  \\\n",
       "count                           49014              42511   \n",
       "unique                            419                243   \n",
       "top     John F. Kennedy International  American Airlines   \n",
       "freq                             2286               4377   \n",
       "\n",
       "                     Claim Type       Claim Site   Item Claim Amount  Status  \\\n",
       "count                     49106            50876  50054        50074   51065   \n",
       "unique                        8                6   1854        13248      13   \n",
       "top     Passenger Property Loss  Checked Baggage  Other       $0.00   Denied   \n",
       "freq                      29713            39937   9183         7065   17134   \n",
       "\n",
       "       Close Amount Disposition  \n",
       "count         33786       32846  \n",
       "unique         6009           3  \n",
       "top          $0.00         Deny  \n",
       "freq          17907       17147  "
      ]
     },
     "execution_count": 557,
     "metadata": {},
     "output_type": "execute_result"
    }
   ],
   "source": [
    "tsa.describe()"
   ]
  },
  {
   "cell_type": "code",
   "execution_count": 558,
   "metadata": {
    "ExecuteTime": {
     "end_time": "2020-04-24T11:12:15.307525Z",
     "start_time": "2020-04-24T11:12:14.773438Z"
    }
   },
   "outputs": [
    {
     "data": {
      "text/html": [
       "<div>\n",
       "<style scoped>\n",
       "    .dataframe tbody tr th:only-of-type {\n",
       "        vertical-align: middle;\n",
       "    }\n",
       "\n",
       "    .dataframe tbody tr th {\n",
       "        vertical-align: top;\n",
       "    }\n",
       "\n",
       "    .dataframe thead th {\n",
       "        text-align: right;\n",
       "    }\n",
       "</style>\n",
       "<table border=\"1\" class=\"dataframe\">\n",
       "  <thead>\n",
       "    <tr style=\"text-align: right;\">\n",
       "      <th></th>\n",
       "      <th>dataFeatures</th>\n",
       "      <th>dataType</th>\n",
       "      <th>null</th>\n",
       "      <th>nullPct</th>\n",
       "      <th>unique</th>\n",
       "      <th>uniqueSample</th>\n",
       "    </tr>\n",
       "  </thead>\n",
       "  <tbody>\n",
       "    <tr>\n",
       "      <td>0</td>\n",
       "      <td>Claim Number</td>\n",
       "      <td>object</td>\n",
       "      <td>0</td>\n",
       "      <td>0.00</td>\n",
       "      <td>51065</td>\n",
       "      <td>[2008041642582, 2005010572918]</td>\n",
       "    </tr>\n",
       "    <tr>\n",
       "      <td>1</td>\n",
       "      <td>Date Received</td>\n",
       "      <td>object</td>\n",
       "      <td>70</td>\n",
       "      <td>0.14</td>\n",
       "      <td>3522</td>\n",
       "      <td>[5-Sep-12, 21-Jul-06]</td>\n",
       "    </tr>\n",
       "    <tr>\n",
       "      <td>2</td>\n",
       "      <td>Incident Date</td>\n",
       "      <td>object</td>\n",
       "      <td>570</td>\n",
       "      <td>1.12</td>\n",
       "      <td>10788</td>\n",
       "      <td>[1/4/2011 9:41, 5/25/2012 19:00]</td>\n",
       "    </tr>\n",
       "    <tr>\n",
       "      <td>3</td>\n",
       "      <td>Airport Code</td>\n",
       "      <td>object</td>\n",
       "      <td>2052</td>\n",
       "      <td>4.02</td>\n",
       "      <td>405</td>\n",
       "      <td>[SJU, SCC]</td>\n",
       "    </tr>\n",
       "    <tr>\n",
       "      <td>4</td>\n",
       "      <td>Airport Name</td>\n",
       "      <td>object</td>\n",
       "      <td>2052</td>\n",
       "      <td>4.02</td>\n",
       "      <td>419</td>\n",
       "      <td>[Crescent City, Worcester Regional]</td>\n",
       "    </tr>\n",
       "    <tr>\n",
       "      <td>5</td>\n",
       "      <td>Airline Name</td>\n",
       "      <td>object</td>\n",
       "      <td>8555</td>\n",
       "      <td>16.75</td>\n",
       "      <td>243</td>\n",
       "      <td>[Lufthansa, British Airways]</td>\n",
       "    </tr>\n",
       "    <tr>\n",
       "      <td>6</td>\n",
       "      <td>Claim Type</td>\n",
       "      <td>object</td>\n",
       "      <td>1960</td>\n",
       "      <td>3.84</td>\n",
       "      <td>8</td>\n",
       "      <td>[-, Complaint]</td>\n",
       "    </tr>\n",
       "    <tr>\n",
       "      <td>7</td>\n",
       "      <td>Claim Site</td>\n",
       "      <td>object</td>\n",
       "      <td>190</td>\n",
       "      <td>0.37</td>\n",
       "      <td>6</td>\n",
       "      <td>[Checkpoint, Bus Station]</td>\n",
       "    </tr>\n",
       "    <tr>\n",
       "      <td>8</td>\n",
       "      <td>Item</td>\n",
       "      <td>object</td>\n",
       "      <td>1012</td>\n",
       "      <td>1.98</td>\n",
       "      <td>1854</td>\n",
       "      <td>[Cell Phones; MP3 Players-(iPods; etc); Stereo...</td>\n",
       "    </tr>\n",
       "    <tr>\n",
       "      <td>9</td>\n",
       "      <td>Claim Amount</td>\n",
       "      <td>object</td>\n",
       "      <td>992</td>\n",
       "      <td>1.94</td>\n",
       "      <td>13248</td>\n",
       "      <td>[$324.54 , $150.02 ]</td>\n",
       "    </tr>\n",
       "    <tr>\n",
       "      <td>10</td>\n",
       "      <td>Status</td>\n",
       "      <td>object</td>\n",
       "      <td>1</td>\n",
       "      <td>0.00</td>\n",
       "      <td>13</td>\n",
       "      <td>[In review, Settle]</td>\n",
       "    </tr>\n",
       "    <tr>\n",
       "      <td>11</td>\n",
       "      <td>Close Amount</td>\n",
       "      <td>object</td>\n",
       "      <td>17280</td>\n",
       "      <td>33.84</td>\n",
       "      <td>6009</td>\n",
       "      <td>[$32.16 , $73.60 ]</td>\n",
       "    </tr>\n",
       "    <tr>\n",
       "      <td>12</td>\n",
       "      <td>Disposition</td>\n",
       "      <td>object</td>\n",
       "      <td>18220</td>\n",
       "      <td>35.68</td>\n",
       "      <td>3</td>\n",
       "      <td>[Deny, nan]</td>\n",
       "    </tr>\n",
       "  </tbody>\n",
       "</table>\n",
       "</div>"
      ],
      "text/plain": [
       "     dataFeatures dataType   null  nullPct  unique  \\\n",
       "0    Claim Number   object      0     0.00   51065   \n",
       "1   Date Received   object     70     0.14    3522   \n",
       "2   Incident Date   object    570     1.12   10788   \n",
       "3    Airport Code   object   2052     4.02     405   \n",
       "4    Airport Name   object   2052     4.02     419   \n",
       "5    Airline Name   object   8555    16.75     243   \n",
       "6      Claim Type   object   1960     3.84       8   \n",
       "7      Claim Site   object    190     0.37       6   \n",
       "8            Item   object   1012     1.98    1854   \n",
       "9    Claim Amount   object    992     1.94   13248   \n",
       "10         Status   object      1     0.00      13   \n",
       "11   Close Amount   object  17280    33.84    6009   \n",
       "12    Disposition   object  18220    35.68       3   \n",
       "\n",
       "                                         uniqueSample  \n",
       "0                      [2008041642582, 2005010572918]  \n",
       "1                               [5-Sep-12, 21-Jul-06]  \n",
       "2                    [1/4/2011 9:41, 5/25/2012 19:00]  \n",
       "3                                          [SJU, SCC]  \n",
       "4                 [Crescent City, Worcester Regional]  \n",
       "5                        [Lufthansa, British Airways]  \n",
       "6                                      [-, Complaint]  \n",
       "7                           [Checkpoint, Bus Station]  \n",
       "8   [Cell Phones; MP3 Players-(iPods; etc); Stereo...  \n",
       "9                                [$324.54 , $150.02 ]  \n",
       "10                                [In review, Settle]  \n",
       "11                                 [$32.16 , $73.60 ]  \n",
       "12                                        [Deny, nan]  "
      ]
     },
     "execution_count": 558,
     "metadata": {},
     "output_type": "execute_result"
    }
   ],
   "source": [
    "pd.DataFrame({'dataFeatures' : tsa.columns, 'dataType' : tsa.dtypes.values, \n",
    "              'null' : [tsa[i].isna().sum() for i in tsa.columns],\n",
    "              'nullPct' : [((tsa[i].isna().sum()/len(tsa[i]))*100).round(2) for i in tsa.columns],\n",
    "             'unique' : [tsa[i].nunique() for i in tsa.columns],\n",
    "             'uniqueSample' : [list(pd.Series(tsa[i].unique()).sample(2)) for i in tsa.columns]}).reset_index(drop = True)"
   ]
  },
  {
   "cell_type": "markdown",
   "metadata": {},
   "source": [
    "If you notice, there is '-' value that become a filler for an empty value. Replace all these '-' in every column into NaN object (np.nan) "
   ]
  },
  {
   "cell_type": "code",
   "execution_count": 559,
   "metadata": {
    "ExecuteTime": {
     "end_time": "2020-04-24T11:12:15.329800Z",
     "start_time": "2020-04-24T11:12:15.318241Z"
    }
   },
   "outputs": [
    {
     "data": {
      "text/plain": [
       "Index(['Claim Number', 'Date Received', 'Incident Date', 'Airport Code',\n",
       "       'Airport Name', 'Airline Name', 'Claim Type', 'Claim Site', 'Item',\n",
       "       'Claim Amount', 'Status', 'Close Amount', 'Disposition'],\n",
       "      dtype='object')"
      ]
     },
     "execution_count": 559,
     "metadata": {},
     "output_type": "execute_result"
    }
   ],
   "source": [
    "tsa.columns"
   ]
  },
  {
   "cell_type": "code",
   "execution_count": 560,
   "metadata": {
    "ExecuteTime": {
     "end_time": "2020-04-24T11:12:15.821578Z",
     "start_time": "2020-04-24T11:12:15.337930Z"
    }
   },
   "outputs": [],
   "source": [
    "def rep(x):\n",
    "    if x == '-':\n",
    "        return np.nan\n",
    "    else:\n",
    "        return x\n",
    "    \n",
    "List = []\n",
    "\n",
    "for i in tsa.columns:\n",
    "    if '-' in tsa[i].unique():\n",
    "        List.append(i)\n",
    "\n",
    "for i in List:\n",
    "    tsa[i] = tsa[i].apply(rep)"
   ]
  },
  {
   "cell_type": "code",
   "execution_count": 561,
   "metadata": {
    "ExecuteTime": {
     "end_time": "2020-04-24T11:12:15.897292Z",
     "start_time": "2020-04-24T11:12:15.829041Z"
    }
   },
   "outputs": [
    {
     "data": {
      "text/html": [
       "<div>\n",
       "<style scoped>\n",
       "    .dataframe tbody tr th:only-of-type {\n",
       "        vertical-align: middle;\n",
       "    }\n",
       "\n",
       "    .dataframe tbody tr th {\n",
       "        vertical-align: top;\n",
       "    }\n",
       "\n",
       "    .dataframe thead th {\n",
       "        text-align: right;\n",
       "    }\n",
       "</style>\n",
       "<table border=\"1\" class=\"dataframe\">\n",
       "  <thead>\n",
       "    <tr style=\"text-align: right;\">\n",
       "      <th></th>\n",
       "      <th>Claim Number</th>\n",
       "      <th>Date Received</th>\n",
       "      <th>Incident Date</th>\n",
       "      <th>Airport Code</th>\n",
       "      <th>Airport Name</th>\n",
       "      <th>Airline Name</th>\n",
       "      <th>Claim Type</th>\n",
       "      <th>Claim Site</th>\n",
       "      <th>Item</th>\n",
       "      <th>Claim Amount</th>\n",
       "      <th>Status</th>\n",
       "      <th>Close Amount</th>\n",
       "      <th>Disposition</th>\n",
       "    </tr>\n",
       "  </thead>\n",
       "  <tbody>\n",
       "    <tr>\n",
       "      <td>51061</td>\n",
       "      <td>2015110926685</td>\n",
       "      <td>22-Oct-15</td>\n",
       "      <td>19-Oct-15</td>\n",
       "      <td>NaN</td>\n",
       "      <td>NaN</td>\n",
       "      <td>NaN</td>\n",
       "      <td>Property Damage</td>\n",
       "      <td>Checked Baggage</td>\n",
       "      <td>Baggage/Cases/Purses</td>\n",
       "      <td>NaN</td>\n",
       "      <td>NaN</td>\n",
       "      <td>NaN</td>\n",
       "      <td>NaN</td>\n",
       "    </tr>\n",
       "    <tr>\n",
       "      <td>51062</td>\n",
       "      <td>2015110226479</td>\n",
       "      <td>2-Nov-15</td>\n",
       "      <td>2-Nov-15</td>\n",
       "      <td>NaN</td>\n",
       "      <td>NaN</td>\n",
       "      <td>NaN</td>\n",
       "      <td>Passenger Property Loss</td>\n",
       "      <td>Checkpoint</td>\n",
       "      <td>Books; Magazines &amp; Other</td>\n",
       "      <td>NaN</td>\n",
       "      <td>NaN</td>\n",
       "      <td>NaN</td>\n",
       "      <td>NaN</td>\n",
       "    </tr>\n",
       "    <tr>\n",
       "      <td>51063</td>\n",
       "      <td>2015120727336</td>\n",
       "      <td>16-Nov-15</td>\n",
       "      <td>14-Sep-15</td>\n",
       "      <td>NaN</td>\n",
       "      <td>NaN</td>\n",
       "      <td>American Airlines</td>\n",
       "      <td>Passenger Property Loss</td>\n",
       "      <td>Checked Baggage</td>\n",
       "      <td>Cosmetics &amp; Grooming</td>\n",
       "      <td>NaN</td>\n",
       "      <td>NaN</td>\n",
       "      <td>NaN</td>\n",
       "      <td>NaN</td>\n",
       "    </tr>\n",
       "    <tr>\n",
       "      <td>51064</td>\n",
       "      <td>2015120427297</td>\n",
       "      <td>20-Nov-15</td>\n",
       "      <td>16-Oct-15</td>\n",
       "      <td>NaN</td>\n",
       "      <td>NaN</td>\n",
       "      <td>NaN</td>\n",
       "      <td>Property Damage</td>\n",
       "      <td>Checked Baggage</td>\n",
       "      <td>Baggage/Cases/Purses; Books; Magazines &amp; Other...</td>\n",
       "      <td>NaN</td>\n",
       "      <td>NaN</td>\n",
       "      <td>NaN</td>\n",
       "      <td>NaN</td>\n",
       "    </tr>\n",
       "    <tr>\n",
       "      <td>51065</td>\n",
       "      <td>2016010428072</td>\n",
       "      <td>22-Dec-15</td>\n",
       "      <td>20-Dec-15</td>\n",
       "      <td>NaN</td>\n",
       "      <td>NaN</td>\n",
       "      <td>NaN</td>\n",
       "      <td>Passenger Property Loss</td>\n",
       "      <td>Checked Baggage</td>\n",
       "      <td>Clothing</td>\n",
       "      <td>NaN</td>\n",
       "      <td>NaN</td>\n",
       "      <td>NaN</td>\n",
       "      <td>NaN</td>\n",
       "    </tr>\n",
       "  </tbody>\n",
       "</table>\n",
       "</div>"
      ],
      "text/plain": [
       "        Claim Number Date Received Incident Date Airport Code Airport Name  \\\n",
       "51061  2015110926685     22-Oct-15     19-Oct-15          NaN          NaN   \n",
       "51062  2015110226479      2-Nov-15      2-Nov-15          NaN          NaN   \n",
       "51063  2015120727336     16-Nov-15     14-Sep-15          NaN          NaN   \n",
       "51064  2015120427297     20-Nov-15     16-Oct-15          NaN          NaN   \n",
       "51065  2016010428072     22-Dec-15     20-Dec-15          NaN          NaN   \n",
       "\n",
       "            Airline Name               Claim Type       Claim Site  \\\n",
       "51061                NaN          Property Damage  Checked Baggage   \n",
       "51062                NaN  Passenger Property Loss       Checkpoint   \n",
       "51063  American Airlines  Passenger Property Loss  Checked Baggage   \n",
       "51064                NaN          Property Damage  Checked Baggage   \n",
       "51065                NaN  Passenger Property Loss  Checked Baggage   \n",
       "\n",
       "                                                    Item Claim Amount Status  \\\n",
       "51061                               Baggage/Cases/Purses          NaN    NaN   \n",
       "51062                           Books; Magazines & Other          NaN    NaN   \n",
       "51063                               Cosmetics & Grooming          NaN    NaN   \n",
       "51064  Baggage/Cases/Purses; Books; Magazines & Other...          NaN    NaN   \n",
       "51065                                           Clothing          NaN    NaN   \n",
       "\n",
       "      Close Amount Disposition  \n",
       "51061          NaN         NaN  \n",
       "51062          NaN         NaN  \n",
       "51063          NaN         NaN  \n",
       "51064          NaN         NaN  \n",
       "51065          NaN         NaN  "
      ]
     },
     "execution_count": 561,
     "metadata": {},
     "output_type": "execute_result"
    }
   ],
   "source": [
    "tsa.tail()"
   ]
  },
  {
   "cell_type": "markdown",
   "metadata": {},
   "source": [
    "Try to convert the Date Received and Incident Date data type into Datetime object. For the Incident Date columns, if you directly try to convert the column into datetime object it would raise an error notice. In that case, try to show the dataframe with the Incident Date column contain all the error.  "
   ]
  },
  {
   "cell_type": "code",
   "execution_count": 562,
   "metadata": {
    "ExecuteTime": {
     "end_time": "2020-04-24T11:13:00.432947Z",
     "start_time": "2020-04-24T11:12:15.904046Z"
    },
    "scrolled": false
   },
   "outputs": [],
   "source": [
    "def time(x):\n",
    "    try:\n",
    "        pd.to_datetime(x)\n",
    "        return 'No Error'\n",
    "    except:\n",
    "        return x\n",
    "    \n",
    "copy = tsa.copy()\n",
    "\n",
    "copy['ErrorT'] = copy['Incident Date'].apply(time) \n",
    "ErrorT = tsa.drop(copy[copy['ErrorT'] == 'No Error'].index, axis = 0)"
   ]
  },
  {
   "cell_type": "code",
   "execution_count": 563,
   "metadata": {
    "ExecuteTime": {
     "end_time": "2020-04-24T11:13:00.599655Z",
     "start_time": "2020-04-24T11:13:00.437569Z"
    },
    "scrolled": true
   },
   "outputs": [
    {
     "data": {
      "text/html": [
       "<div>\n",
       "<style scoped>\n",
       "    .dataframe tbody tr th:only-of-type {\n",
       "        vertical-align: middle;\n",
       "    }\n",
       "\n",
       "    .dataframe tbody tr th {\n",
       "        vertical-align: top;\n",
       "    }\n",
       "\n",
       "    .dataframe thead th {\n",
       "        text-align: right;\n",
       "    }\n",
       "</style>\n",
       "<table border=\"1\" class=\"dataframe\">\n",
       "  <thead>\n",
       "    <tr style=\"text-align: right;\">\n",
       "      <th></th>\n",
       "      <th>Claim Number</th>\n",
       "      <th>Date Received</th>\n",
       "      <th>Incident Date</th>\n",
       "      <th>Airport Code</th>\n",
       "      <th>Airport Name</th>\n",
       "      <th>Airline Name</th>\n",
       "      <th>Claim Type</th>\n",
       "      <th>Claim Site</th>\n",
       "      <th>Item</th>\n",
       "      <th>Claim Amount</th>\n",
       "      <th>Status</th>\n",
       "      <th>Close Amount</th>\n",
       "      <th>Disposition</th>\n",
       "    </tr>\n",
       "  </thead>\n",
       "  <tbody>\n",
       "    <tr>\n",
       "      <td>13729</td>\n",
       "      <td>2005021676300</td>\n",
       "      <td>2005-01-24</td>\n",
       "      <td>17-MAY-0200 00:00</td>\n",
       "      <td>JFK</td>\n",
       "      <td>John F. Kennedy International</td>\n",
       "      <td>NaN</td>\n",
       "      <td>Passenger Property Loss</td>\n",
       "      <td>Checkpoint</td>\n",
       "      <td>Other</td>\n",
       "      <td>$15.00</td>\n",
       "      <td>Approved</td>\n",
       "      <td>$15.00</td>\n",
       "      <td>Approve in Full</td>\n",
       "    </tr>\n",
       "    <tr>\n",
       "      <td>14323</td>\n",
       "      <td>2005031778682</td>\n",
       "      <td>2005-02-23</td>\n",
       "      <td>17-FEB-0205 00:00</td>\n",
       "      <td>MSY</td>\n",
       "      <td>New Orleans International</td>\n",
       "      <td>UAL</td>\n",
       "      <td>Passenger Property Loss</td>\n",
       "      <td>Checked Baggage</td>\n",
       "      <td>Computer - Laptop</td>\n",
       "      <td>$2;463.00</td>\n",
       "      <td>Denied</td>\n",
       "      <td>NaN</td>\n",
       "      <td>Deny</td>\n",
       "    </tr>\n",
       "    <tr>\n",
       "      <td>14856</td>\n",
       "      <td>2005033180821</td>\n",
       "      <td>2005-03-23</td>\n",
       "      <td>07-MAR-0005 00:00</td>\n",
       "      <td>CVG</td>\n",
       "      <td>Cincinnati/Northern Kentucky International</td>\n",
       "      <td>Delta Air Lines</td>\n",
       "      <td>Passenger Property Loss</td>\n",
       "      <td>Checked Baggage</td>\n",
       "      <td>Cameras - Digital</td>\n",
       "      <td>$430.98</td>\n",
       "      <td>Approved</td>\n",
       "      <td>$430.98</td>\n",
       "      <td>Approve in Full</td>\n",
       "    </tr>\n",
       "    <tr>\n",
       "      <td>14976</td>\n",
       "      <td>2005040181143</td>\n",
       "      <td>2005-03-29</td>\n",
       "      <td>04-MAR-0205 00:00</td>\n",
       "      <td>MSP</td>\n",
       "      <td>Minneapolis/ St.Paul International Airport</td>\n",
       "      <td>Northwest Airlines</td>\n",
       "      <td>Passenger Property Loss</td>\n",
       "      <td>Checked Baggage</td>\n",
       "      <td>Jewelry - Fine</td>\n",
       "      <td>$151.00</td>\n",
       "      <td>Insufficient; one of the following items requi...</td>\n",
       "      <td>NaN</td>\n",
       "      <td>NaN</td>\n",
       "    </tr>\n",
       "    <tr>\n",
       "      <td>14995</td>\n",
       "      <td>2005040581540</td>\n",
       "      <td>2005-03-30</td>\n",
       "      <td>18-MAR-0200 00:00</td>\n",
       "      <td>MAF</td>\n",
       "      <td>Midland International Airport</td>\n",
       "      <td>Continental Express Inc</td>\n",
       "      <td>Passenger Property Loss</td>\n",
       "      <td>Checked Baggage</td>\n",
       "      <td>Locks</td>\n",
       "      <td>$10.60</td>\n",
       "      <td>Approved</td>\n",
       "      <td>$10.60</td>\n",
       "      <td>Approve in Full</td>\n",
       "    </tr>\n",
       "    <tr>\n",
       "      <td>15278</td>\n",
       "      <td>2005041282328</td>\n",
       "      <td>2005-04-12</td>\n",
       "      <td>12-MAR-0205 00:00</td>\n",
       "      <td>MSP</td>\n",
       "      <td>Minneapolis/ St.Paul International Airport</td>\n",
       "      <td>Northwest Airlines</td>\n",
       "      <td>Property Damage</td>\n",
       "      <td>Checked Baggage</td>\n",
       "      <td>Clothing - Shoes; belts; accessories; etc.</td>\n",
       "      <td>$710.00</td>\n",
       "      <td>Denied</td>\n",
       "      <td>$0.00</td>\n",
       "      <td>Deny</td>\n",
       "    </tr>\n",
       "    <tr>\n",
       "      <td>15934</td>\n",
       "      <td>2005051985030</td>\n",
       "      <td>2005-05-17</td>\n",
       "      <td>01-MAY-0205 00:00</td>\n",
       "      <td>NaN</td>\n",
       "      <td>NaN</td>\n",
       "      <td>NaN</td>\n",
       "      <td>Passenger Property Loss</td>\n",
       "      <td>Checked Baggage</td>\n",
       "      <td>Jewelry - Fine</td>\n",
       "      <td>$197.73</td>\n",
       "      <td>Insufficient; one of the following items requi...</td>\n",
       "      <td>NaN</td>\n",
       "      <td>NaN</td>\n",
       "    </tr>\n",
       "    <tr>\n",
       "      <td>16813</td>\n",
       "      <td>2005071188622</td>\n",
       "      <td>2005-07-08</td>\n",
       "      <td>01-JUL-0200 00:00</td>\n",
       "      <td>HDN</td>\n",
       "      <td>Yampa Valley Regional</td>\n",
       "      <td>NaN</td>\n",
       "      <td>Passenger Property Loss</td>\n",
       "      <td>Checked Baggage</td>\n",
       "      <td>Clothing - Shoes; belts; accessories; etc.</td>\n",
       "      <td>$300.00</td>\n",
       "      <td>Denied</td>\n",
       "      <td>$0.00</td>\n",
       "      <td>Deny</td>\n",
       "    </tr>\n",
       "    <tr>\n",
       "      <td>17198</td>\n",
       "      <td>2005091492472</td>\n",
       "      <td>2005-08-01</td>\n",
       "      <td>01-MAY-0205 00:00</td>\n",
       "      <td>IAH</td>\n",
       "      <td>Houston - George Bush Intercontinental Airport</td>\n",
       "      <td>UAL</td>\n",
       "      <td>Passenger Property Loss</td>\n",
       "      <td>Checked Baggage</td>\n",
       "      <td>Other</td>\n",
       "      <td>$2;000.72</td>\n",
       "      <td>Denied</td>\n",
       "      <td>$0.00</td>\n",
       "      <td>Deny</td>\n",
       "    </tr>\n",
       "    <tr>\n",
       "      <td>19151</td>\n",
       "      <td>2005121397614</td>\n",
       "      <td>2005-12-08</td>\n",
       "      <td>20-NOV-0205 00:00</td>\n",
       "      <td>LNK</td>\n",
       "      <td>Lincoln Municipal</td>\n",
       "      <td>Northwest Airlines</td>\n",
       "      <td>Passenger Property Loss</td>\n",
       "      <td>Checked Baggage</td>\n",
       "      <td>Locks</td>\n",
       "      <td>$15.00</td>\n",
       "      <td>Approved</td>\n",
       "      <td>$15.00</td>\n",
       "      <td>Approve in Full</td>\n",
       "    </tr>\n",
       "    <tr>\n",
       "      <td>21528</td>\n",
       "      <td>2006060207211</td>\n",
       "      <td>2006-05-30</td>\n",
       "      <td>26-MAY-0200 00:00</td>\n",
       "      <td>JFK</td>\n",
       "      <td>John F. Kennedy International</td>\n",
       "      <td>Air France</td>\n",
       "      <td>Passenger Property Loss</td>\n",
       "      <td>Checked Baggage</td>\n",
       "      <td>Cosmetics - Perfume; toilet articles; medicine...</td>\n",
       "      <td>$821.56</td>\n",
       "      <td>Settled</td>\n",
       "      <td>$261.72</td>\n",
       "      <td>Settle</td>\n",
       "    </tr>\n",
       "    <tr>\n",
       "      <td>22161</td>\n",
       "      <td>2006072610104</td>\n",
       "      <td>2006-07-14</td>\n",
       "      <td>25-OCT-0200 00:00</td>\n",
       "      <td>MEM</td>\n",
       "      <td>Memphis International Airport</td>\n",
       "      <td>Northwest Airlines</td>\n",
       "      <td>Passenger Property Loss</td>\n",
       "      <td>Checked Baggage</td>\n",
       "      <td>Cell Phones</td>\n",
       "      <td>$35.00</td>\n",
       "      <td>Denied</td>\n",
       "      <td>$0.00</td>\n",
       "      <td>Deny</td>\n",
       "    </tr>\n",
       "    <tr>\n",
       "      <td>23232</td>\n",
       "      <td>2006101213887</td>\n",
       "      <td>2006-10-11</td>\n",
       "      <td>27-SEP-0206 00:00</td>\n",
       "      <td>JFK</td>\n",
       "      <td>John F. Kennedy International</td>\n",
       "      <td>Continental Airlines</td>\n",
       "      <td>Passenger Property Loss</td>\n",
       "      <td>Checkpoint</td>\n",
       "      <td>Other</td>\n",
       "      <td>$25.49</td>\n",
       "      <td>Approved</td>\n",
       "      <td>$25.49</td>\n",
       "      <td>Approve in Full</td>\n",
       "    </tr>\n",
       "    <tr>\n",
       "      <td>24355</td>\n",
       "      <td>2007010418246</td>\n",
       "      <td>2007-01-03</td>\n",
       "      <td>03-NOV-0206 00:00</td>\n",
       "      <td>OMA</td>\n",
       "      <td>Eppley Airfield</td>\n",
       "      <td>Skywest Airlines Inc USA</td>\n",
       "      <td>Passenger Property Loss</td>\n",
       "      <td>Checked Baggage</td>\n",
       "      <td>Jewelry - Costume</td>\n",
       "      <td>$135.00</td>\n",
       "      <td>Denied</td>\n",
       "      <td>$0.00</td>\n",
       "      <td>Deny</td>\n",
       "    </tr>\n",
       "    <tr>\n",
       "      <td>24525</td>\n",
       "      <td>2007011718892</td>\n",
       "      <td>2007-01-10</td>\n",
       "      <td>12-AUG-0201 00:00</td>\n",
       "      <td>JFK</td>\n",
       "      <td>John F. Kennedy International</td>\n",
       "      <td>Jet Blue</td>\n",
       "      <td>Passenger Property Loss</td>\n",
       "      <td>Checked Baggage</td>\n",
       "      <td>Video Recordings (blank &amp; commercial)</td>\n",
       "      <td>$317.64</td>\n",
       "      <td>Settled</td>\n",
       "      <td>$158.82</td>\n",
       "      <td>Settle</td>\n",
       "    </tr>\n",
       "    <tr>\n",
       "      <td>24768</td>\n",
       "      <td>2007013119947</td>\n",
       "      <td>2007-01-26</td>\n",
       "      <td>19-DEC-0206 00:00</td>\n",
       "      <td>PHX</td>\n",
       "      <td>Phoenix Sky Harbor International</td>\n",
       "      <td>Northwest Airlines</td>\n",
       "      <td>Property Damage</td>\n",
       "      <td>Checked Baggage</td>\n",
       "      <td>Other</td>\n",
       "      <td>$90.00</td>\n",
       "      <td>Denied</td>\n",
       "      <td>$0.00</td>\n",
       "      <td>Deny</td>\n",
       "    </tr>\n",
       "    <tr>\n",
       "      <td>24903</td>\n",
       "      <td>2007020620372</td>\n",
       "      <td>2007-02-05</td>\n",
       "      <td>13-JAN-0207 00:00</td>\n",
       "      <td>JFK</td>\n",
       "      <td>John F. Kennedy International</td>\n",
       "      <td>Jet Blue</td>\n",
       "      <td>Passenger Property Loss</td>\n",
       "      <td>Checked Baggage</td>\n",
       "      <td>Computer - Laptop</td>\n",
       "      <td>$1;503.35</td>\n",
       "      <td>Settled</td>\n",
       "      <td>$208.47</td>\n",
       "      <td>Settle</td>\n",
       "    </tr>\n",
       "    <tr>\n",
       "      <td>25249</td>\n",
       "      <td>2007031222075</td>\n",
       "      <td>2007-03-06</td>\n",
       "      <td>18-FEB-0207 00:00</td>\n",
       "      <td>SEA</td>\n",
       "      <td>Seattle-Tacoma International</td>\n",
       "      <td>Delta Air Lines</td>\n",
       "      <td>Passenger Property Loss</td>\n",
       "      <td>Checked Baggage</td>\n",
       "      <td>Clothing - Shoes; belts; accessories; etc.; Other</td>\n",
       "      <td>$190.00</td>\n",
       "      <td>Denied</td>\n",
       "      <td>$0.00</td>\n",
       "      <td>Deny</td>\n",
       "    </tr>\n",
       "    <tr>\n",
       "      <td>25705</td>\n",
       "      <td>2007041323942</td>\n",
       "      <td>2007-04-10</td>\n",
       "      <td>07-APR-0200 00:00</td>\n",
       "      <td>IAD</td>\n",
       "      <td>Washington Dulles International</td>\n",
       "      <td>UAL</td>\n",
       "      <td>Passenger Property Loss</td>\n",
       "      <td>Checked Baggage</td>\n",
       "      <td>Cameras - Digital; Other</td>\n",
       "      <td>$470.06</td>\n",
       "      <td>Settled</td>\n",
       "      <td>$198.09</td>\n",
       "      <td>Settle</td>\n",
       "    </tr>\n",
       "    <tr>\n",
       "      <td>25734</td>\n",
       "      <td>2007041323952</td>\n",
       "      <td>2007-04-12</td>\n",
       "      <td>29-JAN-0200 00:00</td>\n",
       "      <td>SAN</td>\n",
       "      <td>San Diego International</td>\n",
       "      <td>Southwest Airlines</td>\n",
       "      <td>Passenger Property Loss</td>\n",
       "      <td>Checked Baggage</td>\n",
       "      <td>MP3 Players-(iPods; etc)</td>\n",
       "      <td>$250.00</td>\n",
       "      <td>Denied</td>\n",
       "      <td>$0.00</td>\n",
       "      <td>Deny</td>\n",
       "    </tr>\n",
       "    <tr>\n",
       "      <td>26129</td>\n",
       "      <td>2007051825607</td>\n",
       "      <td>2007-05-16</td>\n",
       "      <td>06-MAR-0207 00:00</td>\n",
       "      <td>BPT</td>\n",
       "      <td>Southeast Texas Regional</td>\n",
       "      <td>Continental Airlines</td>\n",
       "      <td>Passenger Property Loss</td>\n",
       "      <td>Checked Baggage</td>\n",
       "      <td>Cameras - Digital; Cameras - Non-electronic (C...</td>\n",
       "      <td>$1;400.25</td>\n",
       "      <td>Denied</td>\n",
       "      <td>$0.00</td>\n",
       "      <td>Deny</td>\n",
       "    </tr>\n",
       "    <tr>\n",
       "      <td>26530</td>\n",
       "      <td>2007062127333</td>\n",
       "      <td>2007-06-19</td>\n",
       "      <td>20-MAY-0207 00:00</td>\n",
       "      <td>FLL</td>\n",
       "      <td>Ft. Lauderdale-Hollywood International</td>\n",
       "      <td>Delta Air Lines</td>\n",
       "      <td>Passenger Property Loss</td>\n",
       "      <td>Checked Baggage</td>\n",
       "      <td>Cosmetics - Perfume; toilet articles; medicine...</td>\n",
       "      <td>$10.00</td>\n",
       "      <td>Approved</td>\n",
       "      <td>$10.00</td>\n",
       "      <td>Approve in Full</td>\n",
       "    </tr>\n",
       "    <tr>\n",
       "      <td>27086</td>\n",
       "      <td>2007073129436</td>\n",
       "      <td>2007-07-31</td>\n",
       "      <td>13-JUL-0207 00:00</td>\n",
       "      <td>IND</td>\n",
       "      <td>Indianapolis International</td>\n",
       "      <td>Northwest Airlines</td>\n",
       "      <td>Property Damage</td>\n",
       "      <td>Checked Baggage</td>\n",
       "      <td>Baskets - Wicker or plastic</td>\n",
       "      <td>$15.00</td>\n",
       "      <td>Denied</td>\n",
       "      <td>$0.00</td>\n",
       "      <td>Deny</td>\n",
       "    </tr>\n",
       "    <tr>\n",
       "      <td>27481</td>\n",
       "      <td>2007083131244</td>\n",
       "      <td>2007-08-28</td>\n",
       "      <td>09-JUL-0200 00:00</td>\n",
       "      <td>MSP</td>\n",
       "      <td>Minneapolis/ St.Paul International Airport</td>\n",
       "      <td>Northwest Airlines</td>\n",
       "      <td>Property Damage</td>\n",
       "      <td>Checked Baggage</td>\n",
       "      <td>Luggage (all types including footlockers)</td>\n",
       "      <td>$185.00</td>\n",
       "      <td>Settled</td>\n",
       "      <td>$50.00</td>\n",
       "      <td>Settle</td>\n",
       "    </tr>\n",
       "    <tr>\n",
       "      <td>27628</td>\n",
       "      <td>2007091431890</td>\n",
       "      <td>2007-09-10</td>\n",
       "      <td>02-MAR-0208 00:00</td>\n",
       "      <td>MDW</td>\n",
       "      <td>Midway International Airport</td>\n",
       "      <td>Southwest Airlines</td>\n",
       "      <td>Property Damage</td>\n",
       "      <td>Checked Baggage</td>\n",
       "      <td>Clothing - Shoes; belts; accessories; etc.; Pa...</td>\n",
       "      <td>$250.00</td>\n",
       "      <td>Denied</td>\n",
       "      <td>$0.00</td>\n",
       "      <td>Deny</td>\n",
       "    </tr>\n",
       "    <tr>\n",
       "      <td>27819</td>\n",
       "      <td>2007092732635</td>\n",
       "      <td>2007-09-24</td>\n",
       "      <td>17-SEP-0007 00:00</td>\n",
       "      <td>DTW</td>\n",
       "      <td>Detroit Metropolitan Wayne County Airport</td>\n",
       "      <td>Northwest Airlines</td>\n",
       "      <td>Passenger Property Loss</td>\n",
       "      <td>Checked Baggage</td>\n",
       "      <td>Currency</td>\n",
       "      <td>$420.00</td>\n",
       "      <td>Denied</td>\n",
       "      <td>$0.00</td>\n",
       "      <td>Deny</td>\n",
       "    </tr>\n",
       "    <tr>\n",
       "      <td>27901</td>\n",
       "      <td>2007100533098</td>\n",
       "      <td>2007-10-02</td>\n",
       "      <td>22-MAY-0200 00:00</td>\n",
       "      <td>RSW</td>\n",
       "      <td>Southwest Florida International</td>\n",
       "      <td>Delta Air Lines</td>\n",
       "      <td>Passenger Property Loss</td>\n",
       "      <td>Checked Baggage</td>\n",
       "      <td>Currency</td>\n",
       "      <td>$100.00</td>\n",
       "      <td>Denied</td>\n",
       "      <td>$0.00</td>\n",
       "      <td>Deny</td>\n",
       "    </tr>\n",
       "    <tr>\n",
       "      <td>28031</td>\n",
       "      <td>2007101733560</td>\n",
       "      <td>2007-10-12</td>\n",
       "      <td>28-SEP-0207 00:00</td>\n",
       "      <td>ATL</td>\n",
       "      <td>Hartsfield-Jackson Atlanta International Airport</td>\n",
       "      <td>Delta Air Lines</td>\n",
       "      <td>Passenger Property Loss</td>\n",
       "      <td>Checked Baggage</td>\n",
       "      <td>Cosmetics - Perfume; toilet articles; medicine...</td>\n",
       "      <td>$109.99</td>\n",
       "      <td>Denied</td>\n",
       "      <td>$0.00</td>\n",
       "      <td>Deny</td>\n",
       "    </tr>\n",
       "    <tr>\n",
       "      <td>28037</td>\n",
       "      <td>2007101833587</td>\n",
       "      <td>2007-10-12</td>\n",
       "      <td>04-SEP-0207 00:00</td>\n",
       "      <td>MIA</td>\n",
       "      <td>Miami International Airport</td>\n",
       "      <td>American Airlines</td>\n",
       "      <td>Passenger Property Loss</td>\n",
       "      <td>Checked Baggage</td>\n",
       "      <td>Other</td>\n",
       "      <td>$69.95</td>\n",
       "      <td>Denied</td>\n",
       "      <td>$0.00</td>\n",
       "      <td>Deny</td>\n",
       "    </tr>\n",
       "    <tr>\n",
       "      <td>29065</td>\n",
       "      <td>2008011437819</td>\n",
       "      <td>2008-01-07</td>\n",
       "      <td>30-NOV-0002 00:00</td>\n",
       "      <td>RAP</td>\n",
       "      <td>Rapid City Regional</td>\n",
       "      <td>Northwest Airlines</td>\n",
       "      <td>Passenger Property Loss</td>\n",
       "      <td>Checked Baggage</td>\n",
       "      <td>Clothing - Shoes; belts; accessories; etc.; Lu...</td>\n",
       "      <td>$200.00</td>\n",
       "      <td>Denied</td>\n",
       "      <td>$0.00</td>\n",
       "      <td>Deny</td>\n",
       "    </tr>\n",
       "    <tr>\n",
       "      <td>29652</td>\n",
       "      <td>2008022840321</td>\n",
       "      <td>2008-02-22</td>\n",
       "      <td>08-FEB-0208 00:00</td>\n",
       "      <td>AVL</td>\n",
       "      <td>Asheville Regional Airport</td>\n",
       "      <td>Delta Air Lines</td>\n",
       "      <td>Property Damage</td>\n",
       "      <td>Checked Baggage</td>\n",
       "      <td>Mirrors (including frames)</td>\n",
       "      <td>$21.93</td>\n",
       "      <td>Denied</td>\n",
       "      <td>$0.00</td>\n",
       "      <td>Deny</td>\n",
       "    </tr>\n",
       "    <tr>\n",
       "      <td>31140</td>\n",
       "      <td>2008062646202</td>\n",
       "      <td>2008-06-23</td>\n",
       "      <td>29-JAN-0208 00:00</td>\n",
       "      <td>MIA</td>\n",
       "      <td>Miami International Airport</td>\n",
       "      <td>American Airlines</td>\n",
       "      <td>Property Damage</td>\n",
       "      <td>Checked Baggage</td>\n",
       "      <td>Locks</td>\n",
       "      <td>$5.98</td>\n",
       "      <td>Denied</td>\n",
       "      <td>$0.00</td>\n",
       "      <td>Deny</td>\n",
       "    </tr>\n",
       "    <tr>\n",
       "      <td>31570</td>\n",
       "      <td>2008080548050</td>\n",
       "      <td>2008-07-31</td>\n",
       "      <td>30-JUL-0208 00:00</td>\n",
       "      <td>HOU</td>\n",
       "      <td>William P. Hobby</td>\n",
       "      <td>Continental Airlines</td>\n",
       "      <td>Passenger Property Loss</td>\n",
       "      <td>Checked Baggage</td>\n",
       "      <td>Locks</td>\n",
       "      <td>$16.00</td>\n",
       "      <td>Denied</td>\n",
       "      <td>$0.00</td>\n",
       "      <td>Deny</td>\n",
       "    </tr>\n",
       "    <tr>\n",
       "      <td>31590</td>\n",
       "      <td>2008081148331</td>\n",
       "      <td>2008-08-01</td>\n",
       "      <td>13-JUL-0200 00:00</td>\n",
       "      <td>ATL</td>\n",
       "      <td>Hartsfield-Jackson Atlanta International Airport</td>\n",
       "      <td>Delta Air Lines</td>\n",
       "      <td>Passenger Property Loss</td>\n",
       "      <td>Checked Baggage</td>\n",
       "      <td>Cosmetics - Perfume; toilet articles; medicine...</td>\n",
       "      <td>$40.00</td>\n",
       "      <td>Denied</td>\n",
       "      <td>$0.00</td>\n",
       "      <td>Deny</td>\n",
       "    </tr>\n",
       "    <tr>\n",
       "      <td>31771</td>\n",
       "      <td>2008081948782</td>\n",
       "      <td>2008-08-19</td>\n",
       "      <td>23-JUL-0208 00:00</td>\n",
       "      <td>FLL</td>\n",
       "      <td>Ft. Lauderdale-Hollywood International</td>\n",
       "      <td>Jet Blue</td>\n",
       "      <td>Passenger Property Loss</td>\n",
       "      <td>Checked Baggage</td>\n",
       "      <td>Computer - Laptop; GPS - Global Positioning Sy...</td>\n",
       "      <td>$3;379.00</td>\n",
       "      <td>Denied</td>\n",
       "      <td>$0.00</td>\n",
       "      <td>Deny</td>\n",
       "    </tr>\n",
       "    <tr>\n",
       "      <td>33613</td>\n",
       "      <td>2009032056617</td>\n",
       "      <td>2009-03-04</td>\n",
       "      <td>18-JAN-0200 00:00</td>\n",
       "      <td>FLL</td>\n",
       "      <td>Ft. Lauderdale-Hollywood International</td>\n",
       "      <td>American Airlines</td>\n",
       "      <td>Property Damage</td>\n",
       "      <td>Checkpoint</td>\n",
       "      <td>Eyeglasses - (including contact lenses)</td>\n",
       "      <td>$469.00</td>\n",
       "      <td>Denied</td>\n",
       "      <td>$0.00</td>\n",
       "      <td>Deny</td>\n",
       "    </tr>\n",
       "  </tbody>\n",
       "</table>\n",
       "</div>"
      ],
      "text/plain": [
       "        Claim Number Date Received      Incident Date Airport Code  \\\n",
       "13729  2005021676300    2005-01-24  17-MAY-0200 00:00          JFK   \n",
       "14323  2005031778682    2005-02-23  17-FEB-0205 00:00          MSY   \n",
       "14856  2005033180821    2005-03-23  07-MAR-0005 00:00          CVG   \n",
       "14976  2005040181143    2005-03-29  04-MAR-0205 00:00          MSP   \n",
       "14995  2005040581540    2005-03-30  18-MAR-0200 00:00          MAF   \n",
       "15278  2005041282328    2005-04-12  12-MAR-0205 00:00          MSP   \n",
       "15934  2005051985030    2005-05-17  01-MAY-0205 00:00          NaN   \n",
       "16813  2005071188622    2005-07-08  01-JUL-0200 00:00          HDN   \n",
       "17198  2005091492472    2005-08-01  01-MAY-0205 00:00          IAH   \n",
       "19151  2005121397614    2005-12-08  20-NOV-0205 00:00          LNK   \n",
       "21528  2006060207211    2006-05-30  26-MAY-0200 00:00          JFK   \n",
       "22161  2006072610104    2006-07-14  25-OCT-0200 00:00          MEM   \n",
       "23232  2006101213887    2006-10-11  27-SEP-0206 00:00          JFK   \n",
       "24355  2007010418246    2007-01-03  03-NOV-0206 00:00          OMA   \n",
       "24525  2007011718892    2007-01-10  12-AUG-0201 00:00          JFK   \n",
       "24768  2007013119947    2007-01-26  19-DEC-0206 00:00          PHX   \n",
       "24903  2007020620372    2007-02-05  13-JAN-0207 00:00          JFK   \n",
       "25249  2007031222075    2007-03-06  18-FEB-0207 00:00          SEA   \n",
       "25705  2007041323942    2007-04-10  07-APR-0200 00:00          IAD   \n",
       "25734  2007041323952    2007-04-12  29-JAN-0200 00:00          SAN   \n",
       "26129  2007051825607    2007-05-16  06-MAR-0207 00:00          BPT   \n",
       "26530  2007062127333    2007-06-19  20-MAY-0207 00:00          FLL   \n",
       "27086  2007073129436    2007-07-31  13-JUL-0207 00:00          IND   \n",
       "27481  2007083131244    2007-08-28  09-JUL-0200 00:00          MSP   \n",
       "27628  2007091431890    2007-09-10  02-MAR-0208 00:00          MDW   \n",
       "27819  2007092732635    2007-09-24  17-SEP-0007 00:00          DTW   \n",
       "27901  2007100533098    2007-10-02  22-MAY-0200 00:00          RSW   \n",
       "28031  2007101733560    2007-10-12  28-SEP-0207 00:00          ATL   \n",
       "28037  2007101833587    2007-10-12  04-SEP-0207 00:00          MIA   \n",
       "29065  2008011437819    2008-01-07  30-NOV-0002 00:00          RAP   \n",
       "29652  2008022840321    2008-02-22  08-FEB-0208 00:00          AVL   \n",
       "31140  2008062646202    2008-06-23  29-JAN-0208 00:00          MIA   \n",
       "31570  2008080548050    2008-07-31  30-JUL-0208 00:00          HOU   \n",
       "31590  2008081148331    2008-08-01  13-JUL-0200 00:00          ATL   \n",
       "31771  2008081948782    2008-08-19  23-JUL-0208 00:00          FLL   \n",
       "33613  2009032056617    2009-03-04  18-JAN-0200 00:00          FLL   \n",
       "\n",
       "                                           Airport Name  \\\n",
       "13729                     John F. Kennedy International   \n",
       "14323                         New Orleans International   \n",
       "14856        Cincinnati/Northern Kentucky International   \n",
       "14976        Minneapolis/ St.Paul International Airport   \n",
       "14995                     Midland International Airport   \n",
       "15278        Minneapolis/ St.Paul International Airport   \n",
       "15934                                               NaN   \n",
       "16813                             Yampa Valley Regional   \n",
       "17198    Houston - George Bush Intercontinental Airport   \n",
       "19151                                 Lincoln Municipal   \n",
       "21528                     John F. Kennedy International   \n",
       "22161                     Memphis International Airport   \n",
       "23232                     John F. Kennedy International   \n",
       "24355                                   Eppley Airfield   \n",
       "24525                     John F. Kennedy International   \n",
       "24768                  Phoenix Sky Harbor International   \n",
       "24903                     John F. Kennedy International   \n",
       "25249                      Seattle-Tacoma International   \n",
       "25705                   Washington Dulles International   \n",
       "25734                           San Diego International   \n",
       "26129                          Southeast Texas Regional   \n",
       "26530            Ft. Lauderdale-Hollywood International   \n",
       "27086                        Indianapolis International   \n",
       "27481        Minneapolis/ St.Paul International Airport   \n",
       "27628                      Midway International Airport   \n",
       "27819         Detroit Metropolitan Wayne County Airport   \n",
       "27901                   Southwest Florida International   \n",
       "28031  Hartsfield-Jackson Atlanta International Airport   \n",
       "28037                       Miami International Airport   \n",
       "29065                               Rapid City Regional   \n",
       "29652                        Asheville Regional Airport   \n",
       "31140                       Miami International Airport   \n",
       "31570                                  William P. Hobby   \n",
       "31590  Hartsfield-Jackson Atlanta International Airport   \n",
       "31771            Ft. Lauderdale-Hollywood International   \n",
       "33613            Ft. Lauderdale-Hollywood International   \n",
       "\n",
       "                   Airline Name               Claim Type       Claim Site  \\\n",
       "13729                       NaN  Passenger Property Loss       Checkpoint   \n",
       "14323                       UAL  Passenger Property Loss  Checked Baggage   \n",
       "14856           Delta Air Lines  Passenger Property Loss  Checked Baggage   \n",
       "14976        Northwest Airlines  Passenger Property Loss  Checked Baggage   \n",
       "14995   Continental Express Inc  Passenger Property Loss  Checked Baggage   \n",
       "15278        Northwest Airlines          Property Damage  Checked Baggage   \n",
       "15934                       NaN  Passenger Property Loss  Checked Baggage   \n",
       "16813                       NaN  Passenger Property Loss  Checked Baggage   \n",
       "17198                       UAL  Passenger Property Loss  Checked Baggage   \n",
       "19151        Northwest Airlines  Passenger Property Loss  Checked Baggage   \n",
       "21528                Air France  Passenger Property Loss  Checked Baggage   \n",
       "22161        Northwest Airlines  Passenger Property Loss  Checked Baggage   \n",
       "23232      Continental Airlines  Passenger Property Loss       Checkpoint   \n",
       "24355  Skywest Airlines Inc USA  Passenger Property Loss  Checked Baggage   \n",
       "24525                  Jet Blue  Passenger Property Loss  Checked Baggage   \n",
       "24768        Northwest Airlines          Property Damage  Checked Baggage   \n",
       "24903                  Jet Blue  Passenger Property Loss  Checked Baggage   \n",
       "25249           Delta Air Lines  Passenger Property Loss  Checked Baggage   \n",
       "25705                       UAL  Passenger Property Loss  Checked Baggage   \n",
       "25734        Southwest Airlines  Passenger Property Loss  Checked Baggage   \n",
       "26129      Continental Airlines  Passenger Property Loss  Checked Baggage   \n",
       "26530           Delta Air Lines  Passenger Property Loss  Checked Baggage   \n",
       "27086        Northwest Airlines          Property Damage  Checked Baggage   \n",
       "27481        Northwest Airlines          Property Damage  Checked Baggage   \n",
       "27628        Southwest Airlines          Property Damage  Checked Baggage   \n",
       "27819        Northwest Airlines  Passenger Property Loss  Checked Baggage   \n",
       "27901           Delta Air Lines  Passenger Property Loss  Checked Baggage   \n",
       "28031           Delta Air Lines  Passenger Property Loss  Checked Baggage   \n",
       "28037         American Airlines  Passenger Property Loss  Checked Baggage   \n",
       "29065        Northwest Airlines  Passenger Property Loss  Checked Baggage   \n",
       "29652           Delta Air Lines          Property Damage  Checked Baggage   \n",
       "31140         American Airlines          Property Damage  Checked Baggage   \n",
       "31570      Continental Airlines  Passenger Property Loss  Checked Baggage   \n",
       "31590           Delta Air Lines  Passenger Property Loss  Checked Baggage   \n",
       "31771                  Jet Blue  Passenger Property Loss  Checked Baggage   \n",
       "33613         American Airlines          Property Damage       Checkpoint   \n",
       "\n",
       "                                                    Item Claim Amount  \\\n",
       "13729                                              Other      $15.00    \n",
       "14323                                  Computer - Laptop   $2;463.00    \n",
       "14856                                  Cameras - Digital     $430.98    \n",
       "14976                                     Jewelry - Fine     $151.00    \n",
       "14995                                              Locks      $10.60    \n",
       "15278         Clothing - Shoes; belts; accessories; etc.     $710.00    \n",
       "15934                                     Jewelry - Fine     $197.73    \n",
       "16813         Clothing - Shoes; belts; accessories; etc.     $300.00    \n",
       "17198                                              Other   $2;000.72    \n",
       "19151                                              Locks      $15.00    \n",
       "21528  Cosmetics - Perfume; toilet articles; medicine...     $821.56    \n",
       "22161                                        Cell Phones      $35.00    \n",
       "23232                                              Other      $25.49    \n",
       "24355                                  Jewelry - Costume     $135.00    \n",
       "24525              Video Recordings (blank & commercial)     $317.64    \n",
       "24768                                              Other      $90.00    \n",
       "24903                                  Computer - Laptop   $1;503.35    \n",
       "25249  Clothing - Shoes; belts; accessories; etc.; Other     $190.00    \n",
       "25705                           Cameras - Digital; Other     $470.06    \n",
       "25734                           MP3 Players-(iPods; etc)     $250.00    \n",
       "26129  Cameras - Digital; Cameras - Non-electronic (C...   $1;400.25    \n",
       "26530  Cosmetics - Perfume; toilet articles; medicine...      $10.00    \n",
       "27086                        Baskets - Wicker or plastic      $15.00    \n",
       "27481          Luggage (all types including footlockers)     $185.00    \n",
       "27628  Clothing - Shoes; belts; accessories; etc.; Pa...     $250.00    \n",
       "27819                                           Currency     $420.00    \n",
       "27901                                           Currency     $100.00    \n",
       "28031  Cosmetics - Perfume; toilet articles; medicine...     $109.99    \n",
       "28037                                              Other      $69.95    \n",
       "29065  Clothing - Shoes; belts; accessories; etc.; Lu...     $200.00    \n",
       "29652                         Mirrors (including frames)      $21.93    \n",
       "31140                                              Locks       $5.98    \n",
       "31570                                              Locks      $16.00    \n",
       "31590  Cosmetics - Perfume; toilet articles; medicine...      $40.00    \n",
       "31771  Computer - Laptop; GPS - Global Positioning Sy...   $3;379.00    \n",
       "33613            Eyeglasses - (including contact lenses)     $469.00    \n",
       "\n",
       "                                                  Status Close Amount  \\\n",
       "13729                                           Approved      $15.00    \n",
       "14323                                             Denied          NaN   \n",
       "14856                                           Approved     $430.98    \n",
       "14976  Insufficient; one of the following items requi...          NaN   \n",
       "14995                                           Approved      $10.60    \n",
       "15278                                             Denied       $0.00    \n",
       "15934  Insufficient; one of the following items requi...          NaN   \n",
       "16813                                             Denied       $0.00    \n",
       "17198                                             Denied       $0.00    \n",
       "19151                                           Approved      $15.00    \n",
       "21528                                            Settled     $261.72    \n",
       "22161                                             Denied       $0.00    \n",
       "23232                                           Approved      $25.49    \n",
       "24355                                             Denied       $0.00    \n",
       "24525                                            Settled     $158.82    \n",
       "24768                                             Denied       $0.00    \n",
       "24903                                            Settled     $208.47    \n",
       "25249                                             Denied       $0.00    \n",
       "25705                                            Settled     $198.09    \n",
       "25734                                             Denied       $0.00    \n",
       "26129                                             Denied       $0.00    \n",
       "26530                                           Approved      $10.00    \n",
       "27086                                             Denied       $0.00    \n",
       "27481                                            Settled      $50.00    \n",
       "27628                                             Denied       $0.00    \n",
       "27819                                             Denied       $0.00    \n",
       "27901                                             Denied       $0.00    \n",
       "28031                                             Denied       $0.00    \n",
       "28037                                             Denied       $0.00    \n",
       "29065                                             Denied       $0.00    \n",
       "29652                                             Denied       $0.00    \n",
       "31140                                             Denied       $0.00    \n",
       "31570                                             Denied       $0.00    \n",
       "31590                                             Denied       $0.00    \n",
       "31771                                             Denied       $0.00    \n",
       "33613                                             Denied       $0.00    \n",
       "\n",
       "           Disposition  \n",
       "13729  Approve in Full  \n",
       "14323             Deny  \n",
       "14856  Approve in Full  \n",
       "14976              NaN  \n",
       "14995  Approve in Full  \n",
       "15278             Deny  \n",
       "15934              NaN  \n",
       "16813             Deny  \n",
       "17198             Deny  \n",
       "19151  Approve in Full  \n",
       "21528           Settle  \n",
       "22161             Deny  \n",
       "23232  Approve in Full  \n",
       "24355             Deny  \n",
       "24525           Settle  \n",
       "24768             Deny  \n",
       "24903           Settle  \n",
       "25249             Deny  \n",
       "25705           Settle  \n",
       "25734             Deny  \n",
       "26129             Deny  \n",
       "26530  Approve in Full  \n",
       "27086             Deny  \n",
       "27481           Settle  \n",
       "27628             Deny  \n",
       "27819             Deny  \n",
       "27901             Deny  \n",
       "28031             Deny  \n",
       "28037             Deny  \n",
       "29065             Deny  \n",
       "29652             Deny  \n",
       "31140             Deny  \n",
       "31570             Deny  \n",
       "31590             Deny  \n",
       "31771             Deny  \n",
       "33613             Deny  "
      ]
     },
     "execution_count": 563,
     "metadata": {},
     "output_type": "execute_result"
    }
   ],
   "source": [
    "ErrorT['Date Received'] = ErrorT['Date Received'].apply(lambda x : pd.to_datetime(x))\n",
    "ErrorT"
   ]
  },
  {
   "cell_type": "markdown",
   "metadata": {},
   "source": [
    "For the data in the Incident Date column that contain error, replace the year with the year that come from the Date Received column and replace the Incident Date data type into datetime object"
   ]
  },
  {
   "cell_type": "code",
   "execution_count": 564,
   "metadata": {
    "ExecuteTime": {
     "end_time": "2020-04-24T11:13:44.091463Z",
     "start_time": "2020-04-24T11:13:00.605886Z"
    }
   },
   "outputs": [],
   "source": [
    "tsa['Date Received'] = tsa['Date Received'].apply(lambda x : pd.to_datetime(x))"
   ]
  },
  {
   "cell_type": "code",
   "execution_count": 565,
   "metadata": {
    "ExecuteTime": {
     "end_time": "2020-04-24T11:14:52.808324Z",
     "start_time": "2020-04-24T11:13:44.096778Z"
    }
   },
   "outputs": [],
   "source": [
    "def YearI(x):\n",
    "    try:\n",
    "        x['Incident Date'] = pd.to_datetime(x['Incident Date'])\n",
    "        return x\n",
    "    except:\n",
    "        x['Incident Date'] = pd.to_datetime(x['Incident Date'][:7] + str(x['Date Received'].year))\n",
    "        return x\n",
    "    \n",
    "tsa[['Date Received', 'Incident Date']] = tsa[['Date Received', 'Incident Date']].apply(YearI, axis = 1)"
   ]
  },
  {
   "cell_type": "code",
   "execution_count": 566,
   "metadata": {
    "ExecuteTime": {
     "end_time": "2020-04-24T11:14:52.890203Z",
     "start_time": "2020-04-24T11:14:52.811715Z"
    }
   },
   "outputs": [
    {
     "name": "stdout",
     "output_type": "stream",
     "text": [
      "<class 'pandas.core.frame.DataFrame'>\n",
      "RangeIndex: 51066 entries, 0 to 51065\n",
      "Data columns (total 13 columns):\n",
      "Claim Number     51066 non-null object\n",
      "Date Received    50996 non-null datetime64[ns]\n",
      "Incident Date    50496 non-null datetime64[ns]\n",
      "Airport Code     48915 non-null object\n",
      "Airport Name     48915 non-null object\n",
      "Airline Name     41470 non-null object\n",
      "Claim Type       49035 non-null object\n",
      "Claim Site       50817 non-null object\n",
      "Item             48918 non-null object\n",
      "Claim Amount     46886 non-null object\n",
      "Status           47877 non-null object\n",
      "Close Amount     33786 non-null object\n",
      "Disposition      32846 non-null object\n",
      "dtypes: datetime64[ns](2), object(11)\n",
      "memory usage: 5.1+ MB\n"
     ]
    }
   ],
   "source": [
    "tsa.info()"
   ]
  },
  {
   "cell_type": "markdown",
   "metadata": {},
   "source": [
    "Check the data info and the dataframe that previously contain the error in their data to see if the data have been properly corrected."
   ]
  },
  {
   "cell_type": "code",
   "execution_count": 567,
   "metadata": {
    "ExecuteTime": {
     "end_time": "2020-04-24T11:14:52.988835Z",
     "start_time": "2020-04-24T11:14:52.895135Z"
    }
   },
   "outputs": [
    {
     "name": "stdout",
     "output_type": "stream",
     "text": [
      "<class 'pandas.core.frame.DataFrame'>\n",
      "RangeIndex: 51066 entries, 0 to 51065\n",
      "Data columns (total 13 columns):\n",
      "Claim Number     51066 non-null object\n",
      "Date Received    50996 non-null datetime64[ns]\n",
      "Incident Date    50496 non-null datetime64[ns]\n",
      "Airport Code     48915 non-null object\n",
      "Airport Name     48915 non-null object\n",
      "Airline Name     41470 non-null object\n",
      "Claim Type       49035 non-null object\n",
      "Claim Site       50817 non-null object\n",
      "Item             48918 non-null object\n",
      "Claim Amount     46886 non-null object\n",
      "Status           47877 non-null object\n",
      "Close Amount     33786 non-null object\n",
      "Disposition      32846 non-null object\n",
      "dtypes: datetime64[ns](2), object(11)\n",
      "memory usage: 5.1+ MB\n"
     ]
    }
   ],
   "source": [
    "tsa.info()"
   ]
  },
  {
   "cell_type": "code",
   "execution_count": 568,
   "metadata": {
    "ExecuteTime": {
     "end_time": "2020-04-24T11:14:53.132372Z",
     "start_time": "2020-04-24T11:14:52.993727Z"
    },
    "scrolled": false
   },
   "outputs": [
    {
     "data": {
      "text/html": [
       "<div>\n",
       "<style scoped>\n",
       "    .dataframe tbody tr th:only-of-type {\n",
       "        vertical-align: middle;\n",
       "    }\n",
       "\n",
       "    .dataframe tbody tr th {\n",
       "        vertical-align: top;\n",
       "    }\n",
       "\n",
       "    .dataframe thead th {\n",
       "        text-align: right;\n",
       "    }\n",
       "</style>\n",
       "<table border=\"1\" class=\"dataframe\">\n",
       "  <thead>\n",
       "    <tr style=\"text-align: right;\">\n",
       "      <th></th>\n",
       "      <th>Claim Number</th>\n",
       "      <th>Date Received</th>\n",
       "      <th>Incident Date</th>\n",
       "      <th>Airport Code</th>\n",
       "      <th>Airport Name</th>\n",
       "      <th>Airline Name</th>\n",
       "      <th>Claim Type</th>\n",
       "      <th>Claim Site</th>\n",
       "      <th>Item</th>\n",
       "      <th>Claim Amount</th>\n",
       "      <th>Status</th>\n",
       "      <th>Close Amount</th>\n",
       "      <th>Disposition</th>\n",
       "    </tr>\n",
       "  </thead>\n",
       "  <tbody>\n",
       "    <tr>\n",
       "      <td>13729</td>\n",
       "      <td>2005021676300</td>\n",
       "      <td>2005-01-24</td>\n",
       "      <td>2005-05-17</td>\n",
       "      <td>JFK</td>\n",
       "      <td>John F. Kennedy International</td>\n",
       "      <td>NaN</td>\n",
       "      <td>Passenger Property Loss</td>\n",
       "      <td>Checkpoint</td>\n",
       "      <td>Other</td>\n",
       "      <td>$15.00</td>\n",
       "      <td>Approved</td>\n",
       "      <td>$15.00</td>\n",
       "      <td>Approve in Full</td>\n",
       "    </tr>\n",
       "    <tr>\n",
       "      <td>14323</td>\n",
       "      <td>2005031778682</td>\n",
       "      <td>2005-02-23</td>\n",
       "      <td>2005-02-17</td>\n",
       "      <td>MSY</td>\n",
       "      <td>New Orleans International</td>\n",
       "      <td>UAL</td>\n",
       "      <td>Passenger Property Loss</td>\n",
       "      <td>Checked Baggage</td>\n",
       "      <td>Computer - Laptop</td>\n",
       "      <td>$2;463.00</td>\n",
       "      <td>Denied</td>\n",
       "      <td>NaN</td>\n",
       "      <td>Deny</td>\n",
       "    </tr>\n",
       "    <tr>\n",
       "      <td>14856</td>\n",
       "      <td>2005033180821</td>\n",
       "      <td>2005-03-23</td>\n",
       "      <td>2005-03-07</td>\n",
       "      <td>CVG</td>\n",
       "      <td>Cincinnati/Northern Kentucky International</td>\n",
       "      <td>Delta Air Lines</td>\n",
       "      <td>Passenger Property Loss</td>\n",
       "      <td>Checked Baggage</td>\n",
       "      <td>Cameras - Digital</td>\n",
       "      <td>$430.98</td>\n",
       "      <td>Approved</td>\n",
       "      <td>$430.98</td>\n",
       "      <td>Approve in Full</td>\n",
       "    </tr>\n",
       "    <tr>\n",
       "      <td>14976</td>\n",
       "      <td>2005040181143</td>\n",
       "      <td>2005-03-29</td>\n",
       "      <td>2005-03-04</td>\n",
       "      <td>MSP</td>\n",
       "      <td>Minneapolis/ St.Paul International Airport</td>\n",
       "      <td>Northwest Airlines</td>\n",
       "      <td>Passenger Property Loss</td>\n",
       "      <td>Checked Baggage</td>\n",
       "      <td>Jewelry - Fine</td>\n",
       "      <td>$151.00</td>\n",
       "      <td>Insufficient; one of the following items requi...</td>\n",
       "      <td>NaN</td>\n",
       "      <td>NaN</td>\n",
       "    </tr>\n",
       "    <tr>\n",
       "      <td>14995</td>\n",
       "      <td>2005040581540</td>\n",
       "      <td>2005-03-30</td>\n",
       "      <td>2005-03-18</td>\n",
       "      <td>MAF</td>\n",
       "      <td>Midland International Airport</td>\n",
       "      <td>Continental Express Inc</td>\n",
       "      <td>Passenger Property Loss</td>\n",
       "      <td>Checked Baggage</td>\n",
       "      <td>Locks</td>\n",
       "      <td>$10.60</td>\n",
       "      <td>Approved</td>\n",
       "      <td>$10.60</td>\n",
       "      <td>Approve in Full</td>\n",
       "    </tr>\n",
       "    <tr>\n",
       "      <td>15278</td>\n",
       "      <td>2005041282328</td>\n",
       "      <td>2005-04-12</td>\n",
       "      <td>2005-03-12</td>\n",
       "      <td>MSP</td>\n",
       "      <td>Minneapolis/ St.Paul International Airport</td>\n",
       "      <td>Northwest Airlines</td>\n",
       "      <td>Property Damage</td>\n",
       "      <td>Checked Baggage</td>\n",
       "      <td>Clothing - Shoes; belts; accessories; etc.</td>\n",
       "      <td>$710.00</td>\n",
       "      <td>Denied</td>\n",
       "      <td>$0.00</td>\n",
       "      <td>Deny</td>\n",
       "    </tr>\n",
       "    <tr>\n",
       "      <td>15934</td>\n",
       "      <td>2005051985030</td>\n",
       "      <td>2005-05-17</td>\n",
       "      <td>2005-05-01</td>\n",
       "      <td>NaN</td>\n",
       "      <td>NaN</td>\n",
       "      <td>NaN</td>\n",
       "      <td>Passenger Property Loss</td>\n",
       "      <td>Checked Baggage</td>\n",
       "      <td>Jewelry - Fine</td>\n",
       "      <td>$197.73</td>\n",
       "      <td>Insufficient; one of the following items requi...</td>\n",
       "      <td>NaN</td>\n",
       "      <td>NaN</td>\n",
       "    </tr>\n",
       "    <tr>\n",
       "      <td>16813</td>\n",
       "      <td>2005071188622</td>\n",
       "      <td>2005-07-08</td>\n",
       "      <td>2005-07-01</td>\n",
       "      <td>HDN</td>\n",
       "      <td>Yampa Valley Regional</td>\n",
       "      <td>NaN</td>\n",
       "      <td>Passenger Property Loss</td>\n",
       "      <td>Checked Baggage</td>\n",
       "      <td>Clothing - Shoes; belts; accessories; etc.</td>\n",
       "      <td>$300.00</td>\n",
       "      <td>Denied</td>\n",
       "      <td>$0.00</td>\n",
       "      <td>Deny</td>\n",
       "    </tr>\n",
       "    <tr>\n",
       "      <td>17198</td>\n",
       "      <td>2005091492472</td>\n",
       "      <td>2005-08-01</td>\n",
       "      <td>2005-05-01</td>\n",
       "      <td>IAH</td>\n",
       "      <td>Houston - George Bush Intercontinental Airport</td>\n",
       "      <td>UAL</td>\n",
       "      <td>Passenger Property Loss</td>\n",
       "      <td>Checked Baggage</td>\n",
       "      <td>Other</td>\n",
       "      <td>$2;000.72</td>\n",
       "      <td>Denied</td>\n",
       "      <td>$0.00</td>\n",
       "      <td>Deny</td>\n",
       "    </tr>\n",
       "    <tr>\n",
       "      <td>19151</td>\n",
       "      <td>2005121397614</td>\n",
       "      <td>2005-12-08</td>\n",
       "      <td>2005-11-20</td>\n",
       "      <td>LNK</td>\n",
       "      <td>Lincoln Municipal</td>\n",
       "      <td>Northwest Airlines</td>\n",
       "      <td>Passenger Property Loss</td>\n",
       "      <td>Checked Baggage</td>\n",
       "      <td>Locks</td>\n",
       "      <td>$15.00</td>\n",
       "      <td>Approved</td>\n",
       "      <td>$15.00</td>\n",
       "      <td>Approve in Full</td>\n",
       "    </tr>\n",
       "    <tr>\n",
       "      <td>21528</td>\n",
       "      <td>2006060207211</td>\n",
       "      <td>2006-05-30</td>\n",
       "      <td>2006-05-26</td>\n",
       "      <td>JFK</td>\n",
       "      <td>John F. Kennedy International</td>\n",
       "      <td>Air France</td>\n",
       "      <td>Passenger Property Loss</td>\n",
       "      <td>Checked Baggage</td>\n",
       "      <td>Cosmetics - Perfume; toilet articles; medicine...</td>\n",
       "      <td>$821.56</td>\n",
       "      <td>Settled</td>\n",
       "      <td>$261.72</td>\n",
       "      <td>Settle</td>\n",
       "    </tr>\n",
       "    <tr>\n",
       "      <td>22161</td>\n",
       "      <td>2006072610104</td>\n",
       "      <td>2006-07-14</td>\n",
       "      <td>2006-10-25</td>\n",
       "      <td>MEM</td>\n",
       "      <td>Memphis International Airport</td>\n",
       "      <td>Northwest Airlines</td>\n",
       "      <td>Passenger Property Loss</td>\n",
       "      <td>Checked Baggage</td>\n",
       "      <td>Cell Phones</td>\n",
       "      <td>$35.00</td>\n",
       "      <td>Denied</td>\n",
       "      <td>$0.00</td>\n",
       "      <td>Deny</td>\n",
       "    </tr>\n",
       "    <tr>\n",
       "      <td>23232</td>\n",
       "      <td>2006101213887</td>\n",
       "      <td>2006-10-11</td>\n",
       "      <td>2006-09-27</td>\n",
       "      <td>JFK</td>\n",
       "      <td>John F. Kennedy International</td>\n",
       "      <td>Continental Airlines</td>\n",
       "      <td>Passenger Property Loss</td>\n",
       "      <td>Checkpoint</td>\n",
       "      <td>Other</td>\n",
       "      <td>$25.49</td>\n",
       "      <td>Approved</td>\n",
       "      <td>$25.49</td>\n",
       "      <td>Approve in Full</td>\n",
       "    </tr>\n",
       "    <tr>\n",
       "      <td>24355</td>\n",
       "      <td>2007010418246</td>\n",
       "      <td>2007-01-03</td>\n",
       "      <td>2007-11-03</td>\n",
       "      <td>OMA</td>\n",
       "      <td>Eppley Airfield</td>\n",
       "      <td>Skywest Airlines Inc USA</td>\n",
       "      <td>Passenger Property Loss</td>\n",
       "      <td>Checked Baggage</td>\n",
       "      <td>Jewelry - Costume</td>\n",
       "      <td>$135.00</td>\n",
       "      <td>Denied</td>\n",
       "      <td>$0.00</td>\n",
       "      <td>Deny</td>\n",
       "    </tr>\n",
       "    <tr>\n",
       "      <td>24525</td>\n",
       "      <td>2007011718892</td>\n",
       "      <td>2007-01-10</td>\n",
       "      <td>2007-08-12</td>\n",
       "      <td>JFK</td>\n",
       "      <td>John F. Kennedy International</td>\n",
       "      <td>Jet Blue</td>\n",
       "      <td>Passenger Property Loss</td>\n",
       "      <td>Checked Baggage</td>\n",
       "      <td>Video Recordings (blank &amp; commercial)</td>\n",
       "      <td>$317.64</td>\n",
       "      <td>Settled</td>\n",
       "      <td>$158.82</td>\n",
       "      <td>Settle</td>\n",
       "    </tr>\n",
       "    <tr>\n",
       "      <td>24768</td>\n",
       "      <td>2007013119947</td>\n",
       "      <td>2007-01-26</td>\n",
       "      <td>2007-12-19</td>\n",
       "      <td>PHX</td>\n",
       "      <td>Phoenix Sky Harbor International</td>\n",
       "      <td>Northwest Airlines</td>\n",
       "      <td>Property Damage</td>\n",
       "      <td>Checked Baggage</td>\n",
       "      <td>Other</td>\n",
       "      <td>$90.00</td>\n",
       "      <td>Denied</td>\n",
       "      <td>$0.00</td>\n",
       "      <td>Deny</td>\n",
       "    </tr>\n",
       "    <tr>\n",
       "      <td>24903</td>\n",
       "      <td>2007020620372</td>\n",
       "      <td>2007-02-05</td>\n",
       "      <td>2007-01-13</td>\n",
       "      <td>JFK</td>\n",
       "      <td>John F. Kennedy International</td>\n",
       "      <td>Jet Blue</td>\n",
       "      <td>Passenger Property Loss</td>\n",
       "      <td>Checked Baggage</td>\n",
       "      <td>Computer - Laptop</td>\n",
       "      <td>$1;503.35</td>\n",
       "      <td>Settled</td>\n",
       "      <td>$208.47</td>\n",
       "      <td>Settle</td>\n",
       "    </tr>\n",
       "    <tr>\n",
       "      <td>25249</td>\n",
       "      <td>2007031222075</td>\n",
       "      <td>2007-03-06</td>\n",
       "      <td>2007-02-18</td>\n",
       "      <td>SEA</td>\n",
       "      <td>Seattle-Tacoma International</td>\n",
       "      <td>Delta Air Lines</td>\n",
       "      <td>Passenger Property Loss</td>\n",
       "      <td>Checked Baggage</td>\n",
       "      <td>Clothing - Shoes; belts; accessories; etc.; Other</td>\n",
       "      <td>$190.00</td>\n",
       "      <td>Denied</td>\n",
       "      <td>$0.00</td>\n",
       "      <td>Deny</td>\n",
       "    </tr>\n",
       "    <tr>\n",
       "      <td>25705</td>\n",
       "      <td>2007041323942</td>\n",
       "      <td>2007-04-10</td>\n",
       "      <td>2007-04-07</td>\n",
       "      <td>IAD</td>\n",
       "      <td>Washington Dulles International</td>\n",
       "      <td>UAL</td>\n",
       "      <td>Passenger Property Loss</td>\n",
       "      <td>Checked Baggage</td>\n",
       "      <td>Cameras - Digital; Other</td>\n",
       "      <td>$470.06</td>\n",
       "      <td>Settled</td>\n",
       "      <td>$198.09</td>\n",
       "      <td>Settle</td>\n",
       "    </tr>\n",
       "    <tr>\n",
       "      <td>25734</td>\n",
       "      <td>2007041323952</td>\n",
       "      <td>2007-04-12</td>\n",
       "      <td>2007-01-29</td>\n",
       "      <td>SAN</td>\n",
       "      <td>San Diego International</td>\n",
       "      <td>Southwest Airlines</td>\n",
       "      <td>Passenger Property Loss</td>\n",
       "      <td>Checked Baggage</td>\n",
       "      <td>MP3 Players-(iPods; etc)</td>\n",
       "      <td>$250.00</td>\n",
       "      <td>Denied</td>\n",
       "      <td>$0.00</td>\n",
       "      <td>Deny</td>\n",
       "    </tr>\n",
       "    <tr>\n",
       "      <td>26129</td>\n",
       "      <td>2007051825607</td>\n",
       "      <td>2007-05-16</td>\n",
       "      <td>2007-03-06</td>\n",
       "      <td>BPT</td>\n",
       "      <td>Southeast Texas Regional</td>\n",
       "      <td>Continental Airlines</td>\n",
       "      <td>Passenger Property Loss</td>\n",
       "      <td>Checked Baggage</td>\n",
       "      <td>Cameras - Digital; Cameras - Non-electronic (C...</td>\n",
       "      <td>$1;400.25</td>\n",
       "      <td>Denied</td>\n",
       "      <td>$0.00</td>\n",
       "      <td>Deny</td>\n",
       "    </tr>\n",
       "    <tr>\n",
       "      <td>26530</td>\n",
       "      <td>2007062127333</td>\n",
       "      <td>2007-06-19</td>\n",
       "      <td>2007-05-20</td>\n",
       "      <td>FLL</td>\n",
       "      <td>Ft. Lauderdale-Hollywood International</td>\n",
       "      <td>Delta Air Lines</td>\n",
       "      <td>Passenger Property Loss</td>\n",
       "      <td>Checked Baggage</td>\n",
       "      <td>Cosmetics - Perfume; toilet articles; medicine...</td>\n",
       "      <td>$10.00</td>\n",
       "      <td>Approved</td>\n",
       "      <td>$10.00</td>\n",
       "      <td>Approve in Full</td>\n",
       "    </tr>\n",
       "    <tr>\n",
       "      <td>27086</td>\n",
       "      <td>2007073129436</td>\n",
       "      <td>2007-07-31</td>\n",
       "      <td>2007-07-13</td>\n",
       "      <td>IND</td>\n",
       "      <td>Indianapolis International</td>\n",
       "      <td>Northwest Airlines</td>\n",
       "      <td>Property Damage</td>\n",
       "      <td>Checked Baggage</td>\n",
       "      <td>Baskets - Wicker or plastic</td>\n",
       "      <td>$15.00</td>\n",
       "      <td>Denied</td>\n",
       "      <td>$0.00</td>\n",
       "      <td>Deny</td>\n",
       "    </tr>\n",
       "    <tr>\n",
       "      <td>27481</td>\n",
       "      <td>2007083131244</td>\n",
       "      <td>2007-08-28</td>\n",
       "      <td>2007-07-09</td>\n",
       "      <td>MSP</td>\n",
       "      <td>Minneapolis/ St.Paul International Airport</td>\n",
       "      <td>Northwest Airlines</td>\n",
       "      <td>Property Damage</td>\n",
       "      <td>Checked Baggage</td>\n",
       "      <td>Luggage (all types including footlockers)</td>\n",
       "      <td>$185.00</td>\n",
       "      <td>Settled</td>\n",
       "      <td>$50.00</td>\n",
       "      <td>Settle</td>\n",
       "    </tr>\n",
       "    <tr>\n",
       "      <td>27628</td>\n",
       "      <td>2007091431890</td>\n",
       "      <td>2007-09-10</td>\n",
       "      <td>2007-03-02</td>\n",
       "      <td>MDW</td>\n",
       "      <td>Midway International Airport</td>\n",
       "      <td>Southwest Airlines</td>\n",
       "      <td>Property Damage</td>\n",
       "      <td>Checked Baggage</td>\n",
       "      <td>Clothing - Shoes; belts; accessories; etc.; Pa...</td>\n",
       "      <td>$250.00</td>\n",
       "      <td>Denied</td>\n",
       "      <td>$0.00</td>\n",
       "      <td>Deny</td>\n",
       "    </tr>\n",
       "    <tr>\n",
       "      <td>27819</td>\n",
       "      <td>2007092732635</td>\n",
       "      <td>2007-09-24</td>\n",
       "      <td>2007-09-17</td>\n",
       "      <td>DTW</td>\n",
       "      <td>Detroit Metropolitan Wayne County Airport</td>\n",
       "      <td>Northwest Airlines</td>\n",
       "      <td>Passenger Property Loss</td>\n",
       "      <td>Checked Baggage</td>\n",
       "      <td>Currency</td>\n",
       "      <td>$420.00</td>\n",
       "      <td>Denied</td>\n",
       "      <td>$0.00</td>\n",
       "      <td>Deny</td>\n",
       "    </tr>\n",
       "    <tr>\n",
       "      <td>27901</td>\n",
       "      <td>2007100533098</td>\n",
       "      <td>2007-10-02</td>\n",
       "      <td>2007-05-22</td>\n",
       "      <td>RSW</td>\n",
       "      <td>Southwest Florida International</td>\n",
       "      <td>Delta Air Lines</td>\n",
       "      <td>Passenger Property Loss</td>\n",
       "      <td>Checked Baggage</td>\n",
       "      <td>Currency</td>\n",
       "      <td>$100.00</td>\n",
       "      <td>Denied</td>\n",
       "      <td>$0.00</td>\n",
       "      <td>Deny</td>\n",
       "    </tr>\n",
       "    <tr>\n",
       "      <td>28031</td>\n",
       "      <td>2007101733560</td>\n",
       "      <td>2007-10-12</td>\n",
       "      <td>2007-09-28</td>\n",
       "      <td>ATL</td>\n",
       "      <td>Hartsfield-Jackson Atlanta International Airport</td>\n",
       "      <td>Delta Air Lines</td>\n",
       "      <td>Passenger Property Loss</td>\n",
       "      <td>Checked Baggage</td>\n",
       "      <td>Cosmetics - Perfume; toilet articles; medicine...</td>\n",
       "      <td>$109.99</td>\n",
       "      <td>Denied</td>\n",
       "      <td>$0.00</td>\n",
       "      <td>Deny</td>\n",
       "    </tr>\n",
       "    <tr>\n",
       "      <td>28037</td>\n",
       "      <td>2007101833587</td>\n",
       "      <td>2007-10-12</td>\n",
       "      <td>2007-09-04</td>\n",
       "      <td>MIA</td>\n",
       "      <td>Miami International Airport</td>\n",
       "      <td>American Airlines</td>\n",
       "      <td>Passenger Property Loss</td>\n",
       "      <td>Checked Baggage</td>\n",
       "      <td>Other</td>\n",
       "      <td>$69.95</td>\n",
       "      <td>Denied</td>\n",
       "      <td>$0.00</td>\n",
       "      <td>Deny</td>\n",
       "    </tr>\n",
       "    <tr>\n",
       "      <td>29065</td>\n",
       "      <td>2008011437819</td>\n",
       "      <td>2008-01-07</td>\n",
       "      <td>2008-11-30</td>\n",
       "      <td>RAP</td>\n",
       "      <td>Rapid City Regional</td>\n",
       "      <td>Northwest Airlines</td>\n",
       "      <td>Passenger Property Loss</td>\n",
       "      <td>Checked Baggage</td>\n",
       "      <td>Clothing - Shoes; belts; accessories; etc.; Lu...</td>\n",
       "      <td>$200.00</td>\n",
       "      <td>Denied</td>\n",
       "      <td>$0.00</td>\n",
       "      <td>Deny</td>\n",
       "    </tr>\n",
       "    <tr>\n",
       "      <td>29652</td>\n",
       "      <td>2008022840321</td>\n",
       "      <td>2008-02-22</td>\n",
       "      <td>2008-02-08</td>\n",
       "      <td>AVL</td>\n",
       "      <td>Asheville Regional Airport</td>\n",
       "      <td>Delta Air Lines</td>\n",
       "      <td>Property Damage</td>\n",
       "      <td>Checked Baggage</td>\n",
       "      <td>Mirrors (including frames)</td>\n",
       "      <td>$21.93</td>\n",
       "      <td>Denied</td>\n",
       "      <td>$0.00</td>\n",
       "      <td>Deny</td>\n",
       "    </tr>\n",
       "    <tr>\n",
       "      <td>31140</td>\n",
       "      <td>2008062646202</td>\n",
       "      <td>2008-06-23</td>\n",
       "      <td>2008-01-29</td>\n",
       "      <td>MIA</td>\n",
       "      <td>Miami International Airport</td>\n",
       "      <td>American Airlines</td>\n",
       "      <td>Property Damage</td>\n",
       "      <td>Checked Baggage</td>\n",
       "      <td>Locks</td>\n",
       "      <td>$5.98</td>\n",
       "      <td>Denied</td>\n",
       "      <td>$0.00</td>\n",
       "      <td>Deny</td>\n",
       "    </tr>\n",
       "    <tr>\n",
       "      <td>31570</td>\n",
       "      <td>2008080548050</td>\n",
       "      <td>2008-07-31</td>\n",
       "      <td>2008-07-30</td>\n",
       "      <td>HOU</td>\n",
       "      <td>William P. Hobby</td>\n",
       "      <td>Continental Airlines</td>\n",
       "      <td>Passenger Property Loss</td>\n",
       "      <td>Checked Baggage</td>\n",
       "      <td>Locks</td>\n",
       "      <td>$16.00</td>\n",
       "      <td>Denied</td>\n",
       "      <td>$0.00</td>\n",
       "      <td>Deny</td>\n",
       "    </tr>\n",
       "    <tr>\n",
       "      <td>31590</td>\n",
       "      <td>2008081148331</td>\n",
       "      <td>2008-08-01</td>\n",
       "      <td>2008-07-13</td>\n",
       "      <td>ATL</td>\n",
       "      <td>Hartsfield-Jackson Atlanta International Airport</td>\n",
       "      <td>Delta Air Lines</td>\n",
       "      <td>Passenger Property Loss</td>\n",
       "      <td>Checked Baggage</td>\n",
       "      <td>Cosmetics - Perfume; toilet articles; medicine...</td>\n",
       "      <td>$40.00</td>\n",
       "      <td>Denied</td>\n",
       "      <td>$0.00</td>\n",
       "      <td>Deny</td>\n",
       "    </tr>\n",
       "    <tr>\n",
       "      <td>31771</td>\n",
       "      <td>2008081948782</td>\n",
       "      <td>2008-08-19</td>\n",
       "      <td>2008-07-23</td>\n",
       "      <td>FLL</td>\n",
       "      <td>Ft. Lauderdale-Hollywood International</td>\n",
       "      <td>Jet Blue</td>\n",
       "      <td>Passenger Property Loss</td>\n",
       "      <td>Checked Baggage</td>\n",
       "      <td>Computer - Laptop; GPS - Global Positioning Sy...</td>\n",
       "      <td>$3;379.00</td>\n",
       "      <td>Denied</td>\n",
       "      <td>$0.00</td>\n",
       "      <td>Deny</td>\n",
       "    </tr>\n",
       "    <tr>\n",
       "      <td>33613</td>\n",
       "      <td>2009032056617</td>\n",
       "      <td>2009-03-04</td>\n",
       "      <td>2009-01-18</td>\n",
       "      <td>FLL</td>\n",
       "      <td>Ft. Lauderdale-Hollywood International</td>\n",
       "      <td>American Airlines</td>\n",
       "      <td>Property Damage</td>\n",
       "      <td>Checkpoint</td>\n",
       "      <td>Eyeglasses - (including contact lenses)</td>\n",
       "      <td>$469.00</td>\n",
       "      <td>Denied</td>\n",
       "      <td>$0.00</td>\n",
       "      <td>Deny</td>\n",
       "    </tr>\n",
       "  </tbody>\n",
       "</table>\n",
       "</div>"
      ],
      "text/plain": [
       "        Claim Number Date Received Incident Date Airport Code  \\\n",
       "13729  2005021676300    2005-01-24    2005-05-17          JFK   \n",
       "14323  2005031778682    2005-02-23    2005-02-17          MSY   \n",
       "14856  2005033180821    2005-03-23    2005-03-07          CVG   \n",
       "14976  2005040181143    2005-03-29    2005-03-04          MSP   \n",
       "14995  2005040581540    2005-03-30    2005-03-18          MAF   \n",
       "15278  2005041282328    2005-04-12    2005-03-12          MSP   \n",
       "15934  2005051985030    2005-05-17    2005-05-01          NaN   \n",
       "16813  2005071188622    2005-07-08    2005-07-01          HDN   \n",
       "17198  2005091492472    2005-08-01    2005-05-01          IAH   \n",
       "19151  2005121397614    2005-12-08    2005-11-20          LNK   \n",
       "21528  2006060207211    2006-05-30    2006-05-26          JFK   \n",
       "22161  2006072610104    2006-07-14    2006-10-25          MEM   \n",
       "23232  2006101213887    2006-10-11    2006-09-27          JFK   \n",
       "24355  2007010418246    2007-01-03    2007-11-03          OMA   \n",
       "24525  2007011718892    2007-01-10    2007-08-12          JFK   \n",
       "24768  2007013119947    2007-01-26    2007-12-19          PHX   \n",
       "24903  2007020620372    2007-02-05    2007-01-13          JFK   \n",
       "25249  2007031222075    2007-03-06    2007-02-18          SEA   \n",
       "25705  2007041323942    2007-04-10    2007-04-07          IAD   \n",
       "25734  2007041323952    2007-04-12    2007-01-29          SAN   \n",
       "26129  2007051825607    2007-05-16    2007-03-06          BPT   \n",
       "26530  2007062127333    2007-06-19    2007-05-20          FLL   \n",
       "27086  2007073129436    2007-07-31    2007-07-13          IND   \n",
       "27481  2007083131244    2007-08-28    2007-07-09          MSP   \n",
       "27628  2007091431890    2007-09-10    2007-03-02          MDW   \n",
       "27819  2007092732635    2007-09-24    2007-09-17          DTW   \n",
       "27901  2007100533098    2007-10-02    2007-05-22          RSW   \n",
       "28031  2007101733560    2007-10-12    2007-09-28          ATL   \n",
       "28037  2007101833587    2007-10-12    2007-09-04          MIA   \n",
       "29065  2008011437819    2008-01-07    2008-11-30          RAP   \n",
       "29652  2008022840321    2008-02-22    2008-02-08          AVL   \n",
       "31140  2008062646202    2008-06-23    2008-01-29          MIA   \n",
       "31570  2008080548050    2008-07-31    2008-07-30          HOU   \n",
       "31590  2008081148331    2008-08-01    2008-07-13          ATL   \n",
       "31771  2008081948782    2008-08-19    2008-07-23          FLL   \n",
       "33613  2009032056617    2009-03-04    2009-01-18          FLL   \n",
       "\n",
       "                                           Airport Name  \\\n",
       "13729                     John F. Kennedy International   \n",
       "14323                         New Orleans International   \n",
       "14856        Cincinnati/Northern Kentucky International   \n",
       "14976        Minneapolis/ St.Paul International Airport   \n",
       "14995                     Midland International Airport   \n",
       "15278        Minneapolis/ St.Paul International Airport   \n",
       "15934                                               NaN   \n",
       "16813                             Yampa Valley Regional   \n",
       "17198    Houston - George Bush Intercontinental Airport   \n",
       "19151                                 Lincoln Municipal   \n",
       "21528                     John F. Kennedy International   \n",
       "22161                     Memphis International Airport   \n",
       "23232                     John F. Kennedy International   \n",
       "24355                                   Eppley Airfield   \n",
       "24525                     John F. Kennedy International   \n",
       "24768                  Phoenix Sky Harbor International   \n",
       "24903                     John F. Kennedy International   \n",
       "25249                      Seattle-Tacoma International   \n",
       "25705                   Washington Dulles International   \n",
       "25734                           San Diego International   \n",
       "26129                          Southeast Texas Regional   \n",
       "26530            Ft. Lauderdale-Hollywood International   \n",
       "27086                        Indianapolis International   \n",
       "27481        Minneapolis/ St.Paul International Airport   \n",
       "27628                      Midway International Airport   \n",
       "27819         Detroit Metropolitan Wayne County Airport   \n",
       "27901                   Southwest Florida International   \n",
       "28031  Hartsfield-Jackson Atlanta International Airport   \n",
       "28037                       Miami International Airport   \n",
       "29065                               Rapid City Regional   \n",
       "29652                        Asheville Regional Airport   \n",
       "31140                       Miami International Airport   \n",
       "31570                                  William P. Hobby   \n",
       "31590  Hartsfield-Jackson Atlanta International Airport   \n",
       "31771            Ft. Lauderdale-Hollywood International   \n",
       "33613            Ft. Lauderdale-Hollywood International   \n",
       "\n",
       "                   Airline Name               Claim Type       Claim Site  \\\n",
       "13729                       NaN  Passenger Property Loss       Checkpoint   \n",
       "14323                       UAL  Passenger Property Loss  Checked Baggage   \n",
       "14856           Delta Air Lines  Passenger Property Loss  Checked Baggage   \n",
       "14976        Northwest Airlines  Passenger Property Loss  Checked Baggage   \n",
       "14995   Continental Express Inc  Passenger Property Loss  Checked Baggage   \n",
       "15278        Northwest Airlines          Property Damage  Checked Baggage   \n",
       "15934                       NaN  Passenger Property Loss  Checked Baggage   \n",
       "16813                       NaN  Passenger Property Loss  Checked Baggage   \n",
       "17198                       UAL  Passenger Property Loss  Checked Baggage   \n",
       "19151        Northwest Airlines  Passenger Property Loss  Checked Baggage   \n",
       "21528                Air France  Passenger Property Loss  Checked Baggage   \n",
       "22161        Northwest Airlines  Passenger Property Loss  Checked Baggage   \n",
       "23232      Continental Airlines  Passenger Property Loss       Checkpoint   \n",
       "24355  Skywest Airlines Inc USA  Passenger Property Loss  Checked Baggage   \n",
       "24525                  Jet Blue  Passenger Property Loss  Checked Baggage   \n",
       "24768        Northwest Airlines          Property Damage  Checked Baggage   \n",
       "24903                  Jet Blue  Passenger Property Loss  Checked Baggage   \n",
       "25249           Delta Air Lines  Passenger Property Loss  Checked Baggage   \n",
       "25705                       UAL  Passenger Property Loss  Checked Baggage   \n",
       "25734        Southwest Airlines  Passenger Property Loss  Checked Baggage   \n",
       "26129      Continental Airlines  Passenger Property Loss  Checked Baggage   \n",
       "26530           Delta Air Lines  Passenger Property Loss  Checked Baggage   \n",
       "27086        Northwest Airlines          Property Damage  Checked Baggage   \n",
       "27481        Northwest Airlines          Property Damage  Checked Baggage   \n",
       "27628        Southwest Airlines          Property Damage  Checked Baggage   \n",
       "27819        Northwest Airlines  Passenger Property Loss  Checked Baggage   \n",
       "27901           Delta Air Lines  Passenger Property Loss  Checked Baggage   \n",
       "28031           Delta Air Lines  Passenger Property Loss  Checked Baggage   \n",
       "28037         American Airlines  Passenger Property Loss  Checked Baggage   \n",
       "29065        Northwest Airlines  Passenger Property Loss  Checked Baggage   \n",
       "29652           Delta Air Lines          Property Damage  Checked Baggage   \n",
       "31140         American Airlines          Property Damage  Checked Baggage   \n",
       "31570      Continental Airlines  Passenger Property Loss  Checked Baggage   \n",
       "31590           Delta Air Lines  Passenger Property Loss  Checked Baggage   \n",
       "31771                  Jet Blue  Passenger Property Loss  Checked Baggage   \n",
       "33613         American Airlines          Property Damage       Checkpoint   \n",
       "\n",
       "                                                    Item Claim Amount  \\\n",
       "13729                                              Other      $15.00    \n",
       "14323                                  Computer - Laptop   $2;463.00    \n",
       "14856                                  Cameras - Digital     $430.98    \n",
       "14976                                     Jewelry - Fine     $151.00    \n",
       "14995                                              Locks      $10.60    \n",
       "15278         Clothing - Shoes; belts; accessories; etc.     $710.00    \n",
       "15934                                     Jewelry - Fine     $197.73    \n",
       "16813         Clothing - Shoes; belts; accessories; etc.     $300.00    \n",
       "17198                                              Other   $2;000.72    \n",
       "19151                                              Locks      $15.00    \n",
       "21528  Cosmetics - Perfume; toilet articles; medicine...     $821.56    \n",
       "22161                                        Cell Phones      $35.00    \n",
       "23232                                              Other      $25.49    \n",
       "24355                                  Jewelry - Costume     $135.00    \n",
       "24525              Video Recordings (blank & commercial)     $317.64    \n",
       "24768                                              Other      $90.00    \n",
       "24903                                  Computer - Laptop   $1;503.35    \n",
       "25249  Clothing - Shoes; belts; accessories; etc.; Other     $190.00    \n",
       "25705                           Cameras - Digital; Other     $470.06    \n",
       "25734                           MP3 Players-(iPods; etc)     $250.00    \n",
       "26129  Cameras - Digital; Cameras - Non-electronic (C...   $1;400.25    \n",
       "26530  Cosmetics - Perfume; toilet articles; medicine...      $10.00    \n",
       "27086                        Baskets - Wicker or plastic      $15.00    \n",
       "27481          Luggage (all types including footlockers)     $185.00    \n",
       "27628  Clothing - Shoes; belts; accessories; etc.; Pa...     $250.00    \n",
       "27819                                           Currency     $420.00    \n",
       "27901                                           Currency     $100.00    \n",
       "28031  Cosmetics - Perfume; toilet articles; medicine...     $109.99    \n",
       "28037                                              Other      $69.95    \n",
       "29065  Clothing - Shoes; belts; accessories; etc.; Lu...     $200.00    \n",
       "29652                         Mirrors (including frames)      $21.93    \n",
       "31140                                              Locks       $5.98    \n",
       "31570                                              Locks      $16.00    \n",
       "31590  Cosmetics - Perfume; toilet articles; medicine...      $40.00    \n",
       "31771  Computer - Laptop; GPS - Global Positioning Sy...   $3;379.00    \n",
       "33613            Eyeglasses - (including contact lenses)     $469.00    \n",
       "\n",
       "                                                  Status Close Amount  \\\n",
       "13729                                           Approved      $15.00    \n",
       "14323                                             Denied          NaN   \n",
       "14856                                           Approved     $430.98    \n",
       "14976  Insufficient; one of the following items requi...          NaN   \n",
       "14995                                           Approved      $10.60    \n",
       "15278                                             Denied       $0.00    \n",
       "15934  Insufficient; one of the following items requi...          NaN   \n",
       "16813                                             Denied       $0.00    \n",
       "17198                                             Denied       $0.00    \n",
       "19151                                           Approved      $15.00    \n",
       "21528                                            Settled     $261.72    \n",
       "22161                                             Denied       $0.00    \n",
       "23232                                           Approved      $25.49    \n",
       "24355                                             Denied       $0.00    \n",
       "24525                                            Settled     $158.82    \n",
       "24768                                             Denied       $0.00    \n",
       "24903                                            Settled     $208.47    \n",
       "25249                                             Denied       $0.00    \n",
       "25705                                            Settled     $198.09    \n",
       "25734                                             Denied       $0.00    \n",
       "26129                                             Denied       $0.00    \n",
       "26530                                           Approved      $10.00    \n",
       "27086                                             Denied       $0.00    \n",
       "27481                                            Settled      $50.00    \n",
       "27628                                             Denied       $0.00    \n",
       "27819                                             Denied       $0.00    \n",
       "27901                                             Denied       $0.00    \n",
       "28031                                             Denied       $0.00    \n",
       "28037                                             Denied       $0.00    \n",
       "29065                                             Denied       $0.00    \n",
       "29652                                             Denied       $0.00    \n",
       "31140                                             Denied       $0.00    \n",
       "31570                                             Denied       $0.00    \n",
       "31590                                             Denied       $0.00    \n",
       "31771                                             Denied       $0.00    \n",
       "33613                                             Denied       $0.00    \n",
       "\n",
       "           Disposition  \n",
       "13729  Approve in Full  \n",
       "14323             Deny  \n",
       "14856  Approve in Full  \n",
       "14976              NaN  \n",
       "14995  Approve in Full  \n",
       "15278             Deny  \n",
       "15934              NaN  \n",
       "16813             Deny  \n",
       "17198             Deny  \n",
       "19151  Approve in Full  \n",
       "21528           Settle  \n",
       "22161             Deny  \n",
       "23232  Approve in Full  \n",
       "24355             Deny  \n",
       "24525           Settle  \n",
       "24768             Deny  \n",
       "24903           Settle  \n",
       "25249             Deny  \n",
       "25705           Settle  \n",
       "25734             Deny  \n",
       "26129             Deny  \n",
       "26530  Approve in Full  \n",
       "27086             Deny  \n",
       "27481           Settle  \n",
       "27628             Deny  \n",
       "27819             Deny  \n",
       "27901             Deny  \n",
       "28031             Deny  \n",
       "28037             Deny  \n",
       "29065             Deny  \n",
       "29652             Deny  \n",
       "31140             Deny  \n",
       "31570             Deny  \n",
       "31590             Deny  \n",
       "31771             Deny  \n",
       "33613             Deny  "
      ]
     },
     "execution_count": 568,
     "metadata": {},
     "output_type": "execute_result"
    }
   ],
   "source": [
    "tsa.iloc[ErrorT.index]"
   ]
  },
  {
   "cell_type": "markdown",
   "metadata": {},
   "source": [
    "Create a new feature of the day differences between claim received and the day of the incident called Day Differences, which contain the days that come from the Date Received column substracted by the Incident Date column (Date Received - Incident Date). We have this feature to see the time differences between when the claim made with the incident that happen."
   ]
  },
  {
   "cell_type": "code",
   "execution_count": 569,
   "metadata": {
    "ExecuteTime": {
     "end_time": "2020-04-24T11:14:53.260436Z",
     "start_time": "2020-04-24T11:14:53.136962Z"
    },
    "scrolled": true
   },
   "outputs": [
    {
     "data": {
      "text/plain": [
       "Index(['Claim Number', 'Date Received', 'Incident Date', 'Airport Code',\n",
       "       'Airport Name', 'Airline Name', 'Claim Type', 'Claim Site', 'Item',\n",
       "       'Claim Amount', 'Status', 'Close Amount', 'Disposition'],\n",
       "      dtype='object')"
      ]
     },
     "execution_count": 569,
     "metadata": {},
     "output_type": "execute_result"
    }
   ],
   "source": [
    "tsa.columns"
   ]
  },
  {
   "cell_type": "code",
   "execution_count": 570,
   "metadata": {
    "ExecuteTime": {
     "end_time": "2020-04-24T11:14:55.377535Z",
     "start_time": "2020-04-24T11:14:53.268113Z"
    }
   },
   "outputs": [],
   "source": [
    "tsa['Day Differences'] = (tsa['Date Received'] - tsa['Incident Date']).apply(lambda x : x.days)"
   ]
  },
  {
   "cell_type": "markdown",
   "metadata": {},
   "source": [
    "Lets try to visualize the distribution of the Day Differences with all the NaN just to be dropped first"
   ]
  },
  {
   "cell_type": "code",
   "execution_count": 571,
   "metadata": {
    "ExecuteTime": {
     "end_time": "2020-04-24T11:14:56.296478Z",
     "start_time": "2020-04-24T11:14:55.380681Z"
    }
   },
   "outputs": [
    {
     "data": {
      "text/plain": [
       "Text(0.5, 1.0, 'Day Differences Distribution')"
      ]
     },
     "execution_count": 571,
     "metadata": {},
     "output_type": "execute_result"
    },
    {
     "data": {
      "image/png": "[encoded data removed]",
      "text/plain": [
       "<Figure size 576x720 with 1 Axes>"
      ]
     },
     "metadata": {
      "needs_background": "light"
     },
     "output_type": "display_data"
    }
   ],
   "source": [
    "import seaborn as sns\n",
    "\n",
    "plt.figure(figsize = (8,10))\n",
    "g = sns.distplot(tsa.dropna()['Day Differences'])\n",
    "g.set_title('Day Differences Distribution')"
   ]
  },
  {
   "cell_type": "markdown",
   "metadata": {},
   "source": [
    "If we seen it from the plot, it seems there is days that less than 0 and even over than 1000. Lets try to visualize them both"
   ]
  },
  {
   "cell_type": "code",
   "execution_count": 572,
   "metadata": {
    "ExecuteTime": {
     "end_time": "2020-04-24T11:14:57.066635Z",
     "start_time": "2020-04-24T11:14:56.300205Z"
    }
   },
   "outputs": [
    {
     "data": {
      "text/plain": [
       "Text(0.5, 1.0, 'Day Differences Distribution less than 0')"
      ]
     },
     "execution_count": 572,
     "metadata": {},
     "output_type": "execute_result"
    },
    {
     "data": {
      "image/png": "[encoded data removed]",
      "text/plain": [
       "<Figure size 576x720 with 1 Axes>"
      ]
     },
     "metadata": {
      "needs_background": "light"
     },
     "output_type": "display_data"
    }
   ],
   "source": [
    "plt.figure(figsize = (8,10))\n",
    "g = sns.distplot((tsa.dropna()[tsa.dropna()['Day Differences'] < 0])['Day Differences'])\n",
    "g.set_title('Day Differences Distribution less than 0')"
   ]
  },
  {
   "cell_type": "code",
   "execution_count": 573,
   "metadata": {
    "ExecuteTime": {
     "end_time": "2020-04-24T11:14:57.963032Z",
     "start_time": "2020-04-24T11:14:57.070535Z"
    }
   },
   "outputs": [
    {
     "data": {
      "text/plain": [
       "Text(0.5, 1.0, 'Day Differences Distribution over than 1000')"
      ]
     },
     "execution_count": 573,
     "metadata": {},
     "output_type": "execute_result"
    },
    {
     "data": {
      "image/png": "[encoded data removed]",
      "text/plain": [
       "<Figure size 576x720 with 1 Axes>"
      ]
     },
     "metadata": {
      "needs_background": "light"
     },
     "output_type": "display_data"
    }
   ],
   "source": [
    "plt.figure(figsize = (8,10))\n",
    "g = sns.distplot((tsa.dropna()[tsa.dropna()['Day Differences'] > 1000])['Day Differences'])\n",
    "g.set_title('Day Differences Distribution over than 1000')"
   ]
  },
  {
   "cell_type": "markdown",
   "metadata": {},
   "source": [
    "## Question\n",
    "\n",
    "Why do you think there is day that way more than thousand days differences, and why some day differences are less than 0? (claim was made before the incident is like someone predicting a future after all)."
   ]
  },
  {
   "cell_type": "code",
   "execution_count": 574,
   "metadata": {
    "ExecuteTime": {
     "end_time": "2020-04-24T11:14:57.978062Z",
     "start_time": "2020-04-24T11:14:57.968462Z"
    }
   },
   "outputs": [
    {
     "data": {
      "text/plain": [
       "Index(['Claim Number', 'Date Received', 'Incident Date', 'Airport Code',\n",
       "       'Airport Name', 'Airline Name', 'Claim Type', 'Claim Site', 'Item',\n",
       "       'Claim Amount', 'Status', 'Close Amount', 'Disposition',\n",
       "       'Day Differences'],\n",
       "      dtype='object')"
      ]
     },
     "execution_count": 574,
     "metadata": {},
     "output_type": "execute_result"
    }
   ],
   "source": [
    "tsa.columns"
   ]
  },
  {
   "cell_type": "code",
   "execution_count": 575,
   "metadata": {
    "ExecuteTime": {
     "end_time": "2020-04-24T11:14:58.167558Z",
     "start_time": "2020-04-24T11:14:57.991491Z"
    }
   },
   "outputs": [
    {
     "data": {
      "text/plain": [
       "Day differences are over than 1000    50618\n",
       "Day differences are less than 0         448\n",
       "Name: Day Differences, dtype: int64"
      ]
     },
     "execution_count": 575,
     "metadata": {},
     "output_type": "execute_result"
    }
   ],
   "source": [
    "def diff(x):\n",
    "    if x < 0:\n",
    "        return 'Day differences are less than 0'\n",
    "    else:\n",
    "        return 'Day differences are over than 1000'\n",
    "\n",
    "tsa['Day Differences'].apply(lambda x : diff(x)).value_counts()"
   ]
  },
  {
   "cell_type": "code",
   "execution_count": 576,
   "metadata": {
    "ExecuteTime": {
     "end_time": "2020-04-24T11:14:58.215404Z",
     "start_time": "2020-04-24T11:14:58.175440Z"
    }
   },
   "outputs": [
    {
     "data": {
      "text/plain": [
       "Other                                         92\n",
       "Luggage (all types including footlockers)     55\n",
       "Clothing - Shoes; belts; accessories; etc.    42\n",
       "Computer - Laptop                             29\n",
       "Jewelry - Fine                                27\n",
       "Locks                                         23\n",
       "Name: Item, dtype: int64"
      ]
     },
     "execution_count": 576,
     "metadata": {},
     "output_type": "execute_result"
    }
   ],
   "source": [
    "tsa[tsa['Day Differences'] < 0]['Item'].value_counts().head(6)"
   ]
  },
  {
   "cell_type": "code",
   "execution_count": 577,
   "metadata": {
    "ExecuteTime": {
     "end_time": "2020-04-24T11:14:58.380534Z",
     "start_time": "2020-04-24T11:14:58.220016Z"
    },
    "scrolled": true
   },
   "outputs": [
    {
     "data": {
      "text/plain": [
       "Other                                         8906\n",
       "Luggage (all types including footlockers)     4642\n",
       "Clothing - Shoes; belts; accessories; etc.    3645\n",
       "Jewelry - Fine                                2422\n",
       "Locks                                         2345\n",
       "Name: Item, dtype: int64"
      ]
     },
     "execution_count": 577,
     "metadata": {},
     "output_type": "execute_result"
    }
   ],
   "source": [
    "tsa[tsa['Day Differences'] > 0]['Item'].value_counts().head()"
   ]
  },
  {
   "cell_type": "markdown",
   "metadata": {},
   "source": [
    "Remove the $ sign (some data need even more clean up by replacing the ; sign into . sign) from the Claim Amount columns and Close Amount columns, and change those columns datatype into float datatype"
   ]
  },
  {
   "cell_type": "code",
   "execution_count": 578,
   "metadata": {
    "ExecuteTime": {
     "end_time": "2020-04-24T11:14:58.480223Z",
     "start_time": "2020-04-24T11:14:58.385368Z"
    }
   },
   "outputs": [
    {
     "data": {
      "text/plain": [
       "Index(['Claim Number', 'Date Received', 'Incident Date', 'Airport Code',\n",
       "       'Airport Name', 'Airline Name', 'Claim Type', 'Claim Site', 'Item',\n",
       "       'Claim Amount', 'Status', 'Close Amount', 'Disposition',\n",
       "       'Day Differences'],\n",
       "      dtype='object')"
      ]
     },
     "execution_count": 578,
     "metadata": {},
     "output_type": "execute_result"
    }
   ],
   "source": [
    "tsa.columns"
   ]
  },
  {
   "cell_type": "code",
   "execution_count": 579,
   "metadata": {
    "ExecuteTime": {
     "end_time": "2020-04-24T11:14:59.083783Z",
     "start_time": "2020-04-24T11:14:58.484764Z"
    }
   },
   "outputs": [],
   "source": [
    "def repd(x):\n",
    "    if '$' in str(x):\n",
    "        return x[1:]\n",
    "    else:\n",
    "        return x\n",
    "\n",
    "\n",
    "tsa['Claim Amount'] = tsa['Claim Amount'].apply(repd).apply(lambda x : str(x).replace(';','')).apply(lambda x : float(x))\n",
    "tsa['Close Amount'] = tsa['Close Amount'].apply(repd).apply(lambda x : str(x).replace(';','')).apply(lambda x : float(x))"
   ]
  },
  {
   "cell_type": "markdown",
   "metadata": {},
   "source": [
    "Create a new columns called Amount Differences by substract the Claim Amount with Close Amount columns"
   ]
  },
  {
   "cell_type": "code",
   "execution_count": 580,
   "metadata": {
    "ExecuteTime": {
     "end_time": "2020-04-24T11:14:59.110602Z",
     "start_time": "2020-04-24T11:14:59.088518Z"
    }
   },
   "outputs": [],
   "source": [
    "tsa['Amount Differences'] = tsa['Claim Amount'] - tsa['Close Amount']"
   ]
  },
  {
   "cell_type": "code",
   "execution_count": 581,
   "metadata": {
    "ExecuteTime": {
     "end_time": "2020-04-24T11:14:59.365355Z",
     "start_time": "2020-04-24T11:14:59.115274Z"
    }
   },
   "outputs": [
    {
     "name": "stdout",
     "output_type": "stream",
     "text": [
      "<class 'pandas.core.frame.DataFrame'>\n",
      "RangeIndex: 51066 entries, 0 to 51065\n",
      "Data columns (total 15 columns):\n",
      "Claim Number          51066 non-null object\n",
      "Date Received         50996 non-null datetime64[ns]\n",
      "Incident Date         50496 non-null datetime64[ns]\n",
      "Airport Code          48915 non-null object\n",
      "Airport Name          48915 non-null object\n",
      "Airline Name          41470 non-null object\n",
      "Claim Type            49035 non-null object\n",
      "Claim Site            50817 non-null object\n",
      "Item                  48918 non-null object\n",
      "Claim Amount          46886 non-null float64\n",
      "Status                47877 non-null object\n",
      "Close Amount          33786 non-null float64\n",
      "Disposition           32846 non-null object\n",
      "Day Differences       50460 non-null float64\n",
      "Amount Differences    33470 non-null float64\n",
      "dtypes: datetime64[ns](2), float64(4), object(9)\n",
      "memory usage: 5.8+ MB\n"
     ]
    }
   ],
   "source": [
    "tsa.info()"
   ]
  },
  {
   "cell_type": "code",
   "execution_count": 582,
   "metadata": {
    "ExecuteTime": {
     "end_time": "2020-04-24T11:14:59.462068Z",
     "start_time": "2020-04-24T11:14:59.370031Z"
    }
   },
   "outputs": [
    {
     "data": {
      "text/html": [
       "<div>\n",
       "<style scoped>\n",
       "    .dataframe tbody tr th:only-of-type {\n",
       "        vertical-align: middle;\n",
       "    }\n",
       "\n",
       "    .dataframe tbody tr th {\n",
       "        vertical-align: top;\n",
       "    }\n",
       "\n",
       "    .dataframe thead th {\n",
       "        text-align: right;\n",
       "    }\n",
       "</style>\n",
       "<table border=\"1\" class=\"dataframe\">\n",
       "  <thead>\n",
       "    <tr style=\"text-align: right;\">\n",
       "      <th></th>\n",
       "      <th>Claim Number</th>\n",
       "      <th>Date Received</th>\n",
       "      <th>Incident Date</th>\n",
       "      <th>Airport Code</th>\n",
       "      <th>Airport Name</th>\n",
       "      <th>Airline Name</th>\n",
       "      <th>Claim Type</th>\n",
       "      <th>Claim Site</th>\n",
       "      <th>Item</th>\n",
       "      <th>Claim Amount</th>\n",
       "      <th>Status</th>\n",
       "      <th>Close Amount</th>\n",
       "      <th>Disposition</th>\n",
       "      <th>Day Differences</th>\n",
       "      <th>Amount Differences</th>\n",
       "    </tr>\n",
       "  </thead>\n",
       "  <tbody>\n",
       "    <tr>\n",
       "      <td>0</td>\n",
       "      <td>0909816M</td>\n",
       "      <td>2002-02-07</td>\n",
       "      <td>2003-01-06</td>\n",
       "      <td>MIA</td>\n",
       "      <td>Miami International Airport</td>\n",
       "      <td>American Airlines</td>\n",
       "      <td>Property Damage</td>\n",
       "      <td>Checkpoint</td>\n",
       "      <td>Luggage (all types including footlockers)</td>\n",
       "      <td>50.00</td>\n",
       "      <td>Approved</td>\n",
       "      <td>50.0</td>\n",
       "      <td>Approve in Full</td>\n",
       "      <td>-333.0</td>\n",
       "      <td>0.00</td>\n",
       "    </tr>\n",
       "    <tr>\n",
       "      <td>1</td>\n",
       "      <td>14268</td>\n",
       "      <td>2002-06-20</td>\n",
       "      <td>2002-06-16</td>\n",
       "      <td>PHX</td>\n",
       "      <td>Phoenix Sky Harbor International</td>\n",
       "      <td>NaN</td>\n",
       "      <td>Property Damage</td>\n",
       "      <td>Checkpoint</td>\n",
       "      <td>Computer - Laptop</td>\n",
       "      <td>2270.09</td>\n",
       "      <td>Canceled</td>\n",
       "      <td>NaN</td>\n",
       "      <td>NaN</td>\n",
       "      <td>4.0</td>\n",
       "      <td>NaN</td>\n",
       "    </tr>\n",
       "    <tr>\n",
       "      <td>2</td>\n",
       "      <td>15242</td>\n",
       "      <td>2002-07-12</td>\n",
       "      <td>2002-05-31</td>\n",
       "      <td>BWI</td>\n",
       "      <td>Baltimore/Washington Intl Thurgood Marshall</td>\n",
       "      <td>American Airlines</td>\n",
       "      <td>NaN</td>\n",
       "      <td>Other</td>\n",
       "      <td>Luggage (all types including footlockers)</td>\n",
       "      <td>200.00</td>\n",
       "      <td>Denied</td>\n",
       "      <td>0.0</td>\n",
       "      <td>Deny</td>\n",
       "      <td>42.0</td>\n",
       "      <td>200.00</td>\n",
       "    </tr>\n",
       "    <tr>\n",
       "      <td>3</td>\n",
       "      <td>16759</td>\n",
       "      <td>2002-08-21</td>\n",
       "      <td>2002-07-12</td>\n",
       "      <td>BWI</td>\n",
       "      <td>Baltimore/Washington Intl Thurgood Marshall</td>\n",
       "      <td>Southwest Airlines</td>\n",
       "      <td>Passenger Property Loss</td>\n",
       "      <td>Checkpoint</td>\n",
       "      <td>Other</td>\n",
       "      <td>21.44</td>\n",
       "      <td>Approved</td>\n",
       "      <td>21.0</td>\n",
       "      <td>Approve in Full</td>\n",
       "      <td>40.0</td>\n",
       "      <td>0.44</td>\n",
       "    </tr>\n",
       "    <tr>\n",
       "      <td>4</td>\n",
       "      <td>17846</td>\n",
       "      <td>2002-09-09</td>\n",
       "      <td>2002-08-30</td>\n",
       "      <td>BOS</td>\n",
       "      <td>Boston (Logan) International Airport</td>\n",
       "      <td>NaN</td>\n",
       "      <td>Property Damage</td>\n",
       "      <td>Checkpoint</td>\n",
       "      <td>Luggage (all types including footlockers)</td>\n",
       "      <td>1832.22</td>\n",
       "      <td>Canceled</td>\n",
       "      <td>0.0</td>\n",
       "      <td>NaN</td>\n",
       "      <td>10.0</td>\n",
       "      <td>1832.22</td>\n",
       "    </tr>\n",
       "  </tbody>\n",
       "</table>\n",
       "</div>"
      ],
      "text/plain": [
       "  Claim Number Date Received Incident Date Airport Code  \\\n",
       "0     0909816M    2002-02-07    2003-01-06          MIA   \n",
       "1        14268    2002-06-20    2002-06-16          PHX   \n",
       "2        15242    2002-07-12    2002-05-31          BWI   \n",
       "3        16759    2002-08-21    2002-07-12          BWI   \n",
       "4        17846    2002-09-09    2002-08-30          BOS   \n",
       "\n",
       "                                  Airport Name        Airline Name  \\\n",
       "0                  Miami International Airport   American Airlines   \n",
       "1             Phoenix Sky Harbor International                 NaN   \n",
       "2  Baltimore/Washington Intl Thurgood Marshall   American Airlines   \n",
       "3  Baltimore/Washington Intl Thurgood Marshall  Southwest Airlines   \n",
       "4         Boston (Logan) International Airport                 NaN   \n",
       "\n",
       "                Claim Type  Claim Site  \\\n",
       "0          Property Damage  Checkpoint   \n",
       "1          Property Damage  Checkpoint   \n",
       "2                      NaN       Other   \n",
       "3  Passenger Property Loss  Checkpoint   \n",
       "4          Property Damage  Checkpoint   \n",
       "\n",
       "                                        Item  Claim Amount    Status  \\\n",
       "0  Luggage (all types including footlockers)         50.00  Approved   \n",
       "1                          Computer - Laptop       2270.09  Canceled   \n",
       "2  Luggage (all types including footlockers)        200.00    Denied   \n",
       "3                                      Other         21.44  Approved   \n",
       "4  Luggage (all types including footlockers)       1832.22  Canceled   \n",
       "\n",
       "   Close Amount      Disposition  Day Differences  Amount Differences  \n",
       "0          50.0  Approve in Full           -333.0                0.00  \n",
       "1           NaN              NaN              4.0                 NaN  \n",
       "2           0.0             Deny             42.0              200.00  \n",
       "3          21.0  Approve in Full             40.0                0.44  \n",
       "4           0.0              NaN             10.0             1832.22  "
      ]
     },
     "execution_count": 582,
     "metadata": {},
     "output_type": "execute_result"
    }
   ],
   "source": [
    "tsa.head()"
   ]
  },
  {
   "cell_type": "markdown",
   "metadata": {
    "ExecuteTime": {
     "end_time": "2019-10-12T13:39:07.676434Z",
     "start_time": "2019-10-12T13:39:07.603597Z"
    }
   },
   "source": [
    "Lets try to visualize it again similar to the Day Differences feature, but this time we would use the Amount Differences feature (still just drop the NaN first)"
   ]
  },
  {
   "cell_type": "code",
   "execution_count": 583,
   "metadata": {
    "ExecuteTime": {
     "end_time": "2020-04-24T11:15:00.613222Z",
     "start_time": "2020-04-24T11:14:59.466905Z"
    }
   },
   "outputs": [
    {
     "data": {
      "text/plain": [
       "Text(0.5, 1.0, 'Amount Differences Distribution')"
      ]
     },
     "execution_count": 583,
     "metadata": {},
     "output_type": "execute_result"
    },
    {
     "data": {
      "image/png": "[encoded data removed]",
      "text/plain": [
       "<Figure size 576x576 with 1 Axes>"
      ]
     },
     "metadata": {
      "needs_background": "light"
     },
     "output_type": "display_data"
    }
   ],
   "source": [
    "plt.figure(figsize = (8,8))\n",
    "g = sns.distplot(tsa['Amount Differences'].dropna())\n",
    "g.set_title('Amount Differences Distribution')"
   ]
  },
  {
   "cell_type": "markdown",
   "metadata": {},
   "source": [
    "There is seems a differences in number that was way far. This time, lets use the Interquartile range (IQR) method to find the datapoint that seems to be an outlier based on the Amount Differences column, show the dataframe, and lets describe the Claim Amount and Close Amount column of the outlier dataframe based on the Amount Differences column"
   ]
  },
  {
   "cell_type": "code",
   "execution_count": 584,
   "metadata": {
    "ExecuteTime": {
     "end_time": "2020-04-24T11:15:00.649457Z",
     "start_time": "2020-04-24T11:15:00.617469Z"
    },
    "scrolled": false
   },
   "outputs": [
    {
     "data": {
      "text/plain": [
       "count    3.347000e+04\n",
       "mean     5.217843e+03\n",
       "std      6.843299e+05\n",
       "min     -4.311000e+02\n",
       "25%      0.000000e+00\n",
       "50%      9.629000e+01\n",
       "75%      3.400000e+02\n",
       "max      1.250000e+08\n",
       "Name: Amount Differences, dtype: float64"
      ]
     },
     "execution_count": 584,
     "metadata": {},
     "output_type": "execute_result"
    }
   ],
   "source": [
    "tsa['Amount Differences'].dropna().describe()"
   ]
  },
  {
   "cell_type": "code",
   "execution_count": 585,
   "metadata": {
    "ExecuteTime": {
     "end_time": "2020-04-24T11:15:00.881421Z",
     "start_time": "2020-04-24T11:15:00.655492Z"
    }
   },
   "outputs": [
    {
     "data": {
      "text/html": [
       "<div>\n",
       "<style scoped>\n",
       "    .dataframe tbody tr th:only-of-type {\n",
       "        vertical-align: middle;\n",
       "    }\n",
       "\n",
       "    .dataframe tbody tr th {\n",
       "        vertical-align: top;\n",
       "    }\n",
       "\n",
       "    .dataframe thead th {\n",
       "        text-align: right;\n",
       "    }\n",
       "</style>\n",
       "<table border=\"1\" class=\"dataframe\">\n",
       "  <thead>\n",
       "    <tr style=\"text-align: right;\">\n",
       "      <th></th>\n",
       "      <th>Claim Number</th>\n",
       "      <th>Date Received</th>\n",
       "      <th>Incident Date</th>\n",
       "      <th>Airport Code</th>\n",
       "      <th>Airport Name</th>\n",
       "      <th>Airline Name</th>\n",
       "      <th>Claim Type</th>\n",
       "      <th>Claim Site</th>\n",
       "      <th>Item</th>\n",
       "      <th>Claim Amount</th>\n",
       "      <th>Status</th>\n",
       "      <th>Close Amount</th>\n",
       "      <th>Disposition</th>\n",
       "      <th>Day Differences</th>\n",
       "      <th>Amount Differences</th>\n",
       "    </tr>\n",
       "  </thead>\n",
       "  <tbody>\n",
       "    <tr>\n",
       "      <td>4</td>\n",
       "      <td>17846</td>\n",
       "      <td>2002-09-09</td>\n",
       "      <td>2002-08-30 00:00:00</td>\n",
       "      <td>BOS</td>\n",
       "      <td>Boston (Logan) International Airport</td>\n",
       "      <td>NaN</td>\n",
       "      <td>Property Damage</td>\n",
       "      <td>Checkpoint</td>\n",
       "      <td>Luggage (all types including footlockers)</td>\n",
       "      <td>1832.22</td>\n",
       "      <td>Canceled</td>\n",
       "      <td>0.00</td>\n",
       "      <td>NaN</td>\n",
       "      <td>10.0</td>\n",
       "      <td>1832.22</td>\n",
       "    </tr>\n",
       "    <tr>\n",
       "      <td>13</td>\n",
       "      <td>19133</td>\n",
       "      <td>2002-10-02</td>\n",
       "      <td>2002-08-22 00:00:00</td>\n",
       "      <td>CLE</td>\n",
       "      <td>Cleveland Hopkins International</td>\n",
       "      <td>Northwest Airlines</td>\n",
       "      <td>NaN</td>\n",
       "      <td>Other</td>\n",
       "      <td>Computer - Laptop</td>\n",
       "      <td>2000.00</td>\n",
       "      <td>Denied</td>\n",
       "      <td>0.00</td>\n",
       "      <td>Deny</td>\n",
       "      <td>41.0</td>\n",
       "      <td>2000.00</td>\n",
       "    </tr>\n",
       "    <tr>\n",
       "      <td>21</td>\n",
       "      <td>18614</td>\n",
       "      <td>2002-10-17</td>\n",
       "      <td>2002-09-14 00:00:00</td>\n",
       "      <td>MCO</td>\n",
       "      <td>Orlando International Airport</td>\n",
       "      <td>American Airlines</td>\n",
       "      <td>Property Damage</td>\n",
       "      <td>Checkpoint</td>\n",
       "      <td>Computer - Laptop</td>\n",
       "      <td>2000.00</td>\n",
       "      <td>Settled</td>\n",
       "      <td>600.00</td>\n",
       "      <td>Settle</td>\n",
       "      <td>33.0</td>\n",
       "      <td>1400.00</td>\n",
       "    </tr>\n",
       "    <tr>\n",
       "      <td>23</td>\n",
       "      <td>18356</td>\n",
       "      <td>2002-10-23</td>\n",
       "      <td>2002-09-18 00:00:00</td>\n",
       "      <td>LGA</td>\n",
       "      <td>LaGuardia</td>\n",
       "      <td>NaN</td>\n",
       "      <td>NaN</td>\n",
       "      <td>Checkpoint</td>\n",
       "      <td>Computer - Laptop</td>\n",
       "      <td>1801.99</td>\n",
       "      <td>Settled</td>\n",
       "      <td>291.67</td>\n",
       "      <td>Settle</td>\n",
       "      <td>35.0</td>\n",
       "      <td>1510.32</td>\n",
       "    </tr>\n",
       "    <tr>\n",
       "      <td>27</td>\n",
       "      <td>21817</td>\n",
       "      <td>2002-10-29</td>\n",
       "      <td>2002-10-05 00:00:00</td>\n",
       "      <td>MCO</td>\n",
       "      <td>Orlando International Airport</td>\n",
       "      <td>Delta Air Lines</td>\n",
       "      <td>NaN</td>\n",
       "      <td>Other</td>\n",
       "      <td>Other</td>\n",
       "      <td>7500.00</td>\n",
       "      <td>Denied</td>\n",
       "      <td>0.00</td>\n",
       "      <td>Deny</td>\n",
       "      <td>24.0</td>\n",
       "      <td>7500.00</td>\n",
       "    </tr>\n",
       "    <tr>\n",
       "      <td>...</td>\n",
       "      <td>...</td>\n",
       "      <td>...</td>\n",
       "      <td>...</td>\n",
       "      <td>...</td>\n",
       "      <td>...</td>\n",
       "      <td>...</td>\n",
       "      <td>...</td>\n",
       "      <td>...</td>\n",
       "      <td>...</td>\n",
       "      <td>...</td>\n",
       "      <td>...</td>\n",
       "      <td>...</td>\n",
       "      <td>...</td>\n",
       "      <td>...</td>\n",
       "      <td>...</td>\n",
       "    </tr>\n",
       "    <tr>\n",
       "      <td>36208</td>\n",
       "      <td>2009123167012</td>\n",
       "      <td>2009-12-29</td>\n",
       "      <td>2009-12-18 00:00:00</td>\n",
       "      <td>MIA</td>\n",
       "      <td>Miami International Airport</td>\n",
       "      <td>American Airlines</td>\n",
       "      <td>Property Damage</td>\n",
       "      <td>Checked Baggage</td>\n",
       "      <td>NaN</td>\n",
       "      <td>2200.00</td>\n",
       "      <td>Denied</td>\n",
       "      <td>0.00</td>\n",
       "      <td>Deny</td>\n",
       "      <td>11.0</td>\n",
       "      <td>2200.00</td>\n",
       "    </tr>\n",
       "    <tr>\n",
       "      <td>36210</td>\n",
       "      <td>2009123167017</td>\n",
       "      <td>2009-12-29</td>\n",
       "      <td>2009-12-02 15:30:00</td>\n",
       "      <td>JFK</td>\n",
       "      <td>John F. Kennedy International</td>\n",
       "      <td>KLM Royal Dutch Airlines</td>\n",
       "      <td>Passenger Property Loss</td>\n",
       "      <td>Checked Baggage</td>\n",
       "      <td>Clothing - Shoes; belts; accessories; etc.; Co...</td>\n",
       "      <td>900.00</td>\n",
       "      <td>Denied</td>\n",
       "      <td>0.00</td>\n",
       "      <td>Deny</td>\n",
       "      <td>26.0</td>\n",
       "      <td>900.00</td>\n",
       "    </tr>\n",
       "    <tr>\n",
       "      <td>36213</td>\n",
       "      <td>2010010867323</td>\n",
       "      <td>2009-12-29</td>\n",
       "      <td>2009-12-21 15:15:00</td>\n",
       "      <td>CVG</td>\n",
       "      <td>Cincinnati/Northern Kentucky International</td>\n",
       "      <td>Delta Air Lines</td>\n",
       "      <td>Property Damage</td>\n",
       "      <td>Checkpoint</td>\n",
       "      <td>Computer - Laptop</td>\n",
       "      <td>1240.00</td>\n",
       "      <td>Denied</td>\n",
       "      <td>0.00</td>\n",
       "      <td>Deny</td>\n",
       "      <td>7.0</td>\n",
       "      <td>1240.00</td>\n",
       "    </tr>\n",
       "    <tr>\n",
       "      <td>36225</td>\n",
       "      <td>2009123066912</td>\n",
       "      <td>2009-12-30</td>\n",
       "      <td>2009-12-15 00:00:00</td>\n",
       "      <td>GSO</td>\n",
       "      <td>Piedmont Triad International Airport</td>\n",
       "      <td>Delta Air Lines</td>\n",
       "      <td>Property Damage</td>\n",
       "      <td>Checked Baggage</td>\n",
       "      <td>NaN</td>\n",
       "      <td>2300.00</td>\n",
       "      <td>Denied</td>\n",
       "      <td>0.00</td>\n",
       "      <td>Deny</td>\n",
       "      <td>15.0</td>\n",
       "      <td>2300.00</td>\n",
       "    </tr>\n",
       "    <tr>\n",
       "      <td>36232</td>\n",
       "      <td>2010010567146</td>\n",
       "      <td>2009-12-30</td>\n",
       "      <td>2009-12-10 06:00:00</td>\n",
       "      <td>DFW</td>\n",
       "      <td>Dallas-Fort Worth International Airport</td>\n",
       "      <td>American Airlines</td>\n",
       "      <td>Property Damage</td>\n",
       "      <td>Checkpoint</td>\n",
       "      <td>NaN</td>\n",
       "      <td>3650.00</td>\n",
       "      <td>Denied</td>\n",
       "      <td>0.00</td>\n",
       "      <td>Deny</td>\n",
       "      <td>19.0</td>\n",
       "      <td>3650.00</td>\n",
       "    </tr>\n",
       "  </tbody>\n",
       "</table>\n",
       "<p>4103 rows × 15 columns</p>\n",
       "</div>"
      ],
      "text/plain": [
       "        Claim Number Date Received       Incident Date Airport Code  \\\n",
       "4              17846    2002-09-09 2002-08-30 00:00:00          BOS   \n",
       "13             19133    2002-10-02 2002-08-22 00:00:00          CLE   \n",
       "21             18614    2002-10-17 2002-09-14 00:00:00          MCO   \n",
       "23             18356    2002-10-23 2002-09-18 00:00:00          LGA   \n",
       "27             21817    2002-10-29 2002-10-05 00:00:00          MCO   \n",
       "...              ...           ...                 ...          ...   \n",
       "36208  2009123167012    2009-12-29 2009-12-18 00:00:00          MIA   \n",
       "36210  2009123167017    2009-12-29 2009-12-02 15:30:00          JFK   \n",
       "36213  2010010867323    2009-12-29 2009-12-21 15:15:00          CVG   \n",
       "36225  2009123066912    2009-12-30 2009-12-15 00:00:00          GSO   \n",
       "36232  2010010567146    2009-12-30 2009-12-10 06:00:00          DFW   \n",
       "\n",
       "                                     Airport Name              Airline Name  \\\n",
       "4            Boston (Logan) International Airport                       NaN   \n",
       "13                Cleveland Hopkins International        Northwest Airlines   \n",
       "21                  Orlando International Airport         American Airlines   \n",
       "23                                      LaGuardia                       NaN   \n",
       "27                  Orlando International Airport           Delta Air Lines   \n",
       "...                                           ...                       ...   \n",
       "36208                 Miami International Airport         American Airlines   \n",
       "36210               John F. Kennedy International  KLM Royal Dutch Airlines   \n",
       "36213  Cincinnati/Northern Kentucky International           Delta Air Lines   \n",
       "36225        Piedmont Triad International Airport           Delta Air Lines   \n",
       "36232     Dallas-Fort Worth International Airport         American Airlines   \n",
       "\n",
       "                    Claim Type       Claim Site  \\\n",
       "4              Property Damage       Checkpoint   \n",
       "13                         NaN            Other   \n",
       "21             Property Damage       Checkpoint   \n",
       "23                         NaN       Checkpoint   \n",
       "27                         NaN            Other   \n",
       "...                        ...              ...   \n",
       "36208          Property Damage  Checked Baggage   \n",
       "36210  Passenger Property Loss  Checked Baggage   \n",
       "36213          Property Damage       Checkpoint   \n",
       "36225          Property Damage  Checked Baggage   \n",
       "36232          Property Damage       Checkpoint   \n",
       "\n",
       "                                                    Item  Claim Amount  \\\n",
       "4              Luggage (all types including footlockers)       1832.22   \n",
       "13                                     Computer - Laptop       2000.00   \n",
       "21                                     Computer - Laptop       2000.00   \n",
       "23                                     Computer - Laptop       1801.99   \n",
       "27                                                 Other       7500.00   \n",
       "...                                                  ...           ...   \n",
       "36208                                                NaN       2200.00   \n",
       "36210  Clothing - Shoes; belts; accessories; etc.; Co...        900.00   \n",
       "36213                                  Computer - Laptop       1240.00   \n",
       "36225                                                NaN       2300.00   \n",
       "36232                                                NaN       3650.00   \n",
       "\n",
       "         Status  Close Amount Disposition  Day Differences  Amount Differences  \n",
       "4      Canceled          0.00         NaN             10.0             1832.22  \n",
       "13       Denied          0.00        Deny             41.0             2000.00  \n",
       "21      Settled        600.00      Settle             33.0             1400.00  \n",
       "23      Settled        291.67      Settle             35.0             1510.32  \n",
       "27       Denied          0.00        Deny             24.0             7500.00  \n",
       "...         ...           ...         ...              ...                 ...  \n",
       "36208    Denied          0.00        Deny             11.0             2200.00  \n",
       "36210    Denied          0.00        Deny             26.0              900.00  \n",
       "36213    Denied          0.00        Deny              7.0             1240.00  \n",
       "36225    Denied          0.00        Deny             15.0             2300.00  \n",
       "36232    Denied          0.00        Deny             19.0             3650.00  \n",
       "\n",
       "[4103 rows x 15 columns]"
      ]
     },
     "execution_count": 585,
     "metadata": {},
     "output_type": "execute_result"
    }
   ],
   "source": [
    "Q1_amount = tsa['Amount Differences'].describe()['25%']\n",
    "Q3_amount = tsa['Amount Differences'].describe()['75%']\n",
    "IQR = Q3_amount - Q1_amount\n",
    "\n",
    "idx = tsa[(tsa['Amount Differences'] >= Q1_amount - (1.5*IQR)) & (tsa['Amount Differences'] <= Q3_amount + (1.5 * IQR))]['Amount Differences'].index\n",
    "tsa_out = tsa.iloc[tsa.drop(idx)['Amount Differences'].dropna().index]\n",
    "tsa_out"
   ]
  },
  {
   "cell_type": "code",
   "execution_count": 586,
   "metadata": {
    "ExecuteTime": {
     "end_time": "2020-04-24T11:15:00.911415Z",
     "start_time": "2020-04-24T11:15:00.886039Z"
    }
   },
   "outputs": [
    {
     "data": {
      "text/plain": [
       "count    4.103000e+03\n",
       "mean     4.164579e+04\n",
       "std      1.954354e+06\n",
       "min      8.510100e+02\n",
       "25%      1.214375e+03\n",
       "50%      1.821750e+03\n",
       "75%      3.000000e+03\n",
       "max      1.250000e+08\n",
       "Name: Claim Amount, dtype: float64"
      ]
     },
     "execution_count": 586,
     "metadata": {},
     "output_type": "execute_result"
    }
   ],
   "source": [
    "tsa_out['Claim Amount'].describe()"
   ]
  },
  {
   "cell_type": "code",
   "execution_count": 587,
   "metadata": {
    "ExecuteTime": {
     "end_time": "2020-04-24T11:15:01.009775Z",
     "start_time": "2020-04-24T11:15:00.916601Z"
    }
   },
   "outputs": [
    {
     "data": {
      "text/plain": [
       "count     4103.000000\n",
       "mean       114.613646\n",
       "std        686.521806\n",
       "min          0.000000\n",
       "25%          0.000000\n",
       "50%          0.000000\n",
       "75%          0.000000\n",
       "max      20000.000000\n",
       "Name: Close Amount, dtype: float64"
      ]
     },
     "execution_count": 587,
     "metadata": {},
     "output_type": "execute_result"
    }
   ],
   "source": [
    "tsa_out['Close Amount'].describe()"
   ]
  },
  {
   "cell_type": "markdown",
   "metadata": {},
   "source": [
    "It seems that Claim Amount feature really affecting lot of the differences that happen as 75% outlier data that in the Close Amount feature is still 0.\n",
    "\n",
    "## Question\n",
    "\n",
    "I assume that many of this big differences happen because these people tend to request for bigger money than what it should be. Do you agree or disagree with my assumption (With an assumption that not outlier is have normal amount differences and outlier have a really big amount differences)? why? Try to explain it with the data "
   ]
  },
  {
   "cell_type": "code",
   "execution_count": 588,
   "metadata": {
    "ExecuteTime": {
     "end_time": "2020-04-24T11:15:01.087038Z",
     "start_time": "2020-04-24T11:15:01.014398Z"
    }
   },
   "outputs": [
    {
     "data": {
      "text/plain": [
       "Index(['Claim Number', 'Date Received', 'Incident Date', 'Airport Code',\n",
       "       'Airport Name', 'Airline Name', 'Claim Type', 'Claim Site', 'Item',\n",
       "       'Claim Amount', 'Status', 'Close Amount', 'Disposition',\n",
       "       'Day Differences', 'Amount Differences'],\n",
       "      dtype='object')"
      ]
     },
     "execution_count": 588,
     "metadata": {},
     "output_type": "execute_result"
    }
   ],
   "source": [
    "tsa.columns"
   ]
  },
  {
   "cell_type": "code",
   "execution_count": 589,
   "metadata": {
    "ExecuteTime": {
     "end_time": "2020-04-24T11:15:01.328453Z",
     "start_time": "2020-04-24T11:15:01.091670Z"
    },
    "scrolled": true
   },
   "outputs": [
    {
     "name": "stdout",
     "output_type": "stream",
     "text": [
      "With Outlier\n"
     ]
    },
    {
     "data": {
      "text/html": [
       "<div>\n",
       "<style scoped>\n",
       "    .dataframe tbody tr th:only-of-type {\n",
       "        vertical-align: middle;\n",
       "    }\n",
       "\n",
       "    .dataframe tbody tr th {\n",
       "        vertical-align: top;\n",
       "    }\n",
       "\n",
       "    .dataframe thead th {\n",
       "        text-align: right;\n",
       "    }\n",
       "</style>\n",
       "<table border=\"1\" class=\"dataframe\">\n",
       "  <thead>\n",
       "    <tr style=\"text-align: right;\">\n",
       "      <th></th>\n",
       "      <th>nPeople</th>\n",
       "      <th>%Approved</th>\n",
       "    </tr>\n",
       "  </thead>\n",
       "  <tbody>\n",
       "    <tr>\n",
       "      <td>Bigger</td>\n",
       "      <td>24684</td>\n",
       "      <td>0.514503</td>\n",
       "    </tr>\n",
       "    <tr>\n",
       "      <td>Less</td>\n",
       "      <td>111</td>\n",
       "      <td>90.990991</td>\n",
       "    </tr>\n",
       "    <tr>\n",
       "      <td>Equal</td>\n",
       "      <td>8675</td>\n",
       "      <td>96.887608</td>\n",
       "    </tr>\n",
       "  </tbody>\n",
       "</table>\n",
       "</div>"
      ],
      "text/plain": [
       "        nPeople  %Approved\n",
       "Bigger    24684   0.514503\n",
       "Less        111  90.990991\n",
       "Equal      8675  96.887608"
      ]
     },
     "execution_count": 589,
     "metadata": {},
     "output_type": "execute_result"
    }
   ],
   "source": [
    "print('With Outlier')\n",
    "pd.DataFrame({'nPeople' : [len(tsa[tsa['Amount Differences'] > 0]), len(tsa[tsa['Amount Differences'] < 0])\n",
    "             ,len(tsa[tsa['Amount Differences'] == 0])],\n",
    "             '%Approved': [(sum(tsa[tsa['Amount Differences'] > 0]['Status'] == 'Approved')/len(tsa[tsa['Amount Differences'] > 0]))*100,\n",
    "                          (sum(tsa[tsa['Amount Differences'] < 0]['Status'] == 'Approved')/len(tsa[tsa['Amount Differences'] < 0]))*100,\n",
    "                          (sum(tsa[tsa['Amount Differences'] == 0]['Status'] == 'Approved')/len(tsa[tsa['Amount Differences'] == 0]))*100]}, index = ['Bigger', 'Less', 'Equal'])"
   ]
  },
  {
   "cell_type": "code",
   "execution_count": 590,
   "metadata": {
    "ExecuteTime": {
     "end_time": "2020-04-24T11:15:01.500225Z",
     "start_time": "2020-04-24T11:15:01.333799Z"
    },
    "scrolled": true
   },
   "outputs": [
    {
     "name": "stdout",
     "output_type": "stream",
     "text": [
      "Without Outlier\n"
     ]
    },
    {
     "data": {
      "text/html": [
       "<div>\n",
       "<style scoped>\n",
       "    .dataframe tbody tr th:only-of-type {\n",
       "        vertical-align: middle;\n",
       "    }\n",
       "\n",
       "    .dataframe tbody tr th {\n",
       "        vertical-align: top;\n",
       "    }\n",
       "\n",
       "    .dataframe thead th {\n",
       "        text-align: right;\n",
       "    }\n",
       "</style>\n",
       "<table border=\"1\" class=\"dataframe\">\n",
       "  <thead>\n",
       "    <tr style=\"text-align: right;\">\n",
       "      <th></th>\n",
       "      <th>nPeople</th>\n",
       "      <th>%Approved</th>\n",
       "    </tr>\n",
       "  </thead>\n",
       "  <tbody>\n",
       "    <tr>\n",
       "      <td>Bigger</td>\n",
       "      <td>20581</td>\n",
       "      <td>0.607356</td>\n",
       "    </tr>\n",
       "    <tr>\n",
       "      <td>Less</td>\n",
       "      <td>111</td>\n",
       "      <td>90.990991</td>\n",
       "    </tr>\n",
       "    <tr>\n",
       "      <td>Equal</td>\n",
       "      <td>8675</td>\n",
       "      <td>96.887608</td>\n",
       "    </tr>\n",
       "  </tbody>\n",
       "</table>\n",
       "</div>"
      ],
      "text/plain": [
       "        nPeople  %Approved\n",
       "Bigger    20581   0.607356\n",
       "Less        111  90.990991\n",
       "Equal      8675  96.887608"
      ]
     },
     "execution_count": 590,
     "metadata": {},
     "output_type": "execute_result"
    }
   ],
   "source": [
    "tsa_without = tsa.iloc[idx]\n",
    "\n",
    "print('Without Outlier')\n",
    "\n",
    "pd.DataFrame({'nPeople' : [len(tsa_without[tsa_without['Amount Differences'] > 0]), len(tsa_without[tsa_without['Amount Differences'] < 0])\n",
    "             ,len(tsa_without[tsa_without['Amount Differences'] == 0])],\n",
    "             '%Approved' : [(sum(tsa_without[tsa_without['Amount Differences'] > 0]['Status'] == 'Approved')/len(tsa_without[tsa_without['Amount Differences'] > 0]))*100,\n",
    "                           (sum(tsa_without[tsa_without['Amount Differences'] < 0]['Status'] == 'Approved')/len(tsa_without[tsa_without['Amount Differences'] < 0]))*100,\n",
    "                           (sum(tsa_without[tsa_without['Amount Differences'] == 0]['Status'] == 'Approved')/len(tsa_without[tsa_without['Amount Differences'] == 0]))*100]}, index = ['Bigger', 'Less', 'Equal'])"
   ]
  },
  {
   "cell_type": "code",
   "execution_count": 591,
   "metadata": {
    "ExecuteTime": {
     "end_time": "2020-04-24T11:15:01.542219Z",
     "start_time": "2020-04-24T11:15:01.505205Z"
    }
   },
   "outputs": [
    {
     "data": {
      "text/plain": [
       "127"
      ]
     },
     "execution_count": 591,
     "metadata": {},
     "output_type": "execute_result"
    }
   ],
   "source": [
    "sum(tsa[tsa['Amount Differences'] > 0]['Status'] == 'Approved')"
   ]
  },
  {
   "cell_type": "markdown",
   "metadata": {
    "ExecuteTime": {
     "end_time": "2020-04-24T11:09:02.757333Z",
     "start_time": "2020-04-24T11:09:02.749109Z"
    }
   },
   "source": [
    "Setuju, namun sangat sedikit yang disetujui (hanya 0.6%)."
   ]
  },
  {
   "cell_type": "markdown",
   "metadata": {},
   "source": [
    "## Analysis\n",
    "\n",
    "We have try to cleaning some of the data that we have, and now we could try to done few analysis from the data we had. Try to answer this following question.\n",
    "\n",
    "### Question\n",
    "\n",
    "1. Is there Any relationship between the Airport and/or the Airline with the number of the claim that happen and the Claim Type? Also why is there a NaN in the Claim Type column?\n",
    "\n",
    "1. If you realize, there is many different classes in the Status and Disposition column. What pattern you could find in these 2 columns because of this classes variation? is there any relation with the other columns?"
   ]
  },
  {
   "cell_type": "markdown",
   "metadata": {},
   "source": [
    "#### No. 1"
   ]
  },
  {
   "cell_type": "code",
   "execution_count": 592,
   "metadata": {
    "ExecuteTime": {
     "end_time": "2020-04-24T11:15:01.692488Z",
     "start_time": "2020-04-24T11:15:01.547007Z"
    },
    "scrolled": false
   },
   "outputs": [
    {
     "data": {
      "text/plain": [
       "Index(['Claim Number', 'Date Received', 'Incident Date', 'Airport Code',\n",
       "       'Airport Name', 'Airline Name', 'Claim Type', 'Claim Site', 'Item',\n",
       "       'Claim Amount', 'Status', 'Close Amount', 'Disposition',\n",
       "       'Day Differences', 'Amount Differences'],\n",
       "      dtype='object')"
      ]
     },
     "execution_count": 592,
     "metadata": {},
     "output_type": "execute_result"
    }
   ],
   "source": [
    "tsa.columns"
   ]
  },
  {
   "cell_type": "code",
   "execution_count": 593,
   "metadata": {
    "ExecuteTime": {
     "end_time": "2020-04-24T11:15:01.852667Z",
     "start_time": "2020-04-24T11:15:01.697621Z"
    },
    "scrolled": false
   },
   "outputs": [
    {
     "data": {
      "text/html": [
       "<div>\n",
       "<style scoped>\n",
       "    .dataframe tbody tr th:only-of-type {\n",
       "        vertical-align: middle;\n",
       "    }\n",
       "\n",
       "    .dataframe tbody tr th {\n",
       "        vertical-align: top;\n",
       "    }\n",
       "\n",
       "    .dataframe thead th {\n",
       "        text-align: right;\n",
       "    }\n",
       "</style>\n",
       "<table border=\"1\" class=\"dataframe\">\n",
       "  <thead>\n",
       "    <tr style=\"text-align: right;\">\n",
       "      <th></th>\n",
       "      <th>Airport Name</th>\n",
       "      <th>Airline Name</th>\n",
       "      <th>Claim Type</th>\n",
       "    </tr>\n",
       "  </thead>\n",
       "  <tbody>\n",
       "    <tr>\n",
       "      <td>0</td>\n",
       "      <td>Miami International Airport</td>\n",
       "      <td>American Airlines</td>\n",
       "      <td>Property Damage</td>\n",
       "    </tr>\n",
       "    <tr>\n",
       "      <td>1</td>\n",
       "      <td>Phoenix Sky Harbor International</td>\n",
       "      <td>NaN</td>\n",
       "      <td>Property Damage</td>\n",
       "    </tr>\n",
       "    <tr>\n",
       "      <td>2</td>\n",
       "      <td>Baltimore/Washington Intl Thurgood Marshall</td>\n",
       "      <td>American Airlines</td>\n",
       "      <td>NaN</td>\n",
       "    </tr>\n",
       "    <tr>\n",
       "      <td>3</td>\n",
       "      <td>Baltimore/Washington Intl Thurgood Marshall</td>\n",
       "      <td>Southwest Airlines</td>\n",
       "      <td>Passenger Property Loss</td>\n",
       "    </tr>\n",
       "    <tr>\n",
       "      <td>4</td>\n",
       "      <td>Boston (Logan) International Airport</td>\n",
       "      <td>NaN</td>\n",
       "      <td>Property Damage</td>\n",
       "    </tr>\n",
       "  </tbody>\n",
       "</table>\n",
       "</div>"
      ],
      "text/plain": [
       "                                  Airport Name        Airline Name  \\\n",
       "0                  Miami International Airport   American Airlines   \n",
       "1             Phoenix Sky Harbor International                 NaN   \n",
       "2  Baltimore/Washington Intl Thurgood Marshall   American Airlines   \n",
       "3  Baltimore/Washington Intl Thurgood Marshall  Southwest Airlines   \n",
       "4         Boston (Logan) International Airport                 NaN   \n",
       "\n",
       "                Claim Type  \n",
       "0          Property Damage  \n",
       "1          Property Damage  \n",
       "2                      NaN  \n",
       "3  Passenger Property Loss  \n",
       "4          Property Damage  "
      ]
     },
     "execution_count": 593,
     "metadata": {},
     "output_type": "execute_result"
    }
   ],
   "source": [
    "tsa[['Airport Name', 'Airline Name', 'Claim Type']].head()"
   ]
  },
  {
   "cell_type": "code",
   "execution_count": 594,
   "metadata": {
    "ExecuteTime": {
     "end_time": "2020-04-24T11:15:02.018263Z",
     "start_time": "2020-04-24T11:15:01.861177Z"
    }
   },
   "outputs": [
    {
     "name": "stdout",
     "output_type": "stream",
     "text": [
      "Airport Name\n",
      "418\n",
      "\n",
      "\n",
      "Airline Name\n",
      "242\n",
      "\n",
      "\n",
      "Claim Type\n",
      "7\n",
      "\n",
      "\n"
     ]
    }
   ],
   "source": [
    "for i in ['Airport Name', 'Airline Name', 'Claim Type']:\n",
    "    print(i)\n",
    "    print(tsa[i].nunique())\n",
    "    print('\\n')"
   ]
  },
  {
   "cell_type": "code",
   "execution_count": 595,
   "metadata": {
    "ExecuteTime": {
     "end_time": "2020-04-24T11:15:02.769372Z",
     "start_time": "2020-04-24T11:15:02.022979Z"
    }
   },
   "outputs": [
    {
     "name": "stdout",
     "output_type": "stream",
     "text": [
      "John F. Kennedy International           2286\n",
      "Los Angeles International Airport       1813\n",
      "Newark International Airport            1747\n",
      "Chicago O'Hare International Airport    1712\n",
      "Orlando International Airport           1633\n",
      "Name: Airport Name, dtype: int64\n"
     ]
    },
    {
     "data": {
      "text/plain": [
       "Text(0, 0.5, 'Airport Name')"
      ]
     },
     "execution_count": 595,
     "metadata": {},
     "output_type": "execute_result"
    },
    {
     "data": {
      "image/png": "[encoded data removed]",
      "text/plain": [
       "<Figure size 432x288 with 1 Axes>"
      ]
     },
     "metadata": {
      "needs_background": "light"
     },
     "output_type": "display_data"
    }
   ],
   "source": [
    "print(tsa['Airport Name'].value_counts().head())\n",
    "\n",
    "airport = pd.DataFrame(tsa['Airport Name'].value_counts().head()).reset_index()\n",
    "g = sns.barplot(y = 'index', x = 'Airport Name', data = airport)\n",
    "g.set_xlabel('Count')\n",
    "g.set_ylabel('Airport Name')"
   ]
  },
  {
   "cell_type": "code",
   "execution_count": 596,
   "metadata": {
    "ExecuteTime": {
     "end_time": "2020-04-24T11:15:03.429234Z",
     "start_time": "2020-04-24T11:15:02.773826Z"
    }
   },
   "outputs": [
    {
     "name": "stdout",
     "output_type": "stream",
     "text": [
      "American Airlines       4377\n",
      "Delta Air Lines         4371\n",
      "UAL                     3507\n",
      "Southwest Airlines      3258\n",
      "Continental Airlines    2363\n",
      "Name: Airline Name, dtype: int64\n"
     ]
    },
    {
     "data": {
      "text/plain": [
       "Text(0, 0.5, 'Airline Name')"
      ]
     },
     "execution_count": 596,
     "metadata": {},
     "output_type": "execute_result"
    },
    {
     "data": {
      "image/png": "[encoded data removed]",
      "text/plain": [
       "<Figure size 432x288 with 1 Axes>"
      ]
     },
     "metadata": {
      "needs_background": "light"
     },
     "output_type": "display_data"
    }
   ],
   "source": [
    "print(tsa['Airline Name'].value_counts().head())\n",
    "\n",
    "airline = pd.DataFrame(tsa['Airline Name'].value_counts().head()).reset_index()\n",
    "g = sns.barplot(y = 'index', x = 'Airline Name', data = airline)\n",
    "g.set_xlabel('Count')\n",
    "g.set_ylabel('Airline Name')"
   ]
  },
  {
   "cell_type": "code",
   "execution_count": 597,
   "metadata": {
    "ExecuteTime": {
     "end_time": "2020-04-24T11:15:04.883826Z",
     "start_time": "2020-04-24T11:15:03.434068Z"
    },
    "scrolled": true
   },
   "outputs": [
    {
     "name": "stdout",
     "output_type": "stream",
     "text": [
      "John F. Kennedy International\n",
      "Passenger Property Loss    1607\n",
      "Property Damage             599\n",
      "Personal Injury              16\n",
      "Passenger Theft               6\n",
      "Motor Vehicle                 3\n",
      "Employee Loss (MPCECA)        2\n",
      "Name: Claim Type, dtype: int64\n",
      "\n",
      "\n",
      "Los Angeles International Airport\n",
      "Passenger Property Loss    1090\n",
      "Property Damage             602\n",
      "Personal Injury               8\n",
      "Passenger Theft               6\n",
      "Employee Loss (MPCECA)        5\n",
      "Motor Vehicle                 3\n",
      "Name: Claim Type, dtype: int64\n",
      "\n",
      "\n",
      "Newark International Airport\n",
      "Passenger Property Loss    1111\n",
      "Property Damage             545\n",
      "Personal Injury               9\n",
      "Passenger Theft               4\n",
      "Employee Loss (MPCECA)        4\n",
      "Motor Vehicle                 2\n",
      "Complaint                     1\n",
      "Name: Claim Type, dtype: int64\n",
      "\n",
      "\n",
      "Chicago O'Hare International Airport\n",
      "Passenger Property Loss    934\n",
      "Property Damage            693\n",
      "Personal Injury             10\n",
      "Employee Loss (MPCECA)       8\n",
      "Passenger Theft              4\n",
      "Motor Vehicle                3\n",
      "Name: Claim Type, dtype: int64\n",
      "\n",
      "\n",
      "Orlando International Airport\n",
      "Passenger Property Loss    1056\n",
      "Property Damage             514\n",
      "Personal Injury              13\n",
      "Passenger Theft               3\n",
      "Employee Loss (MPCECA)        3\n",
      "Motor Vehicle                 2\n",
      "Complaint                     1\n",
      "Name: Claim Type, dtype: int64\n",
      "\n",
      "\n"
     ]
    },
    {
     "data": {
      "text/plain": [
       "<matplotlib.legend.Legend at 0x7ff556962210>"
      ]
     },
     "execution_count": 597,
     "metadata": {},
     "output_type": "execute_result"
    },
    {
     "data": {
      "image/png": "[encoded data removed]",
      "text/plain": [
       "<Figure size 576x432 with 1 Axes>"
      ]
     },
     "metadata": {
      "needs_background": "light"
     },
     "output_type": "display_data"
    }
   ],
   "source": [
    "for i in tsa['Airport Name'].value_counts().head().index:\n",
    "    print(i)\n",
    "    print(tsa[tsa['Airport Name'] == i]['Claim Type'].value_counts())\n",
    "    print('\\n')\n",
    "\n",
    "plt.figure(figsize = (8,6))\n",
    "\n",
    "Airport = tsa[(tsa['Airport Name'] == 'John F. Kennedy International') | \n",
    "(tsa['Airport Name'] == 'Los Angeles International Airport') |\n",
    "(tsa['Airport Name'] == 'Newark International Airport') |\n",
    "(tsa['Airport Name'] == \"Chicago O'Hare International Airport\") |\n",
    "(tsa['Airport Name'] == 'Orlando International Airport')]\n",
    "\n",
    "sns.countplot(x = Airport['Airport Name'], hue = Airport['Claim Type'])\n",
    "plt.tight_layout()\n",
    "plt.xticks(rotation=45)\n",
    "plt.legend(loc = 'upper right')"
   ]
  },
  {
   "cell_type": "markdown",
   "metadata": {},
   "source": [
    "Dari analisa data di atas, dapat aku simpulkan bahwa kebanyakan airport memiliki masalah yang sama, yaitu adanya klaim <i>Passenger Property Loss</i> yang tinggi. Namun pada airport <i>John F. Kennedy International</i> tertinggi diantara airport lainnya."
   ]
  },
  {
   "cell_type": "code",
   "execution_count": 598,
   "metadata": {
    "ExecuteTime": {
     "end_time": "2020-04-24T11:15:05.044180Z",
     "start_time": "2020-04-24T11:15:04.890901Z"
    }
   },
   "outputs": [
    {
     "name": "stdout",
     "output_type": "stream",
     "text": [
      "American Airlines\n",
      "Miami International Airport                514\n",
      "Dallas-Fort Worth International Airport    447\n",
      "Chicago O'Hare International Airport       306\n",
      "Los Angeles International Airport          245\n",
      "John F. Kennedy International              229\n",
      "Name: Airport Name, dtype: int64\n",
      "\n",
      "\n",
      "Delta Air Lines\n",
      "Hartsfield-Jackson Atlanta International Airport    600\n",
      "John F. Kennedy International                       255\n",
      "Los Angeles International Airport                   167\n",
      "LaGuardia                                           159\n",
      "Cincinnati/Northern Kentucky International          141\n",
      "Name: Airport Name, dtype: int64\n",
      "\n",
      "\n",
      "UAL\n",
      "Chicago O'Hare International Airport    486\n",
      "Washington Dulles International         327\n",
      "Los Angeles International Airport       258\n",
      "Denver International Airport            193\n",
      "Newark International Airport            106\n",
      "Name: Airport Name, dtype: int64\n",
      "\n",
      "\n",
      "Southwest Airlines\n",
      "McCarran International                         187\n",
      "Phoenix Sky Harbor International               178\n",
      "Baltimore/Washington Intl Thurgood Marshall    176\n",
      "Orlando International Airport                  148\n",
      "Metropolitan Oakland International             141\n",
      "Name: Airport Name, dtype: int64\n",
      "\n",
      "\n",
      "Continental Airlines\n",
      "Newark International Airport                      624\n",
      "Houston - George Bush Intercontinental Airport    337\n",
      "Orlando International Airport                     100\n",
      "Phoenix Sky Harbor International                   80\n",
      "Cleveland Hopkins International                    64\n",
      "Name: Airport Name, dtype: int64\n",
      "\n",
      "\n"
     ]
    }
   ],
   "source": [
    "for i in tsa['Airline Name'].value_counts().head().index:\n",
    "    print(i)\n",
    "    print(tsa[tsa['Airline Name'] == i]['Airport Name'].value_counts().head())\n",
    "    print('\\n')\n"
   ]
  },
  {
   "cell_type": "code",
   "execution_count": 599,
   "metadata": {
    "ExecuteTime": {
     "end_time": "2020-04-24T11:15:06.402154Z",
     "start_time": "2020-04-24T11:15:05.050403Z"
    }
   },
   "outputs": [
    {
     "name": "stdout",
     "output_type": "stream",
     "text": [
      "American Airlines\n",
      "Passenger Property Loss    2646\n",
      "Property Damage            1507\n",
      "Personal Injury              24\n",
      "Passenger Theft              17\n",
      "Employee Loss (MPCECA)       16\n",
      "Name: Claim Type, dtype: int64\n",
      "\n",
      "\n",
      "Delta Air Lines\n",
      "Passenger Property Loss    2665\n",
      "Property Damage            1504\n",
      "Personal Injury              26\n",
      "Passenger Theft               8\n",
      "Employee Loss (MPCECA)        7\n",
      "Name: Claim Type, dtype: int64\n",
      "\n",
      "\n",
      "UAL\n",
      "Passenger Property Loss    2072\n",
      "Property Damage            1280\n",
      "Personal Injury              19\n",
      "Employee Loss (MPCECA)        7\n",
      "Passenger Theft               5\n",
      "Name: Claim Type, dtype: int64\n",
      "\n",
      "\n",
      "Southwest Airlines\n",
      "Passenger Property Loss    1955\n",
      "Property Damage            1165\n",
      "Personal Injury              28\n",
      "Passenger Theft              13\n",
      "Employee Loss (MPCECA)        7\n",
      "Name: Claim Type, dtype: int64\n",
      "\n",
      "\n",
      "Continental Airlines\n",
      "Passenger Property Loss    1539\n",
      "Property Damage             722\n",
      "Personal Injury              12\n",
      "Employee Loss (MPCECA)        7\n",
      "Passenger Theft               5\n",
      "Name: Claim Type, dtype: int64\n",
      "\n",
      "\n"
     ]
    },
    {
     "data": {
      "text/plain": [
       "(array([0, 1, 2, 3, 4]), <a list of 5 Text xticklabel objects>)"
      ]
     },
     "execution_count": 599,
     "metadata": {},
     "output_type": "execute_result"
    },
    {
     "data": {
      "image/png": "[encoded data removed]",
      "text/plain": [
       "<Figure size 576x432 with 1 Axes>"
      ]
     },
     "metadata": {
      "needs_background": "light"
     },
     "output_type": "display_data"
    }
   ],
   "source": [
    "for i in tsa['Airline Name'].value_counts().head().index:\n",
    "    print(i)\n",
    "    print(tsa[tsa['Airline Name'] == i]['Claim Type'].value_counts().head())\n",
    "    print('\\n')\n",
    "    \n",
    "Airlines = tsa[(tsa['Airline Name'] == 'American Airlines') |\n",
    "             (tsa['Airline Name'] == 'Delta Air Lines') | \n",
    "             (tsa['Airline Name'] == 'UAL') |\n",
    "             (tsa['Airline Name'] == 'Southwest Airlines') |\n",
    "             (tsa['Airline Name'] == 'Continental Airlines')]\n",
    "\n",
    "    \n",
    "plt.figure(figsize = (8,6))\n",
    "\n",
    "sns.countplot(x = Airlines['Airline Name'], hue = Airlines['Claim Type'])\n",
    "plt.tight_layout()\n",
    "plt.xticks(rotation=45)"
   ]
  },
  {
   "cell_type": "markdown",
   "metadata": {},
   "source": [
    "Berdasarkan analisa di atas, American Airlines dan Delta Air Lines juga memiliki angka yang tinggi untuk tipe klaim <i>Passenger Property Loss </i>. "
   ]
  },
  {
   "cell_type": "code",
   "execution_count": 600,
   "metadata": {
    "ExecuteTime": {
     "end_time": "2020-04-24T11:15:06.441171Z",
     "start_time": "2020-04-24T11:15:06.406461Z"
    },
    "scrolled": false
   },
   "outputs": [
    {
     "data": {
      "text/plain": [
       "Jet Blue               550\n",
       "Delta Air Lines        255\n",
       "American Airlines      229\n",
       "Delta Air Lines        179\n",
       "American Airlines      105\n",
       "Name: Airline Name, dtype: int64"
      ]
     },
     "execution_count": 600,
     "metadata": {},
     "output_type": "execute_result"
    }
   ],
   "source": [
    "tsa[tsa['Airport Name'] == 'John F. Kennedy International']['Airline Name'].value_counts().head()"
   ]
  },
  {
   "cell_type": "code",
   "execution_count": 601,
   "metadata": {
    "ExecuteTime": {
     "end_time": "2020-04-24T11:15:06.614488Z",
     "start_time": "2020-04-24T11:15:06.445302Z"
    },
    "scrolled": true
   },
   "outputs": [
    {
     "data": {
      "text/plain": [
       "UAL                   258\n",
       "American Airlines     245\n",
       "Delta Air Lines       167\n",
       "Southwest Airlines    133\n",
       "Alaska Airlines       132\n",
       "Name: Airline Name, dtype: int64"
      ]
     },
     "execution_count": 601,
     "metadata": {},
     "output_type": "execute_result"
    }
   ],
   "source": [
    "tsa[tsa['Airport Name'] == 'Los Angeles International Airport']['Airline Name'].value_counts().head()"
   ]
  },
  {
   "cell_type": "markdown",
   "metadata": {},
   "source": [
    "Menurut analisaku, seharusnya adanya hubungan antara nama airport dan nama airline dengan tipe klaim dan banyaknya klaim yang terjadi. Dikarenakan <i> John F. Kennedy International </i> dan <i> Los Angeles International Airport </i> boleh dikatakan sangat signifikan untuk data ini dan mereka memiliki masalah yang sama tingginya klaim <i> Passenger Property Loss </i>. Sedangkan untuk airline dengan tingginya klaim yang sama, ada <i> American Airlines </i> dan <i> Delta Air Lines </i>. Dan dari value_counts di atas, frekuensi <i> American Airlines </i> dan <i> Deltai Air Lines </i> berada di lima tertinggi untuk airport <i> John F. Kennedy International </i> dan <i> Los Angeles International Airport </i>. "
   ]
  },
  {
   "cell_type": "code",
   "execution_count": 602,
   "metadata": {
    "ExecuteTime": {
     "end_time": "2020-04-24T11:15:06.829093Z",
     "start_time": "2020-04-24T11:15:06.619332Z"
    },
    "scrolled": true
   },
   "outputs": [
    {
     "data": {
      "text/html": [
       "<div>\n",
       "<style scoped>\n",
       "    .dataframe tbody tr th:only-of-type {\n",
       "        vertical-align: middle;\n",
       "    }\n",
       "\n",
       "    .dataframe tbody tr th {\n",
       "        vertical-align: top;\n",
       "    }\n",
       "\n",
       "    .dataframe thead th {\n",
       "        text-align: right;\n",
       "    }\n",
       "</style>\n",
       "<table border=\"1\" class=\"dataframe\">\n",
       "  <thead>\n",
       "    <tr style=\"text-align: right;\">\n",
       "      <th></th>\n",
       "      <th>Claim Number</th>\n",
       "      <th>Date Received</th>\n",
       "      <th>Incident Date</th>\n",
       "      <th>Airport Code</th>\n",
       "      <th>Airport Name</th>\n",
       "      <th>Airline Name</th>\n",
       "      <th>Claim Type</th>\n",
       "      <th>Claim Site</th>\n",
       "      <th>Item</th>\n",
       "      <th>Claim Amount</th>\n",
       "      <th>Status</th>\n",
       "      <th>Close Amount</th>\n",
       "      <th>Disposition</th>\n",
       "      <th>Day Differences</th>\n",
       "      <th>Amount Differences</th>\n",
       "    </tr>\n",
       "  </thead>\n",
       "  <tbody>\n",
       "    <tr>\n",
       "      <td>2</td>\n",
       "      <td>15242</td>\n",
       "      <td>2002-07-12</td>\n",
       "      <td>2002-05-31</td>\n",
       "      <td>BWI</td>\n",
       "      <td>Baltimore/Washington Intl Thurgood Marshall</td>\n",
       "      <td>American Airlines</td>\n",
       "      <td>NaN</td>\n",
       "      <td>Other</td>\n",
       "      <td>Luggage (all types including footlockers)</td>\n",
       "      <td>200.0</td>\n",
       "      <td>Denied</td>\n",
       "      <td>0.00</td>\n",
       "      <td>Deny</td>\n",
       "      <td>42.0</td>\n",
       "      <td>200.00</td>\n",
       "    </tr>\n",
       "    <tr>\n",
       "      <td>6</td>\n",
       "      <td>18202</td>\n",
       "      <td>2002-09-16</td>\n",
       "      <td>2002-08-12</td>\n",
       "      <td>BWI</td>\n",
       "      <td>Baltimore/Washington Intl Thurgood Marshall</td>\n",
       "      <td>NaN</td>\n",
       "      <td>NaN</td>\n",
       "      <td>Checkpoint</td>\n",
       "      <td>Computer - Laptop</td>\n",
       "      <td>678.0</td>\n",
       "      <td>Approved</td>\n",
       "      <td>678.00</td>\n",
       "      <td>Approve in Full</td>\n",
       "      <td>35.0</td>\n",
       "      <td>0.00</td>\n",
       "    </tr>\n",
       "    <tr>\n",
       "      <td>7</td>\n",
       "      <td>16961</td>\n",
       "      <td>2002-09-18</td>\n",
       "      <td>2002-08-05</td>\n",
       "      <td>NaN</td>\n",
       "      <td>NaN</td>\n",
       "      <td>Delta Air Lines</td>\n",
       "      <td>NaN</td>\n",
       "      <td>Checked Baggage</td>\n",
       "      <td>Other</td>\n",
       "      <td>175.0</td>\n",
       "      <td>Settled</td>\n",
       "      <td>171.99</td>\n",
       "      <td>Settle</td>\n",
       "      <td>44.0</td>\n",
       "      <td>3.01</td>\n",
       "    </tr>\n",
       "    <tr>\n",
       "      <td>8</td>\n",
       "      <td>18394</td>\n",
       "      <td>2002-09-20</td>\n",
       "      <td>2002-08-12</td>\n",
       "      <td>BWI</td>\n",
       "      <td>Baltimore/Washington Intl Thurgood Marshall</td>\n",
       "      <td>Southwest Airlines</td>\n",
       "      <td>NaN</td>\n",
       "      <td>Checkpoint</td>\n",
       "      <td>Other</td>\n",
       "      <td>150.0</td>\n",
       "      <td>Denied</td>\n",
       "      <td>0.00</td>\n",
       "      <td>Deny</td>\n",
       "      <td>39.0</td>\n",
       "      <td>150.00</td>\n",
       "    </tr>\n",
       "    <tr>\n",
       "      <td>11</td>\n",
       "      <td>0616760L</td>\n",
       "      <td>2002-09-26</td>\n",
       "      <td>NaT</td>\n",
       "      <td>NaN</td>\n",
       "      <td>NaN</td>\n",
       "      <td>NaN</td>\n",
       "      <td>NaN</td>\n",
       "      <td>Other</td>\n",
       "      <td>Locks</td>\n",
       "      <td>NaN</td>\n",
       "      <td>Insufficient; one of the following items requi...</td>\n",
       "      <td>NaN</td>\n",
       "      <td>NaN</td>\n",
       "      <td>NaN</td>\n",
       "      <td>NaN</td>\n",
       "    </tr>\n",
       "    <tr>\n",
       "      <td>...</td>\n",
       "      <td>...</td>\n",
       "      <td>...</td>\n",
       "      <td>...</td>\n",
       "      <td>...</td>\n",
       "      <td>...</td>\n",
       "      <td>...</td>\n",
       "      <td>...</td>\n",
       "      <td>...</td>\n",
       "      <td>...</td>\n",
       "      <td>...</td>\n",
       "      <td>...</td>\n",
       "      <td>...</td>\n",
       "      <td>...</td>\n",
       "      <td>...</td>\n",
       "      <td>...</td>\n",
       "    </tr>\n",
       "    <tr>\n",
       "      <td>49785</td>\n",
       "      <td>2015011519916</td>\n",
       "      <td>2015-01-15</td>\n",
       "      <td>2014-11-24</td>\n",
       "      <td>JFK</td>\n",
       "      <td>John F. Kennedy International</td>\n",
       "      <td>American Airlines</td>\n",
       "      <td>NaN</td>\n",
       "      <td>Checked Baggage</td>\n",
       "      <td>Personal Accessories</td>\n",
       "      <td>NaN</td>\n",
       "      <td>NaN</td>\n",
       "      <td>NaN</td>\n",
       "      <td>NaN</td>\n",
       "      <td>52.0</td>\n",
       "      <td>NaN</td>\n",
       "    </tr>\n",
       "    <tr>\n",
       "      <td>50526</td>\n",
       "      <td>2015111826966</td>\n",
       "      <td>2015-11-18</td>\n",
       "      <td>2015-10-25</td>\n",
       "      <td>ORD</td>\n",
       "      <td>Chicago O'Hare International Airport</td>\n",
       "      <td>LOT Polish Airlines</td>\n",
       "      <td>NaN</td>\n",
       "      <td>Checked Baggage</td>\n",
       "      <td>Personal Electronics</td>\n",
       "      <td>NaN</td>\n",
       "      <td>NaN</td>\n",
       "      <td>NaN</td>\n",
       "      <td>NaN</td>\n",
       "      <td>24.0</td>\n",
       "      <td>NaN</td>\n",
       "    </tr>\n",
       "    <tr>\n",
       "      <td>50915</td>\n",
       "      <td>2015092825664</td>\n",
       "      <td>2015-09-11</td>\n",
       "      <td>2015-06-02</td>\n",
       "      <td>SJU</td>\n",
       "      <td>Luis Munoz Marin International</td>\n",
       "      <td>NaN</td>\n",
       "      <td>NaN</td>\n",
       "      <td>NaN</td>\n",
       "      <td>Personal Accessories</td>\n",
       "      <td>NaN</td>\n",
       "      <td>NaN</td>\n",
       "      <td>NaN</td>\n",
       "      <td>NaN</td>\n",
       "      <td>101.0</td>\n",
       "      <td>NaN</td>\n",
       "    </tr>\n",
       "    <tr>\n",
       "      <td>50931</td>\n",
       "      <td>2015081924982</td>\n",
       "      <td>2015-08-17</td>\n",
       "      <td>2015-06-28</td>\n",
       "      <td>SLC</td>\n",
       "      <td>Salt Lake City International Airport</td>\n",
       "      <td>USAir</td>\n",
       "      <td>NaN</td>\n",
       "      <td>Checkpoint</td>\n",
       "      <td>Personal Accessories</td>\n",
       "      <td>NaN</td>\n",
       "      <td>NaN</td>\n",
       "      <td>NaN</td>\n",
       "      <td>NaN</td>\n",
       "      <td>50.0</td>\n",
       "      <td>NaN</td>\n",
       "    </tr>\n",
       "    <tr>\n",
       "      <td>51059</td>\n",
       "      <td>2015100625929</td>\n",
       "      <td>2015-10-06</td>\n",
       "      <td>2015-09-08</td>\n",
       "      <td>NaN</td>\n",
       "      <td>NaN</td>\n",
       "      <td>NaN</td>\n",
       "      <td>NaN</td>\n",
       "      <td>NaN</td>\n",
       "      <td>NaN</td>\n",
       "      <td>NaN</td>\n",
       "      <td>NaN</td>\n",
       "      <td>NaN</td>\n",
       "      <td>NaN</td>\n",
       "      <td>28.0</td>\n",
       "      <td>NaN</td>\n",
       "    </tr>\n",
       "  </tbody>\n",
       "</table>\n",
       "<p>2031 rows × 15 columns</p>\n",
       "</div>"
      ],
      "text/plain": [
       "        Claim Number Date Received Incident Date Airport Code  \\\n",
       "2              15242    2002-07-12    2002-05-31          BWI   \n",
       "6              18202    2002-09-16    2002-08-12          BWI   \n",
       "7              16961    2002-09-18    2002-08-05          NaN   \n",
       "8              18394    2002-09-20    2002-08-12          BWI   \n",
       "11          0616760L    2002-09-26           NaT          NaN   \n",
       "...              ...           ...           ...          ...   \n",
       "49785  2015011519916    2015-01-15    2014-11-24          JFK   \n",
       "50526  2015111826966    2015-11-18    2015-10-25          ORD   \n",
       "50915  2015092825664    2015-09-11    2015-06-02          SJU   \n",
       "50931  2015081924982    2015-08-17    2015-06-28          SLC   \n",
       "51059  2015100625929    2015-10-06    2015-09-08          NaN   \n",
       "\n",
       "                                      Airport Name         Airline Name  \\\n",
       "2      Baltimore/Washington Intl Thurgood Marshall    American Airlines   \n",
       "6      Baltimore/Washington Intl Thurgood Marshall                  NaN   \n",
       "7                                              NaN      Delta Air Lines   \n",
       "8      Baltimore/Washington Intl Thurgood Marshall   Southwest Airlines   \n",
       "11                                             NaN                  NaN   \n",
       "...                                            ...                  ...   \n",
       "49785                John F. Kennedy International    American Airlines   \n",
       "50526         Chicago O'Hare International Airport  LOT Polish Airlines   \n",
       "50915               Luis Munoz Marin International                  NaN   \n",
       "50931         Salt Lake City International Airport                USAir   \n",
       "51059                                          NaN                  NaN   \n",
       "\n",
       "      Claim Type       Claim Site                                       Item  \\\n",
       "2            NaN            Other  Luggage (all types including footlockers)   \n",
       "6            NaN       Checkpoint                          Computer - Laptop   \n",
       "7            NaN  Checked Baggage                                      Other   \n",
       "8            NaN       Checkpoint                                      Other   \n",
       "11           NaN            Other                                      Locks   \n",
       "...          ...              ...                                        ...   \n",
       "49785        NaN  Checked Baggage                       Personal Accessories   \n",
       "50526        NaN  Checked Baggage                       Personal Electronics   \n",
       "50915        NaN              NaN                       Personal Accessories   \n",
       "50931        NaN       Checkpoint                       Personal Accessories   \n",
       "51059        NaN              NaN                                        NaN   \n",
       "\n",
       "       Claim Amount                                             Status  \\\n",
       "2             200.0                                             Denied   \n",
       "6             678.0                                           Approved   \n",
       "7             175.0                                            Settled   \n",
       "8             150.0                                             Denied   \n",
       "11              NaN  Insufficient; one of the following items requi...   \n",
       "...             ...                                                ...   \n",
       "49785           NaN                                                NaN   \n",
       "50526           NaN                                                NaN   \n",
       "50915           NaN                                                NaN   \n",
       "50931           NaN                                                NaN   \n",
       "51059           NaN                                                NaN   \n",
       "\n",
       "       Close Amount      Disposition  Day Differences  Amount Differences  \n",
       "2              0.00             Deny             42.0              200.00  \n",
       "6            678.00  Approve in Full             35.0                0.00  \n",
       "7            171.99           Settle             44.0                3.01  \n",
       "8              0.00             Deny             39.0              150.00  \n",
       "11              NaN              NaN              NaN                 NaN  \n",
       "...             ...              ...              ...                 ...  \n",
       "49785           NaN              NaN             52.0                 NaN  \n",
       "50526           NaN              NaN             24.0                 NaN  \n",
       "50915           NaN              NaN            101.0                 NaN  \n",
       "50931           NaN              NaN             50.0                 NaN  \n",
       "51059           NaN              NaN             28.0                 NaN  \n",
       "\n",
       "[2031 rows x 15 columns]"
      ]
     },
     "execution_count": 602,
     "metadata": {},
     "output_type": "execute_result"
    }
   ],
   "source": [
    "tsa[tsa['Claim Type'].isna()]"
   ]
  },
  {
   "cell_type": "code",
   "execution_count": 603,
   "metadata": {
    "ExecuteTime": {
     "end_time": "2020-04-24T11:15:06.864849Z",
     "start_time": "2020-04-24T11:15:06.834421Z"
    }
   },
   "outputs": [
    {
     "data": {
      "text/plain": [
       "2031"
      ]
     },
     "execution_count": 603,
     "metadata": {},
     "output_type": "execute_result"
    }
   ],
   "source": [
    "sum(tsa['Claim Type'].isna())"
   ]
  },
  {
   "cell_type": "code",
   "execution_count": 604,
   "metadata": {
    "ExecuteTime": {
     "end_time": "2020-04-24T11:15:06.985906Z",
     "start_time": "2020-04-24T11:15:06.873712Z"
    },
    "scrolled": true
   },
   "outputs": [
    {
     "data": {
      "text/plain": [
       "51066"
      ]
     },
     "execution_count": 604,
     "metadata": {},
     "output_type": "execute_result"
    }
   ],
   "source": [
    "len(tsa['Claim Type'])"
   ]
  },
  {
   "cell_type": "code",
   "execution_count": 605,
   "metadata": {
    "ExecuteTime": {
     "end_time": "2020-04-24T11:15:07.112943Z",
     "start_time": "2020-04-24T11:15:06.994727Z"
    }
   },
   "outputs": [
    {
     "data": {
      "text/plain": [
       "3.98"
      ]
     },
     "execution_count": 605,
     "metadata": {},
     "output_type": "execute_result"
    }
   ],
   "source": [
    "round((sum(tsa['Claim Type'].isna())/len(tsa['Claim Type']))*100,2)"
   ]
  },
  {
   "cell_type": "markdown",
   "metadata": {},
   "source": [
    "Menurut karena data missing value sangatlah kecil (Sekitar 4%), maka tebakanku adanya kelalaian manusia misalnya lupa menuliskan karena sudah panik. "
   ]
  },
  {
   "cell_type": "markdown",
   "metadata": {},
   "source": [
    "#### No. 2"
   ]
  },
  {
   "cell_type": "code",
   "execution_count": 606,
   "metadata": {
    "ExecuteTime": {
     "end_time": "2020-04-24T11:15:07.227627Z",
     "start_time": "2020-04-24T11:15:07.118250Z"
    }
   },
   "outputs": [
    {
     "data": {
      "text/plain": [
       "Index(['Claim Number', 'Date Received', 'Incident Date', 'Airport Code',\n",
       "       'Airport Name', 'Airline Name', 'Claim Type', 'Claim Site', 'Item',\n",
       "       'Claim Amount', 'Status', 'Close Amount', 'Disposition',\n",
       "       'Day Differences', 'Amount Differences'],\n",
       "      dtype='object')"
      ]
     },
     "execution_count": 606,
     "metadata": {},
     "output_type": "execute_result"
    }
   ],
   "source": [
    "tsa.columns"
   ]
  },
  {
   "cell_type": "code",
   "execution_count": 607,
   "metadata": {
    "ExecuteTime": {
     "end_time": "2020-04-24T11:15:07.356811Z",
     "start_time": "2020-04-24T11:15:07.232175Z"
    }
   },
   "outputs": [
    {
     "data": {
      "text/html": [
       "<div>\n",
       "<style scoped>\n",
       "    .dataframe tbody tr th:only-of-type {\n",
       "        vertical-align: middle;\n",
       "    }\n",
       "\n",
       "    .dataframe tbody tr th {\n",
       "        vertical-align: top;\n",
       "    }\n",
       "\n",
       "    .dataframe thead th {\n",
       "        text-align: right;\n",
       "    }\n",
       "</style>\n",
       "<table border=\"1\" class=\"dataframe\">\n",
       "  <thead>\n",
       "    <tr style=\"text-align: right;\">\n",
       "      <th></th>\n",
       "      <th>Status</th>\n",
       "      <th>Disposition</th>\n",
       "    </tr>\n",
       "  </thead>\n",
       "  <tbody>\n",
       "    <tr>\n",
       "      <td>0</td>\n",
       "      <td>Approved</td>\n",
       "      <td>Approve in Full</td>\n",
       "    </tr>\n",
       "    <tr>\n",
       "      <td>1</td>\n",
       "      <td>Canceled</td>\n",
       "      <td>NaN</td>\n",
       "    </tr>\n",
       "    <tr>\n",
       "      <td>2</td>\n",
       "      <td>Denied</td>\n",
       "      <td>Deny</td>\n",
       "    </tr>\n",
       "    <tr>\n",
       "      <td>3</td>\n",
       "      <td>Approved</td>\n",
       "      <td>Approve in Full</td>\n",
       "    </tr>\n",
       "    <tr>\n",
       "      <td>4</td>\n",
       "      <td>Canceled</td>\n",
       "      <td>NaN</td>\n",
       "    </tr>\n",
       "  </tbody>\n",
       "</table>\n",
       "</div>"
      ],
      "text/plain": [
       "     Status      Disposition\n",
       "0  Approved  Approve in Full\n",
       "1  Canceled              NaN\n",
       "2    Denied             Deny\n",
       "3  Approved  Approve in Full\n",
       "4  Canceled              NaN"
      ]
     },
     "execution_count": 607,
     "metadata": {},
     "output_type": "execute_result"
    }
   ],
   "source": [
    "tsa[['Status','Disposition']].head()"
   ]
  },
  {
   "cell_type": "code",
   "execution_count": 608,
   "metadata": {
    "ExecuteTime": {
     "end_time": "2020-04-24T11:15:07.469275Z",
     "start_time": "2020-04-24T11:15:07.367596Z"
    }
   },
   "outputs": [
    {
     "data": {
      "text/plain": [
       "array(['Approved', 'Canceled', 'Denied', 'Settled', 'In litigation',\n",
       "       'Insufficient; one of the following items required: sum certain; statement of fact; signature; location of incident; and date.',\n",
       "       'Closed as a contractor claim', 'In review', 'Claim entered',\n",
       "       'Deny', nan, 'Settle', 'Approve in Full'], dtype=object)"
      ]
     },
     "execution_count": 608,
     "metadata": {},
     "output_type": "execute_result"
    }
   ],
   "source": [
    "tsa['Status'].unique()"
   ]
  },
  {
   "cell_type": "code",
   "execution_count": 609,
   "metadata": {
    "ExecuteTime": {
     "end_time": "2020-04-24T11:15:07.578610Z",
     "start_time": "2020-04-24T11:15:07.474568Z"
    }
   },
   "outputs": [
    {
     "data": {
      "text/plain": [
       "array(['Approve in Full', nan, 'Deny', 'Settle'], dtype=object)"
      ]
     },
     "execution_count": 609,
     "metadata": {},
     "output_type": "execute_result"
    }
   ],
   "source": [
    "tsa['Disposition'].unique()"
   ]
  },
  {
   "cell_type": "code",
   "execution_count": 610,
   "metadata": {
    "ExecuteTime": {
     "end_time": "2020-04-24T11:15:08.004061Z",
     "start_time": "2020-04-24T11:15:07.590297Z"
    },
    "scrolled": true
   },
   "outputs": [
    {
     "name": "stdout",
     "output_type": "stream",
     "text": [
      "Status : Approved\n",
      "Approve in Full    8724\n",
      "Name: Disposition, dtype: int64\n",
      "\n",
      "\n",
      "Status : Canceled\n",
      "Settle             2\n",
      "Deny               2\n",
      "Approve in Full    1\n",
      "Name: Disposition, dtype: int64\n",
      "\n",
      "\n",
      "Status : Denied\n",
      "Deny    17125\n",
      "Name: Disposition, dtype: int64\n",
      "\n",
      "\n",
      "Status : Settled\n",
      "Settle    6970\n",
      "Name: Disposition, dtype: int64\n",
      "\n",
      "\n",
      "Status : In litigation\n",
      "Deny               15\n",
      "Approve in Full     1\n",
      "Name: Disposition, dtype: int64\n",
      "\n",
      "\n",
      "Status : Insufficient; one of the following items required: sum certain; statement of fact; signature; location of incident; and date.\n",
      "Deny               4\n",
      "Approve in Full    1\n",
      "Name: Disposition, dtype: int64\n",
      "\n",
      "\n",
      "Status : Closed as a contractor claim\n",
      "Series([], Name: Disposition, dtype: int64)\n",
      "\n",
      "\n",
      "Status : In review\n",
      "Deny    1\n",
      "Name: Disposition, dtype: int64\n",
      "\n",
      "\n",
      "Status : Claim entered\n",
      "Series([], Name: Disposition, dtype: int64)\n",
      "\n",
      "\n",
      "Status : Deny\n",
      "Series([], Name: Disposition, dtype: int64)\n",
      "\n",
      "\n",
      "Status : nan\n",
      "Series([], Name: Disposition, dtype: int64)\n",
      "\n",
      "\n",
      "Status : Settle\n",
      "Series([], Name: Disposition, dtype: int64)\n",
      "\n",
      "\n",
      "Status : Approve in Full\n",
      "Series([], Name: Disposition, dtype: int64)\n",
      "\n",
      "\n"
     ]
    }
   ],
   "source": [
    "for i in tsa['Status'].unique():\n",
    "    print('Status : {}'.format(i))\n",
    "    print(tsa[tsa['Status'] == i]['Disposition'].value_counts())\n",
    "    print('\\n')\n",
    "    \n",
    "    "
   ]
  },
  {
   "cell_type": "code",
   "execution_count": 611,
   "metadata": {
    "ExecuteTime": {
     "end_time": "2020-04-24T11:15:08.559654Z",
     "start_time": "2020-04-24T11:15:08.010622Z"
    }
   },
   "outputs": [
    {
     "data": {
      "text/plain": [
       "Text(0, 0.5, 'Disposition')"
      ]
     },
     "execution_count": 611,
     "metadata": {},
     "output_type": "execute_result"
    },
    {
     "data": {
      "image/png": "[encoded data removed]",
      "text/plain": [
       "<Figure size 432x288 with 1 Axes>"
      ]
     },
     "metadata": {
      "needs_background": "light"
     },
     "output_type": "display_data"
    }
   ],
   "source": [
    "val = pd.DataFrame(tsa['Disposition'].value_counts()).reset_index()\n",
    "g = sns.barplot(val['Disposition'], val['index'])\n",
    "g.set_xlabel('value_counts')\n",
    "g.set_ylabel('Disposition')"
   ]
  },
  {
   "cell_type": "code",
   "execution_count": 612,
   "metadata": {
    "ExecuteTime": {
     "end_time": "2020-04-24T11:15:09.324092Z",
     "start_time": "2020-04-24T11:15:08.564943Z"
    }
   },
   "outputs": [
    {
     "data": {
      "text/plain": [
       "Text(0, 0.5, 'Status')"
      ]
     },
     "execution_count": 612,
     "metadata": {},
     "output_type": "execute_result"
    },
    {
     "data": {
      "image/png": "[encoded data removed]",
      "text/plain": [
       "<Figure size 432x288 with 1 Axes>"
      ]
     },
     "metadata": {
      "needs_background": "light"
     },
     "output_type": "display_data"
    }
   ],
   "source": [
    "val = pd.DataFrame(tsa['Status'].value_counts().head(5)).reset_index()\n",
    "g = sns.barplot(val['Status'], val['index'])\n",
    "g.set_xlabel('value_counts')\n",
    "g.set_ylabel('Status')"
   ]
  },
  {
   "cell_type": "markdown",
   "metadata": {
    "ExecuteTime": {
     "end_time": "2020-04-24T07:12:48.021471Z",
     "start_time": "2020-04-24T07:12:47.975060Z"
    }
   },
   "source": [
    "Dapat dilihat bahwa dari angka-angkanya terdapat tiga kelas yaitu Approved, Denied, dan Settled. "
   ]
  },
  {
   "cell_type": "code",
   "execution_count": 613,
   "metadata": {
    "ExecuteTime": {
     "end_time": "2020-04-24T11:15:09.373557Z",
     "start_time": "2020-04-24T11:15:09.328870Z"
    }
   },
   "outputs": [],
   "source": [
    "import scipy.stats as ss\n",
    "\n",
    "\n",
    "def correlation_ratio(categories, measurement):\n",
    "    fcat,_ = pd.factorize(categories)\n",
    "    cat_num = np.max(fcat)+1\n",
    "    y_avg_array = np.zeros(cat_num)\n",
    "    n_array = np.zeros(cat_num)\n",
    "    for i in range(0, cat_num):\n",
    "        cat_measures = measurement[np.argwhere(fcat == i).flatten()]\n",
    "        n_array[i] = len(cat_measures)\n",
    "        y_avg_array[i] = np.average(cat_measures)\n",
    "    y_total_avg = np.sum(np.multiply(y_avg_array,n_array))/np.sum(n_array)\n",
    "    numerator = np.sum(np.multiply(n_array,np.power(np.subtract(y_avg_array, y_total_avg),2)))\n",
    "    denominator = np.sum(np.power(np.subtract(measurement,y_total_avg),2))\n",
    "    if numerator == 0:\n",
    "        eta = 0.0\n",
    "    else:\n",
    "        eta = np.sqrt(numerator/denominator)\n",
    "    return eta\n",
    "\n",
    "def cramers_v(x, y):\n",
    "    confusion_matrix = pd.crosstab(x,y)\n",
    "    chi2 = ss.chi2_contingency(confusion_matrix)[0]\n",
    "    n = confusion_matrix.sum().sum()\n",
    "    phi2 = chi2/n\n",
    "    r,k = confusion_matrix.shape\n",
    "    phi2corr = max(0, phi2-((k-1)*(r-1))/(n-1))\n",
    "    rcorr = r - ((r-1)**2)/(n-1)\n",
    "    kcorr = k - ((k-1)**2)/(n-1)\n",
    "    return np.sqrt(phi2corr/min((kcorr-1),(rcorr-1)))"
   ]
  },
  {
   "cell_type": "code",
   "execution_count": 614,
   "metadata": {
    "ExecuteTime": {
     "end_time": "2020-04-24T11:15:09.482570Z",
     "start_time": "2020-04-24T11:15:09.379440Z"
    },
    "scrolled": true
   },
   "outputs": [
    {
     "data": {
      "text/plain": [
       "Index(['Claim Number', 'Date Received', 'Incident Date', 'Airport Code',\n",
       "       'Airport Name', 'Airline Name', 'Claim Type', 'Claim Site', 'Item',\n",
       "       'Claim Amount', 'Status', 'Close Amount', 'Disposition',\n",
       "       'Day Differences', 'Amount Differences'],\n",
       "      dtype='object')"
      ]
     },
     "execution_count": 614,
     "metadata": {},
     "output_type": "execute_result"
    }
   ],
   "source": [
    "tsa.columns"
   ]
  },
  {
   "cell_type": "code",
   "execution_count": 615,
   "metadata": {
    "ExecuteTime": {
     "end_time": "2020-04-24T11:15:14.449418Z",
     "start_time": "2020-04-24T11:15:09.487120Z"
    }
   },
   "outputs": [
    {
     "name": "stdout",
     "output_type": "stream",
     "text": [
      "Cramer's V Correlation : Disposition and Status\n",
      "0.9997805219577847\n",
      "Cramer's V Correlation : Status and Status\n",
      "1.0\n",
      "\n",
      "\n",
      "Cramer's V Correlation : Disposition and Item\n",
      "0.20752389076649505\n",
      "Cramer's V Correlation : Status and Item\n",
      "0.30130603622286906\n",
      "\n",
      "\n",
      "Cramer's V Correlation : Disposition and Claim Type\n",
      "0.09528093132486984\n",
      "Cramer's V Correlation : Status and Claim Type\n",
      "0.09986183502672415\n",
      "\n",
      "\n",
      "Cramer's V Correlation : Disposition and Claim Site\n",
      "0.08182961854661384\n",
      "Cramer's V Correlation : Status and Claim Site\n",
      "0.12656820532429552\n",
      "\n",
      "\n",
      "Cramer's V Correlation : Disposition and Disposition\n",
      "1.0\n",
      "Cramer's V Correlation : Status and Disposition\n",
      "0.9997805219577847\n",
      "\n",
      "\n"
     ]
    }
   ],
   "source": [
    "for i in ['Status','Item','Claim Type', 'Claim Site', 'Disposition']:\n",
    "    print(\"Cramer's V Correlation : Disposition and {}\".format(i))\n",
    "    print(cramers_v(tsa['Disposition'],tsa[i]))\n",
    "    print(\"Cramer's V Correlation : Status and {}\".format(i))\n",
    "    print(cramers_v(tsa['Status'],tsa[i]))\n",
    "    print('\\n')"
   ]
  },
  {
   "cell_type": "markdown",
   "metadata": {},
   "source": [
    "Kolom <i>Item</i> memiliki korelasi yang cukup kuat pada analisa Cramer dengan Disposisi dan Status, mungkin barang-barang yang diklaim juga menjadi salah satu pertimbangan pada penetapan status."
   ]
  },
  {
   "cell_type": "code",
   "execution_count": 616,
   "metadata": {
    "ExecuteTime": {
     "end_time": "2020-04-24T11:15:14.517683Z",
     "start_time": "2020-04-24T11:15:14.456216Z"
    }
   },
   "outputs": [
    {
     "data": {
      "text/plain": [
       "nan"
      ]
     },
     "execution_count": 616,
     "metadata": {},
     "output_type": "execute_result"
    }
   ],
   "source": [
    "correlation_ratio(tsa['Disposition'], tsa['Close Amount'])"
   ]
  },
  {
   "cell_type": "code",
   "execution_count": 617,
   "metadata": {
    "ExecuteTime": {
     "end_time": "2020-04-24T11:15:14.945507Z",
     "start_time": "2020-04-24T11:15:14.531687Z"
    },
    "scrolled": true
   },
   "outputs": [
    {
     "name": "stdout",
     "output_type": "stream",
     "text": [
      "Spearman's Correlation\n",
      "              Disposition  Claim Amount\n",
      "Disposition      1.000000      0.141241\n",
      "Claim Amount     0.141241      1.000000\n",
      "\n",
      "\n",
      "Spearman's Correlation\n",
      "                    Disposition  Amount Differences\n",
      "Disposition            1.000000            0.830399\n",
      "Amount Differences     0.830399            1.000000\n",
      "\n",
      "\n",
      "Spearman's Correlation\n",
      "              Disposition  Close Amount\n",
      "Disposition      1.000000      0.676717\n",
      "Close Amount     0.676717      1.000000\n",
      "\n",
      "\n"
     ]
    }
   ],
   "source": [
    "for i in ['Claim Amount','Amount Differences','Close Amount']:\n",
    "    print(\"Spearman's Correlation\")\n",
    "    print(tsa[['Disposition',i]].apply(lambda x : pd.factorize(x)[0]).corr('spearman'))\n",
    "    print('\\n')"
   ]
  },
  {
   "cell_type": "markdown",
   "metadata": {},
   "source": [
    " "
   ]
  },
  {
   "cell_type": "code",
   "execution_count": 618,
   "metadata": {
    "ExecuteTime": {
     "end_time": "2020-04-24T11:15:15.412094Z",
     "start_time": "2020-04-24T11:15:14.949060Z"
    }
   },
   "outputs": [
    {
     "name": "stdout",
     "output_type": "stream",
     "text": [
      "Spearman's Correlation\n",
      "                Status  Claim Amount\n",
      "Status        1.000000      0.216488\n",
      "Claim Amount  0.216488      1.000000\n",
      "\n",
      "\n",
      "Spearman's Correlation\n",
      "                      Status  Amount Differences\n",
      "Status              1.000000           -0.207765\n",
      "Amount Differences -0.207765            1.000000\n",
      "\n",
      "\n",
      "Spearman's Correlation\n",
      "                Status  Close Amount\n",
      "Status        1.000000     -0.439555\n",
      "Close Amount -0.439555      1.000000\n",
      "\n",
      "\n"
     ]
    }
   ],
   "source": [
    "for i in ['Claim Amount','Amount Differences','Close Amount']:\n",
    "    print(\"Spearman's Correlation\")\n",
    "    print(tsa[['Status',i]].apply(lambda x : pd.factorize(x)[0]).corr('spearman'))\n",
    "    print('\\n')"
   ]
  },
  {
   "cell_type": "code",
   "execution_count": 619,
   "metadata": {
    "ExecuteTime": {
     "end_time": "2020-04-24T11:15:15.636474Z",
     "start_time": "2020-04-24T11:15:15.416941Z"
    }
   },
   "outputs": [
    {
     "name": "stdout",
     "output_type": "stream",
     "text": [
      "Pearson's Correlation\n",
      "              Disposition  Claim Amount\n",
      "Disposition      1.000000      0.098849\n",
      "Claim Amount     0.098849      1.000000\n",
      "\n",
      "\n",
      "Pearson's Correlation\n",
      "                    Disposition  Amount Differences\n",
      "Disposition            1.000000            0.423439\n",
      "Amount Differences     0.423439            1.000000\n",
      "\n",
      "\n",
      "Pearson's Correlation\n",
      "              Disposition  Close Amount\n",
      "Disposition      1.000000      0.228873\n",
      "Close Amount     0.228873      1.000000\n",
      "\n",
      "\n"
     ]
    }
   ],
   "source": [
    "for i in ['Claim Amount','Amount Differences','Close Amount']:\n",
    "    print(\"Pearson's Correlation\")\n",
    "    print(tsa[['Disposition',i]].apply(lambda x : pd.factorize(x)[0]).corr('pearson'))\n",
    "    print('\\n')"
   ]
  },
  {
   "cell_type": "code",
   "execution_count": 620,
   "metadata": {
    "ExecuteTime": {
     "end_time": "2020-04-24T11:15:15.851804Z",
     "start_time": "2020-04-24T11:15:15.652113Z"
    }
   },
   "outputs": [
    {
     "name": "stdout",
     "output_type": "stream",
     "text": [
      "Pearson's Correlation\n",
      "                Status  Claim Amount\n",
      "Status        1.000000      0.071594\n",
      "Claim Amount  0.071594      1.000000\n",
      "\n",
      "\n",
      "Pearson's Correlation\n",
      "                      Status  Amount Differences\n",
      "Status              1.000000           -0.166247\n",
      "Amount Differences -0.166247            1.000000\n",
      "\n",
      "\n",
      "Pearson's Correlation\n",
      "                Status  Close Amount\n",
      "Status        1.000000     -0.209302\n",
      "Close Amount -0.209302      1.000000\n",
      "\n",
      "\n"
     ]
    }
   ],
   "source": [
    "for i in ['Claim Amount','Amount Differences','Close Amount']:\n",
    "    print(\"Pearson's Correlation\")\n",
    "    print(tsa[['Status',i]].apply(lambda x : pd.factorize(x)[0]).corr('pearson'))\n",
    "    print('\\n')"
   ]
  },
  {
   "cell_type": "code",
   "execution_count": null,
   "metadata": {
    "ExecuteTime": {
     "end_time": "2020-04-24T08:03:24.432496Z",
     "start_time": "2020-04-24T08:03:18.968893Z"
    },
    "scrolled": true
   },
   "outputs": [],
   "source": []
  },
  {
   "cell_type": "markdown",
   "metadata": {},
   "source": [
    "## Bonus Question\n",
    "\n",
    "Could you find any interesting Insight from our data that you could explain? Try to explain it with the available data"
   ]
  },
  {
   "cell_type": "code",
   "execution_count": 621,
   "metadata": {
    "ExecuteTime": {
     "end_time": "2020-04-24T11:15:15.874220Z",
     "start_time": "2020-04-24T11:15:15.856538Z"
    }
   },
   "outputs": [
    {
     "data": {
      "text/plain": [
       "Index(['Claim Number', 'Date Received', 'Incident Date', 'Airport Code',\n",
       "       'Airport Name', 'Airline Name', 'Claim Type', 'Claim Site', 'Item',\n",
       "       'Claim Amount', 'Status', 'Close Amount', 'Disposition',\n",
       "       'Day Differences', 'Amount Differences'],\n",
       "      dtype='object')"
      ]
     },
     "execution_count": 621,
     "metadata": {},
     "output_type": "execute_result"
    }
   ],
   "source": [
    "tsa.columns"
   ]
  },
  {
   "cell_type": "code",
   "execution_count": 622,
   "metadata": {
    "ExecuteTime": {
     "end_time": "2020-04-24T11:15:16.009680Z",
     "start_time": "2020-04-24T11:15:15.880007Z"
    }
   },
   "outputs": [],
   "source": [
    "tsaD = tsa[(tsa['Claim Type'] == 'Property Damage') | (tsa['Claim Type'] == 'Passenger Property Loss')]"
   ]
  },
  {
   "cell_type": "code",
   "execution_count": 623,
   "metadata": {
    "ExecuteTime": {
     "end_time": "2020-04-24T11:15:16.697078Z",
     "start_time": "2020-04-24T11:15:16.015583Z"
    }
   },
   "outputs": [
    {
     "data": {
      "text/plain": [
       "Text(0, 0.5, 'item')"
      ]
     },
     "execution_count": 623,
     "metadata": {},
     "output_type": "execute_result"
    },
    {
     "data": {
      "image/png": "[encoded data removed]",
      "text/plain": [
       "<Figure size 432x432 with 1 Axes>"
      ]
     },
     "metadata": {
      "needs_background": "light"
     },
     "output_type": "display_data"
    }
   ],
   "source": [
    "plt.figure(figsize = (6,6))\n",
    "p = pd.DataFrame(tsaD['Item'].value_counts()).reset_index().head(6)\n",
    "p.drop(index = 0, inplace = True)\n",
    "sns.barplot(y = p['index'], x = p['Item'])\n",
    "plt.xlabel('count')\n",
    "plt.ylabel('item')"
   ]
  },
  {
   "cell_type": "code",
   "execution_count": null,
   "metadata": {},
   "outputs": [],
   "source": []
  },
  {
   "cell_type": "markdown",
   "metadata": {},
   "source": [
    "To create our dashboard, lets use only the data that was not outlier according to the Amount Differences. As we did not process all the NaN, just drop all those NaN. Save the file as 'tsa_claims_dashboard_ujian.csv', don't include the Index. As we don't want to have too much data in our dashboard, let's just sample 1000 data from our current data.\n",
    "\n",
    "Also, set the random seed to 101."
   ]
  },
  {
   "cell_type": "code",
   "execution_count": 624,
   "metadata": {
    "ExecuteTime": {
     "end_time": "2020-04-24T11:15:16.708595Z",
     "start_time": "2020-04-24T11:15:16.701221Z"
    }
   },
   "outputs": [],
   "source": [
    "np.random.seed(101)"
   ]
  },
  {
   "cell_type": "code",
   "execution_count": 625,
   "metadata": {
    "ExecuteTime": {
     "end_time": "2020-04-24T11:15:16.902190Z",
     "start_time": "2020-04-24T11:15:16.713364Z"
    }
   },
   "outputs": [
    {
     "name": "stderr",
     "output_type": "stream",
     "text": [
      "/home/user/anaconda3/lib/python3.7/site-packages/ipykernel_launcher.py:2: SettingWithCopyWarning: \n",
      "A value is trying to be set on a copy of a slice from a DataFrame\n",
      "\n",
      "See the caveats in the documentation: http://pandas.pydata.org/pandas-docs/stable/user_guide/indexing.html#returning-a-view-versus-a-copy\n",
      "  \n"
     ]
    }
   ],
   "source": [
    "tsad = tsa[(tsa['Amount Differences'] >= Q1_amount - (1.5*IQR)) & (tsa['Amount Differences'] <= Q3_amount + (1.5 * IQR))]\n",
    "tsad.dropna(inplace = True)\n",
    "tsad = tsad.sample(1000, random_state=np.random.seed(101))\n",
    "tsad.to_csv('tsa_claims_dashboard_ujian.csv',index = False)"
   ]
  },
  {
   "cell_type": "code",
   "execution_count": 626,
   "metadata": {
    "ExecuteTime": {
     "end_time": "2020-04-24T11:15:17.006820Z",
     "start_time": "2020-04-24T11:15:16.907355Z"
    }
   },
   "outputs": [
    {
     "data": {
      "text/html": [
       "<div>\n",
       "<style scoped>\n",
       "    .dataframe tbody tr th:only-of-type {\n",
       "        vertical-align: middle;\n",
       "    }\n",
       "\n",
       "    .dataframe tbody tr th {\n",
       "        vertical-align: top;\n",
       "    }\n",
       "\n",
       "    .dataframe thead th {\n",
       "        text-align: right;\n",
       "    }\n",
       "</style>\n",
       "<table border=\"1\" class=\"dataframe\">\n",
       "  <thead>\n",
       "    <tr style=\"text-align: right;\">\n",
       "      <th></th>\n",
       "      <th>Claim Number</th>\n",
       "      <th>Date Received</th>\n",
       "      <th>Incident Date</th>\n",
       "      <th>Airport Code</th>\n",
       "      <th>Airport Name</th>\n",
       "      <th>Airline Name</th>\n",
       "      <th>Claim Type</th>\n",
       "      <th>Claim Site</th>\n",
       "      <th>Item</th>\n",
       "      <th>Claim Amount</th>\n",
       "      <th>Status</th>\n",
       "      <th>Close Amount</th>\n",
       "      <th>Disposition</th>\n",
       "      <th>Day Differences</th>\n",
       "      <th>Amount Differences</th>\n",
       "    </tr>\n",
       "  </thead>\n",
       "  <tbody>\n",
       "    <tr>\n",
       "      <td>13486</td>\n",
       "      <td>2005013174898</td>\n",
       "      <td>2005-01-12</td>\n",
       "      <td>2004-12-20</td>\n",
       "      <td>BUF</td>\n",
       "      <td>Buffalo Niagara International</td>\n",
       "      <td>Continental Airlines</td>\n",
       "      <td>Property Damage</td>\n",
       "      <td>Checked Baggage</td>\n",
       "      <td>Cosmetics - Perfume; toilet articles; medicine...</td>\n",
       "      <td>81.19</td>\n",
       "      <td>Approved</td>\n",
       "      <td>81.19</td>\n",
       "      <td>Approve in Full</td>\n",
       "      <td>23.0</td>\n",
       "      <td>0.0</td>\n",
       "    </tr>\n",
       "    <tr>\n",
       "      <td>12542</td>\n",
       "      <td>2004122770950</td>\n",
       "      <td>2004-11-22</td>\n",
       "      <td>2004-11-07</td>\n",
       "      <td>SEA</td>\n",
       "      <td>Seattle-Tacoma International</td>\n",
       "      <td>Jet Blue</td>\n",
       "      <td>Passenger Property Loss</td>\n",
       "      <td>Checkpoint</td>\n",
       "      <td>Other</td>\n",
       "      <td>350.00</td>\n",
       "      <td>Denied</td>\n",
       "      <td>0.00</td>\n",
       "      <td>Deny</td>\n",
       "      <td>15.0</td>\n",
       "      <td>350.0</td>\n",
       "    </tr>\n",
       "    <tr>\n",
       "      <td>28747</td>\n",
       "      <td>2007121136344</td>\n",
       "      <td>2007-12-10</td>\n",
       "      <td>2007-12-07</td>\n",
       "      <td>CRW</td>\n",
       "      <td>Yeager; Charleston</td>\n",
       "      <td>Delta Air Lines</td>\n",
       "      <td>Passenger Property Loss</td>\n",
       "      <td>Checked Baggage</td>\n",
       "      <td>Locks</td>\n",
       "      <td>10.00</td>\n",
       "      <td>Denied</td>\n",
       "      <td>0.00</td>\n",
       "      <td>Deny</td>\n",
       "      <td>3.0</td>\n",
       "      <td>10.0</td>\n",
       "    </tr>\n",
       "    <tr>\n",
       "      <td>16720</td>\n",
       "      <td>2005070688338</td>\n",
       "      <td>2005-07-05</td>\n",
       "      <td>2005-06-03</td>\n",
       "      <td>OKC</td>\n",
       "      <td>Will Rogers World</td>\n",
       "      <td>UAL</td>\n",
       "      <td>Passenger Property Loss</td>\n",
       "      <td>Checked Baggage</td>\n",
       "      <td>Locks</td>\n",
       "      <td>20.00</td>\n",
       "      <td>Approved</td>\n",
       "      <td>20.00</td>\n",
       "      <td>Approve in Full</td>\n",
       "      <td>32.0</td>\n",
       "      <td>0.0</td>\n",
       "    </tr>\n",
       "    <tr>\n",
       "      <td>26260</td>\n",
       "      <td>2007060426211</td>\n",
       "      <td>2007-05-29</td>\n",
       "      <td>2007-05-20</td>\n",
       "      <td>DFW</td>\n",
       "      <td>Dallas-Fort Worth International Airport</td>\n",
       "      <td>Northwest Airlines</td>\n",
       "      <td>Passenger Property Loss</td>\n",
       "      <td>Checked Baggage</td>\n",
       "      <td>Tools - Manual (not in a vehicle)</td>\n",
       "      <td>44.88</td>\n",
       "      <td>Approved</td>\n",
       "      <td>44.88</td>\n",
       "      <td>Approve in Full</td>\n",
       "      <td>9.0</td>\n",
       "      <td>0.0</td>\n",
       "    </tr>\n",
       "    <tr>\n",
       "      <td>...</td>\n",
       "      <td>...</td>\n",
       "      <td>...</td>\n",
       "      <td>...</td>\n",
       "      <td>...</td>\n",
       "      <td>...</td>\n",
       "      <td>...</td>\n",
       "      <td>...</td>\n",
       "      <td>...</td>\n",
       "      <td>...</td>\n",
       "      <td>...</td>\n",
       "      <td>...</td>\n",
       "      <td>...</td>\n",
       "      <td>...</td>\n",
       "      <td>...</td>\n",
       "      <td>...</td>\n",
       "    </tr>\n",
       "    <tr>\n",
       "      <td>7479</td>\n",
       "      <td>2004051050775</td>\n",
       "      <td>2004-03-11</td>\n",
       "      <td>2004-01-24</td>\n",
       "      <td>MOB</td>\n",
       "      <td>Mobile Regional</td>\n",
       "      <td>Delta Air Lines</td>\n",
       "      <td>Property Damage</td>\n",
       "      <td>Checked Baggage</td>\n",
       "      <td>Luggage (all types including footlockers)</td>\n",
       "      <td>290.00</td>\n",
       "      <td>Settled</td>\n",
       "      <td>275.50</td>\n",
       "      <td>Settle</td>\n",
       "      <td>47.0</td>\n",
       "      <td>14.5</td>\n",
       "    </tr>\n",
       "    <tr>\n",
       "      <td>15081</td>\n",
       "      <td>2005040781877</td>\n",
       "      <td>2005-04-05</td>\n",
       "      <td>2005-03-08</td>\n",
       "      <td>EWR</td>\n",
       "      <td>Newark International Airport</td>\n",
       "      <td>Continental Airlines</td>\n",
       "      <td>Passenger Property Loss</td>\n",
       "      <td>Checked Baggage</td>\n",
       "      <td>Clothing - Shoes; belts; accessories; etc.</td>\n",
       "      <td>64.94</td>\n",
       "      <td>Approved</td>\n",
       "      <td>64.94</td>\n",
       "      <td>Approve in Full</td>\n",
       "      <td>28.0</td>\n",
       "      <td>0.0</td>\n",
       "    </tr>\n",
       "    <tr>\n",
       "      <td>25137</td>\n",
       "      <td>2007022821705</td>\n",
       "      <td>2007-02-27</td>\n",
       "      <td>2007-02-17</td>\n",
       "      <td>OGG</td>\n",
       "      <td>Kahului-Maui; HI</td>\n",
       "      <td>American Airlines</td>\n",
       "      <td>Passenger Property Loss</td>\n",
       "      <td>Checked Baggage</td>\n",
       "      <td>Clothing - Shoes; belts; accessories; etc.</td>\n",
       "      <td>45.00</td>\n",
       "      <td>Approved</td>\n",
       "      <td>45.00</td>\n",
       "      <td>Approve in Full</td>\n",
       "      <td>10.0</td>\n",
       "      <td>0.0</td>\n",
       "    </tr>\n",
       "    <tr>\n",
       "      <td>256</td>\n",
       "      <td>0616792L</td>\n",
       "      <td>2003-01-02</td>\n",
       "      <td>2002-11-28</td>\n",
       "      <td>STL</td>\n",
       "      <td>Lambert St. Louis International</td>\n",
       "      <td>American Airlines</td>\n",
       "      <td>Property Damage</td>\n",
       "      <td>Checkpoint</td>\n",
       "      <td>Luggage (all types including footlockers)</td>\n",
       "      <td>50.00</td>\n",
       "      <td>Approved</td>\n",
       "      <td>50.00</td>\n",
       "      <td>Approve in Full</td>\n",
       "      <td>35.0</td>\n",
       "      <td>0.0</td>\n",
       "    </tr>\n",
       "    <tr>\n",
       "      <td>1620</td>\n",
       "      <td>0515019L</td>\n",
       "      <td>2003-05-15</td>\n",
       "      <td>2003-04-13</td>\n",
       "      <td>HOU</td>\n",
       "      <td>William P. Hobby</td>\n",
       "      <td>AirTran Airlines</td>\n",
       "      <td>Passenger Property Loss</td>\n",
       "      <td>Checked Baggage</td>\n",
       "      <td>Clothing - Shoes; belts; accessories; etc.</td>\n",
       "      <td>186.00</td>\n",
       "      <td>Settled</td>\n",
       "      <td>93.00</td>\n",
       "      <td>Settle</td>\n",
       "      <td>32.0</td>\n",
       "      <td>93.0</td>\n",
       "    </tr>\n",
       "  </tbody>\n",
       "</table>\n",
       "<p>1000 rows × 15 columns</p>\n",
       "</div>"
      ],
      "text/plain": [
       "        Claim Number Date Received Incident Date Airport Code  \\\n",
       "13486  2005013174898    2005-01-12    2004-12-20          BUF   \n",
       "12542  2004122770950    2004-11-22    2004-11-07          SEA   \n",
       "28747  2007121136344    2007-12-10    2007-12-07          CRW   \n",
       "16720  2005070688338    2005-07-05    2005-06-03          OKC   \n",
       "26260  2007060426211    2007-05-29    2007-05-20          DFW   \n",
       "...              ...           ...           ...          ...   \n",
       "7479   2004051050775    2004-03-11    2004-01-24          MOB   \n",
       "15081  2005040781877    2005-04-05    2005-03-08          EWR   \n",
       "25137  2007022821705    2007-02-27    2007-02-17          OGG   \n",
       "256         0616792L    2003-01-02    2002-11-28          STL   \n",
       "1620        0515019L    2003-05-15    2003-04-13          HOU   \n",
       "\n",
       "                                  Airport Name          Airline Name  \\\n",
       "13486            Buffalo Niagara International  Continental Airlines   \n",
       "12542             Seattle-Tacoma International              Jet Blue   \n",
       "28747                       Yeager; Charleston       Delta Air Lines   \n",
       "16720                        Will Rogers World                   UAL   \n",
       "26260  Dallas-Fort Worth International Airport    Northwest Airlines   \n",
       "...                                        ...                   ...   \n",
       "7479                           Mobile Regional       Delta Air Lines   \n",
       "15081             Newark International Airport  Continental Airlines   \n",
       "25137                         Kahului-Maui; HI     American Airlines   \n",
       "256            Lambert St. Louis International     American Airlines   \n",
       "1620                          William P. Hobby      AirTran Airlines   \n",
       "\n",
       "                    Claim Type       Claim Site  \\\n",
       "13486          Property Damage  Checked Baggage   \n",
       "12542  Passenger Property Loss       Checkpoint   \n",
       "28747  Passenger Property Loss  Checked Baggage   \n",
       "16720  Passenger Property Loss  Checked Baggage   \n",
       "26260  Passenger Property Loss  Checked Baggage   \n",
       "...                        ...              ...   \n",
       "7479           Property Damage  Checked Baggage   \n",
       "15081  Passenger Property Loss  Checked Baggage   \n",
       "25137  Passenger Property Loss  Checked Baggage   \n",
       "256            Property Damage       Checkpoint   \n",
       "1620   Passenger Property Loss  Checked Baggage   \n",
       "\n",
       "                                                    Item  Claim Amount  \\\n",
       "13486  Cosmetics - Perfume; toilet articles; medicine...         81.19   \n",
       "12542                                              Other        350.00   \n",
       "28747                                              Locks         10.00   \n",
       "16720                                              Locks         20.00   \n",
       "26260                  Tools - Manual (not in a vehicle)         44.88   \n",
       "...                                                  ...           ...   \n",
       "7479           Luggage (all types including footlockers)        290.00   \n",
       "15081         Clothing - Shoes; belts; accessories; etc.         64.94   \n",
       "25137         Clothing - Shoes; belts; accessories; etc.         45.00   \n",
       "256            Luggage (all types including footlockers)         50.00   \n",
       "1620          Clothing - Shoes; belts; accessories; etc.        186.00   \n",
       "\n",
       "         Status  Close Amount      Disposition  Day Differences  \\\n",
       "13486  Approved         81.19  Approve in Full             23.0   \n",
       "12542    Denied          0.00             Deny             15.0   \n",
       "28747    Denied          0.00             Deny              3.0   \n",
       "16720  Approved         20.00  Approve in Full             32.0   \n",
       "26260  Approved         44.88  Approve in Full              9.0   \n",
       "...         ...           ...              ...              ...   \n",
       "7479    Settled        275.50           Settle             47.0   \n",
       "15081  Approved         64.94  Approve in Full             28.0   \n",
       "25137  Approved         45.00  Approve in Full             10.0   \n",
       "256    Approved         50.00  Approve in Full             35.0   \n",
       "1620    Settled         93.00           Settle             32.0   \n",
       "\n",
       "       Amount Differences  \n",
       "13486                 0.0  \n",
       "12542               350.0  \n",
       "28747                10.0  \n",
       "16720                 0.0  \n",
       "26260                 0.0  \n",
       "...                   ...  \n",
       "7479                 14.5  \n",
       "15081                 0.0  \n",
       "25137                 0.0  \n",
       "256                   0.0  \n",
       "1620                 93.0  \n",
       "\n",
       "[1000 rows x 15 columns]"
      ]
     },
     "execution_count": 626,
     "metadata": {},
     "output_type": "execute_result"
    }
   ],
   "source": [
    "tsad"
   ]
  },
  {
   "cell_type": "markdown",
   "metadata": {},
   "source": [
    "Export the data to your SQL database, and try to connect the database to the dashboard"
   ]
  },
  {
   "cell_type": "code",
   "execution_count": null,
   "metadata": {},
   "outputs": [],
   "source": []
  }
 ],
 "metadata": {
  "hide_input": false,
  "kernelspec": {
   "display_name": "Python 3",
   "language": "python",
   "name": "python3"
  },
  "language_info": {
   "codemirror_mode": {
    "name": "ipython",
    "version": 3
   },
   "file_extension": ".py",
   "mimetype": "text/x-python",
   "name": "python",
   "nbconvert_exporter": "python",
   "pygments_lexer": "ipython3",
   "version": "3.7.4"
  },
  "toc": {
   "base_numbering": 1,
   "nav_menu": {},
   "number_sections": true,
   "sideBar": true,
   "skip_h1_title": false,
   "title_cell": "Table of Contents",
   "title_sidebar": "Contents",
   "toc_cell": false,
   "toc_position": {},
   "toc_section_display": true,
   "toc_window_display": false
  },
  "varInspector": {
   "cols": {
    "lenName": 16,
    "lenType": 16,
    "lenVar": 40
   },
   "kernels_config": {
    "python": {
     "delete_cmd_postfix": "",
     "delete_cmd_prefix": "del ",
     "library": "var_list.py",
     "varRefreshCmd": "print(var_dic_list())"
    },
    "r": {
     "delete_cmd_postfix": ") ",
     "delete_cmd_prefix": "rm(",
     "library": "var_list.r",
     "varRefreshCmd": "cat(var_dic_list()) "
    }
   },
   "types_to_exclude": [
    "module",
    "function",
    "builtin_function_or_method",
    "instance",
    "_Feature"
   ],
   "window_display": false
  }
 },
 "nbformat": 4,
 "nbformat_minor": 2
}
